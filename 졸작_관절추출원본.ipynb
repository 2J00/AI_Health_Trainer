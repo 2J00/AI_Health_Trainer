{
 "cells": [
  {
   "cell_type": "markdown",
   "id": "eee8e361",
   "metadata": {},
   "source": [
    "# 1. 관절 & 각도 추출"
   ]
  },
  {
   "cell_type": "code",
   "execution_count": 1,
   "id": "c930baf3",
   "metadata": {},
   "outputs": [
    {
     "ename": "ModuleNotFoundError",
     "evalue": "No module named 'cv2'",
     "output_type": "error",
     "traceback": [
      "\u001b[1;31m---------------------------------------------------------------------------\u001b[0m",
      "\u001b[1;31mModuleNotFoundError\u001b[0m                       Traceback (most recent call last)",
      "Cell \u001b[1;32mIn[1], line 3\u001b[0m\n\u001b[0;32m      1\u001b[0m \u001b[38;5;66;03m# library\u001b[39;00m\n\u001b[0;32m      2\u001b[0m \u001b[38;5;28;01mimport\u001b[39;00m \u001b[38;5;21;01mmath\u001b[39;00m\n\u001b[1;32m----> 3\u001b[0m \u001b[38;5;28;01mimport\u001b[39;00m \u001b[38;5;21;01mcv2\u001b[39;00m\n\u001b[0;32m      4\u001b[0m \u001b[38;5;28;01mimport\u001b[39;00m \u001b[38;5;21;01mnumpy\u001b[39;00m \u001b[38;5;28;01mas\u001b[39;00m \u001b[38;5;21;01mnp\u001b[39;00m\n\u001b[0;32m      5\u001b[0m \u001b[38;5;28;01mimport\u001b[39;00m \u001b[38;5;21;01mpandas\u001b[39;00m \u001b[38;5;28;01mas\u001b[39;00m \u001b[38;5;21;01mpd\u001b[39;00m\n",
      "\u001b[1;31mModuleNotFoundError\u001b[0m: No module named 'cv2'"
     ]
    }
   ],
   "source": [
    "# library\n",
    "import math\n",
    "import cv2\n",
    "import numpy as np\n",
    "import pandas as pd\n",
    "from time import time\n",
    "import mediapipe as mp\n",
    "import matplotlib.pyplot as plt"
   ]
  },
  {
   "cell_type": "code",
   "execution_count": null,
   "id": "02cac5a4",
   "metadata": {},
   "outputs": [],
   "source": [
    "# load mediapipe pose\n",
    "mp_pose = mp.solutions.pose\n",
    "\n",
    "# mediapipe setting\n",
    "pose = mp_pose.Pose(static_image_mode=True, min_detection_confidence=0.3, model_complexity=2)\n",
    "# MIN_DETECTION_CONFIDENCE : 최소 감지 신뢰도\n",
    "# MIN_TRACKING_CONFIDENCE : 최소 트랙킹 신뢰도. 이미지 사람없으면 다음 이미지로 자동으로 넘어가서 추적하는데, static_image_mode=True라면 그 기능 무시하고 모든 이미지에서 실행.\n",
    "# MIN_TRACKING_CONFIDENCE : 값 높게하면 솔루션 견고성 높아지지만 학습시간 길어짐\n",
    "# model_complexity (0 or 1 or 2) : 랜드마크 정확도와 추론 지연 시간은 일반적으로 모델의 복잡성에 따라 증가\n",
    "\n",
    "# mediapipe drawing util\n",
    "mp_drawing = mp.solutions.drawing_utils "
   ]
  },
  {
   "cell_type": "code",
   "execution_count": null,
   "id": "13d21a65",
   "metadata": {},
   "outputs": [],
   "source": [
    "# define \"calculateAngle\" model\n",
    "    # Args :\n",
    "        ## landmark1 : 1st (x,y,z)\n",
    "        ## landmark2 : 2nd (x,y,z)\n",
    "        ## landmark3 : 3rd (x,y,z)\n",
    "    # Returns :\n",
    "        ## angle : between 1,2,3\n",
    "        \n",
    "def calculateAngle(landmark1, landmark2, landmark3):\n",
    "\n",
    "    # get landmarks\n",
    "    x1, y1= landmark1\n",
    "    x2, y2= landmark2\n",
    "    x3, y3= landmark3\n",
    "\n",
    "    # calculatate with math\n",
    "    # math.atan2(y, x) : 탄젠트의 역함수. atan과 다르게 atan2는 x축으로부터 반시계방향으로 각도를 계산. 이후 라디안 값으로 뱉어냄\n",
    "    # math.degrees : 라디안값을 각도로 변경해주는 함수\n",
    "    angle = math.degrees(math.atan2(y3 - y2, x3 - x2) - math.atan2(y1 - y2, x1 - x2))\n",
    "    \n",
    "    # find opposite angle\n",
    "    if angle < 0.0:\n",
    "        angle += 360\n",
    "    if angle >180.0:\n",
    "        angle = 360.0 - angle\n",
    "  \n",
    "    # iterate\n",
    "    return angle"
   ]
  },
  {
   "cell_type": "code",
   "execution_count": null,
   "id": "7a5c6c04",
   "metadata": {},
   "outputs": [],
   "source": [
    "# 두 측정점과 지면과의 각도 구하는 함수\n",
    "\n",
    "def calculateAngle2(landmark1, landmark2):\n",
    "\n",
    "    # get landmarks\n",
    "    x1, y1= landmark1\n",
    "    x2, y2= landmark2\n",
    "    x3 = x2\n",
    "    y3 = y2 + 1\n",
    "    \n",
    "    # calculate with math\n",
    "    angle = math.degrees(math.atan2(y3 - y2, x3 - x2) - math.atan2(y1 - y2, x1 - x2))\n",
    "    \n",
    "    # find opposite angle\n",
    "    if angle < 0.0:\n",
    "        angle += 360\n",
    "    if angle >180.0:\n",
    "        angle = 360.0 - angle\n",
    "  \n",
    "    # iterate\n",
    "    return angle"
   ]
  },
  {
   "cell_type": "code",
   "execution_count": null,
   "id": "7b3e880a",
   "metadata": {},
   "outputs": [],
   "source": [
    "# calculateAngle 함수와 기능은 같지만 다르게 짠 코드\n",
    "\n",
    "def calculateAngle3(landmark1, landmark2, landmark3):\n",
    "    x1, y1= landmark1\n",
    "    x2, y2= landmark2\n",
    "    x3, y3= landmark3\n",
    "    \n",
    "    # calculate angle\n",
    "    radians = np.arctan2(y3-y2, x3-x2) - np.arctan2(y1-y2, x1-x2)\n",
    "    angle = np.abs(radians*180.0/np.pi)\n",
    "    \n",
    "    if angle < 0.0:\n",
    "        angle +=360\n",
    "    \n",
    "    if angle >180.0:\n",
    "        angle = 360-angle\n",
    "        \n",
    "    return angle"
   ]
  },
  {
   "cell_type": "code",
   "execution_count": null,
   "id": "71b87d1e",
   "metadata": {},
   "outputs": [
    {
     "ename": "error",
     "evalue": "OpenCV(4.5.5) D:\\a\\opencv-python\\opencv-python\\opencv\\modules\\imgproc\\src\\color.cpp:182: error: (-215:Assertion failed) !_src.empty() in function 'cv::cvtColor'\n",
     "output_type": "error",
     "traceback": [
      "\u001b[1;31m---------------------------------------------------------------------------\u001b[0m",
      "\u001b[1;31merror\u001b[0m                                     Traceback (most recent call last)",
      "Input \u001b[1;32mIn [6]\u001b[0m, in \u001b[0;36m<cell line: 4>\u001b[1;34m()\u001b[0m\n\u001b[0;32m      6\u001b[0m sample_img \u001b[38;5;241m=\u001b[39m cv2\u001b[38;5;241m.\u001b[39mimread(\u001b[38;5;124m'\u001b[39m\u001b[38;5;124mC:\u001b[39m\u001b[38;5;130;01m\\\\\u001b[39;00m\u001b[38;5;124mUsers\u001b[39m\u001b[38;5;130;01m\\\\\u001b[39;00m\u001b[38;5;124muser\u001b[39m\u001b[38;5;130;01m\\\\\u001b[39;00m\u001b[38;5;124mgraduation_work\u001b[39m\u001b[38;5;130;01m\\\\\u001b[39;00m\u001b[38;5;124mdata\u001b[39m\u001b[38;5;130;01m\\\\\u001b[39;00m\u001b[38;5;124msample\u001b[39m\u001b[38;5;124m'\u001b[39m\u001b[38;5;241m+\u001b[39m\u001b[38;5;28mstr\u001b[39m(i)\u001b[38;5;241m+\u001b[39m\u001b[38;5;124m'\u001b[39m\u001b[38;5;124m.jpg\u001b[39m\u001b[38;5;124m'\u001b[39m)\n\u001b[0;32m      8\u001b[0m \u001b[38;5;66;03m# pose detection (RGB). 이미지에서 스켈레톤 구조 추정하는 단계\u001b[39;00m\n\u001b[1;32m----> 9\u001b[0m results \u001b[38;5;241m=\u001b[39m pose\u001b[38;5;241m.\u001b[39mprocess(\u001b[43mcv2\u001b[49m\u001b[38;5;241;43m.\u001b[39;49m\u001b[43mcvtColor\u001b[49m\u001b[43m(\u001b[49m\u001b[43msample_img\u001b[49m\u001b[43m,\u001b[49m\u001b[43m \u001b[49m\u001b[43mcv2\u001b[49m\u001b[38;5;241;43m.\u001b[39;49m\u001b[43mCOLOR_BGR2RGB\u001b[49m\u001b[43m)\u001b[49m)\n\u001b[0;32m     11\u001b[0m \u001b[38;5;66;03m# 추정한 스켈레톤 구조의 측정값(관절 x,y값)들 landmarks 변수의 저장\u001b[39;00m\n\u001b[0;32m     12\u001b[0m landmarks \u001b[38;5;241m=\u001b[39m results\u001b[38;5;241m.\u001b[39mpose_landmarks\u001b[38;5;241m.\u001b[39mlandmark\n",
      "\u001b[1;31merror\u001b[0m: OpenCV(4.5.5) D:\\a\\opencv-python\\opencv-python\\opencv\\modules\\imgproc\\src\\color.cpp:182: error: (-215:Assertion failed) !_src.empty() in function 'cv::cvtColor'\n"
     ]
    }
   ],
   "source": [
    "total = []\n",
    "\n",
    "# 이미지 수 만큼 반복수 설정\n",
    "for i in range(4):\n",
    "    # read image\n",
    "    sample_img = cv2.imread('C:\\\\Users\\\\user\\\\graduation_work\\\\data\\\\sample'+str(i)+'.jpg')\n",
    "    \n",
    "    # pose detection (RGB). 이미지에서 스켈레톤 구조 추정하는 단계\n",
    "    results = pose.process(cv2.cvtColor(sample_img, cv2.COLOR_BGR2RGB))\n",
    "    \n",
    "    # 추정한 스켈레톤 구조의 측정값(관절 x,y값)들 landmarks 변수의 저장\n",
    "    landmarks = results.pose_landmarks.landmark\n",
    "    \n",
    "    # 추정한 좌표 값의 신뢰도가 지정한 신뢰도보다 낮을 경우 그 이미지는 패스하고 다음 이미지로 넘어감\n",
    "    if landmarks[mp_pose.PoseLandmark.RIGHT_HIP.value].visibility < 0.7:\n",
    "        print(i,'번째 이미지의 right_hip 신뢰도가 0.7보다 낮습니다'); continue\n",
    "    if landmarks[mp_pose.PoseLandmark.RIGHT_KNEE.value].visibility < 0.7:\n",
    "        print(i,'번째 이미지의 right_knee 신뢰도가 0.7보다 낮습니다'); continue\n",
    "    if landmarks[mp_pose.PoseLandmark.RIGHT_ANKLE.value].visibility < 0.7:\n",
    "        print(i,'번째 이미지의 right_ankle 신뢰도가 0.7보다 낮습니다'); continue\n",
    "    if landmarks[mp_pose.PoseLandmark.RIGHT_SHOULDER.value].visibility < 0.7:\n",
    "        print(i,'번째 이미지의 right_shoulder 신뢰도가 0.7보다 낮습니다'); continue\n",
    "    if landmarks[mp_pose.PoseLandmark.RIGHT_FOOT_INDEX.value].visibility < 0.7:\n",
    "        print(i,'번째 이미지의 right_foot_index 신뢰도가 0.7보다 낮습니다'); continue\n",
    "\n",
    "    if landmarks[mp_pose.PoseLandmark.LEFT_HIP.value].visibility < 0.7:\n",
    "        print(i,'번째 이미지의 left_hip 신뢰도가 0.7보다 낮습니다'); continue\n",
    "    if landmarks[mp_pose.PoseLandmark.LEFT_KNEE.value].visibility < 0.7:\n",
    "        print(i,'번째 이미지의 left_knee 신뢰도가 0.7보다 낮습니다'); continue\n",
    "    if landmarks[mp_pose.PoseLandmark.LEFT_ANKLE.value].visibility < 0.7:\n",
    "        print(i,'번째 이미지의 left_ankle 신뢰도가 0.7보다 낮습니다'); continue\n",
    "    if landmarks[mp_pose.PoseLandmark.LEFT_SHOULDER.value].visibility < 0.7:\n",
    "        print(i,'번째 이미지의 left_shoulder 신뢰도가 0.7보다 낮습니다'); continue\n",
    "    if landmarks[mp_pose.PoseLandmark.LEFT_FOOT_INDEX.value].visibility < 0.7:\n",
    "        print(i,'번째 이미지의 left_foot_index 신뢰도가 0.7보다 낮습니다'); continue\n",
    "    \n",
    "    # squat 모델학습에 사용할 관절좌표 x,y 값만 리스트로 따로 구분하여 저장\n",
    "    right_hip = [landmarks[mp_pose.PoseLandmark.RIGHT_HIP.value].x, landmarks[mp_pose.PoseLandmark.RIGHT_HIP.value].y]\n",
    "    right_knee = [landmarks[mp_pose.PoseLandmark.RIGHT_KNEE.value].x, landmarks[mp_pose.PoseLandmark.RIGHT_KNEE.value].y]\n",
    "    right_ankle = [landmarks[mp_pose.PoseLandmark.RIGHT_ANKLE.value].x, landmarks[mp_pose.PoseLandmark.RIGHT_ANKLE.value].y]\n",
    "    right_shoulder = [landmarks[mp_pose.PoseLandmark.RIGHT_SHOULDER.value].x, landmarks[mp_pose.PoseLandmark.RIGHT_SHOULDER.value].y]\n",
    "    right_foot_index = [landmarks[mp_pose.PoseLandmark.RIGHT_FOOT_INDEX.value].x, landmarks[mp_pose.PoseLandmark.RIGHT_FOOT_INDEX.value].y]\n",
    "\n",
    "    left_hip = [landmarks[mp_pose.PoseLandmark.LEFT_HIP.value].x, landmarks[mp_pose.PoseLandmark.LEFT_HIP.value].y]\n",
    "    left_knee = [landmarks[mp_pose.PoseLandmark.LEFT_KNEE.value].x, landmarks[mp_pose.PoseLandmark.LEFT_KNEE.value].y]\n",
    "    left_ankle = [landmarks[mp_pose.PoseLandmark.LEFT_ANKLE.value].x, landmarks[mp_pose.PoseLandmark.LEFT_ANKLE.value].y]\n",
    "    left_shoulder = [landmarks[mp_pose.PoseLandmark.LEFT_SHOULDER.value].x, landmarks[mp_pose.PoseLandmark.LEFT_SHOULDER.value].y]\n",
    "    left_foot_index = [landmarks[mp_pose.PoseLandmark.LEFT_FOOT_INDEX.value].x, landmarks[mp_pose.PoseLandmark.LEFT_FOOT_INDEX.value].y]\n",
    "\n",
    "    # squat 모델학습에 사용할 각도변수 생성 (총 6개 변수, 관절 x,y 좌표값을 이용하여 각도 계산한 것)\n",
    "    angle_right_knee = calculateAngle(right_hip, right_knee, right_ankle)\n",
    "    angle_left_knee = calculateAngle(left_hip, left_knee, left_ankle)\n",
    "    angle_right_hip = calculateAngle(right_shoulder, right_hip, right_knee)\n",
    "    angle_left_hip = calculateAngle(left_shoulder, left_hip, left_knee)\n",
    "    angle_right_ankle = calculateAngle(right_knee, right_ankle, right_foot_index)\n",
    "    angle_left_ankle = calculateAngle(left_knee, left_ankle, left_foot_index)\n",
    "    \n",
    "    # 생성한 변수들 하나의 리스트로 묶어서 저장\n",
    "    angle_list = []\n",
    "    angle_list.append(angle_right_knee)\n",
    "    angle_list.append(angle_left_knee)\n",
    "    angle_list.append(angle_right_hip)\n",
    "    angle_list.append(angle_left_hip)\n",
    "    angle_list.append(angle_right_ankle)\n",
    "    angle_list.append(angle_left_ankle)\n",
    "    \n",
    "    \n",
    "    # 이미지 시각화\n",
    "    if results.pose_landmarks:\n",
    "    \n",
    "        # draw skeleton\n",
    "        mp_drawing.draw_landmarks(image=sample_img, landmark_list=results.pose_landmarks, connections=mp_pose.POSE_CONNECTIONS)\n",
    "       \n",
    "        # plot on mat\n",
    "        fig = plt.figure(figsize = [10, 10])\n",
    "        plt.title(\"Output\");plt.axis('off');plt.imshow(sample_img[:,:,::-1]);plt.show()\n",
    "    \n",
    "    total.append(angle_list)"
   ]
  },
  {
   "cell_type": "code",
   "execution_count": null,
   "id": "501b6ab0",
   "metadata": {
    "scrolled": false
   },
   "outputs": [
    {
     "data": {
      "text/plain": [
       "[]"
      ]
     },
     "execution_count": 8,
     "metadata": {},
     "output_type": "execute_result"
    }
   ],
   "source": [
    "total"
   ]
  },
  {
   "cell_type": "code",
   "execution_count": null,
   "id": "e3d5695e",
   "metadata": {},
   "outputs": [
    {
     "ename": "AttributeError",
     "evalue": "'list' object has no attribute 'shape'",
     "output_type": "error",
     "traceback": [
      "\u001b[1;31m---------------------------------------------------------------------------\u001b[0m",
      "\u001b[1;31mAttributeError\u001b[0m                            Traceback (most recent call last)",
      "\u001b[1;32m~\\AppData\\Local\\Temp/ipykernel_10708/2749569533.py\u001b[0m in \u001b[0;36m<module>\u001b[1;34m\u001b[0m\n\u001b[1;32m----> 1\u001b[1;33m \u001b[0mtotal\u001b[0m\u001b[1;33m.\u001b[0m\u001b[0mshape\u001b[0m\u001b[1;33m\u001b[0m\u001b[1;33m\u001b[0m\u001b[0m\n\u001b[0m",
      "\u001b[1;31mAttributeError\u001b[0m: 'list' object has no attribute 'shape'"
     ]
    }
   ],
   "source": [
    "total.shape"
   ]
  },
  {
   "cell_type": "code",
   "execution_count": null,
   "id": "d0e00a2b",
   "metadata": {},
   "outputs": [],
   "source": [
    "# list를 dataframe로 변경\n",
    "df_angle = pd.DataFrame(total, columns=['right_knee', 'left_knee', 'right_hip', 'left_hip', 'right_ankle', 'left_ankle'])"
   ]
  },
  {
   "cell_type": "code",
   "execution_count": null,
   "id": "05c84c77",
   "metadata": {
    "scrolled": true
   },
   "outputs": [
    {
     "data": {
      "text/html": [
       "<div>\n",
       "<style scoped>\n",
       "    .dataframe tbody tr th:only-of-type {\n",
       "        vertical-align: middle;\n",
       "    }\n",
       "\n",
       "    .dataframe tbody tr th {\n",
       "        vertical-align: top;\n",
       "    }\n",
       "\n",
       "    .dataframe thead th {\n",
       "        text-align: right;\n",
       "    }\n",
       "</style>\n",
       "<table border=\"1\" class=\"dataframe\">\n",
       "  <thead>\n",
       "    <tr style=\"text-align: right;\">\n",
       "      <th></th>\n",
       "      <th>right_knee</th>\n",
       "      <th>left_knee</th>\n",
       "      <th>right_hip</th>\n",
       "      <th>left_hip</th>\n",
       "      <th>right_ankle</th>\n",
       "      <th>left_ankle</th>\n",
       "    </tr>\n",
       "  </thead>\n",
       "  <tbody>\n",
       "    <tr>\n",
       "      <th>0</th>\n",
       "      <td>86.201020</td>\n",
       "      <td>161.788648</td>\n",
       "      <td>106.377992</td>\n",
       "      <td>139.080494</td>\n",
       "      <td>77.133831</td>\n",
       "      <td>61.784404</td>\n",
       "    </tr>\n",
       "    <tr>\n",
       "      <th>1</th>\n",
       "      <td>165.170225</td>\n",
       "      <td>130.428959</td>\n",
       "      <td>157.385623</td>\n",
       "      <td>178.541860</td>\n",
       "      <td>167.327045</td>\n",
       "      <td>147.136870</td>\n",
       "    </tr>\n",
       "  </tbody>\n",
       "</table>\n",
       "</div>"
      ],
      "text/plain": [
       "   right_knee   left_knee   right_hip    left_hip  right_ankle  left_ankle\n",
       "0   86.201020  161.788648  106.377992  139.080494    77.133831   61.784404\n",
       "1  165.170225  130.428959  157.385623  178.541860   167.327045  147.136870"
      ]
     },
     "execution_count": 21,
     "metadata": {},
     "output_type": "execute_result"
    }
   ],
   "source": [
    "df_angle"
   ]
  },
  {
   "cell_type": "code",
   "execution_count": null,
   "id": "34cc4f0f",
   "metadata": {},
   "outputs": [],
   "source": [
    "# 엑셀로 저장\n",
    "df_angle.to_excel('C:\\\\Users\\\\user\\graduation_work\\\\Squat Land Mark3.xlsx', index=False, sheet_name='squat')"
   ]
  },
  {
   "cell_type": "code",
   "execution_count": null,
   "id": "96bd8ef9",
   "metadata": {},
   "outputs": [],
   "source": [
    "# csv 파일로 저장\n",
    "df_angle.to_csv('C:\\\\Users\\\\user\\\\graduation_work\\\\Squat Land Mark2.csv', index=False)"
   ]
  }
 ],
 "metadata": {
  "kernelspec": {
   "display_name": "Python 3 (ipykernel)",
   "language": "python",
   "name": "python3"
  },
  "language_info": {
   "codemirror_mode": {
    "name": "ipython",
    "version": 3
   },
   "file_extension": ".py",
   "mimetype": "text/x-python",
   "name": "python",
   "nbconvert_exporter": "python",
   "pygments_lexer": "ipython3",
   "version": "3.12.2"
  }
 },
 "nbformat": 4,
 "nbformat_minor": 5
}
