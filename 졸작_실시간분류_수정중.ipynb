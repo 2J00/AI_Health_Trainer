{
 "cells": [
  {
   "cell_type": "markdown",
   "id": "5d60c0e5",
   "metadata": {},
   "source": [
    "# 3. 실시간 영상으로 운동분류"
   ]
  },
  {
   "cell_type": "code",
   "execution_count": 2,
   "id": "06b60808",
   "metadata": {},
   "outputs": [],
   "source": [
    "# library\n",
    "import math\n",
    "import cv2\n",
    "import numpy as np\n",
    "import pandas as pd\n",
    "from time import time\n",
    "import mediapipe as mp\n",
    "import matplotlib.pyplot as plt\n",
    "import pickle\n",
    "import joblib\n",
    "import sklearn"
   ]
  },
  {
   "cell_type": "code",
   "execution_count": 6,
   "id": "13f7f81d",
   "metadata": {},
   "outputs": [],
   "source": [
    "# load mediapipe pose\n",
    "mp_pose = mp.solutions.pose\n",
    "\n",
    "# mediapipe setting\n",
    "pose = mp_pose.Pose(static_image_mode=True, min_detection_confidence=0.3, model_complexity=2)\n",
    "# MIN_DETECTION_CONFIDENCE : 최소 감지 신뢰도\n",
    "# MIN_TRACKING_CONFIDENCE : 최소 트랙킹 신뢰도. 이미지 사람없으면 다음 이미지로 자동으로 넘어가서 추적하는데, static_image_mode=True라면 그 기능 무시하고 모든 이미지에서 실행.\n",
    "# MIN_TRACKING_CONFIDENCE : 값 높게하면 솔루션 견고성 높아지지만 학습시간 길어짐\n",
    "# model_complexity (0 or 1 or 2) : 랜드마크 정확도와 추론 지연 시간은 일반적으로 모델의 복잡성에 따라 증가\n",
    "\n",
    "# mediapipe drawing util\n",
    "mp_drawing = mp.solutions.drawing_utils "
   ]
  },
  {
   "cell_type": "code",
   "execution_count": 7,
   "id": "2bcb6a3c",
   "metadata": {},
   "outputs": [
    {
     "name": "stdout",
     "output_type": "stream",
     "text": [
      "hello\n"
     ]
    }
   ],
   "source": [
    "print('hello')"
   ]
  },
  {
   "cell_type": "code",
   "execution_count": 8,
   "id": "bcbe4ec1",
   "metadata": {},
   "outputs": [],
   "source": [
    "# define \"calculateAngle\" model\n",
    "    # Args :\n",
    "        ## landmark1 : 1st (x,y,z)\n",
    "        ## landmark2 : 2nd (x,y,z)\n",
    "        ## landmark3 : 3rd (x,y,z)\n",
    "    # Returns :\n",
    "        ## angle : between 1,2,3\n",
    "        \n",
    "def calculateAngle(landmark1, landmark2, landmark3):\n",
    "\n",
    "    # get landmarks\n",
    "    x1, y1= landmark1\n",
    "    x2, y2= landmark2\n",
    "    x3, y3= landmark3\n",
    "\n",
    "    # calculatate with math\n",
    "    # math.atan2(y, x) : 탄젠트의 역함수. atan과 다르게 atan2는 x축으로부터 반시계방향으로 각도를 계산. 이후 라디안 값으로 뱉어냄\n",
    "    # math.degrees : 라디안값을 각도로 변경해주는 함수\n",
    "    angle = math.degrees(math.atan2(y3 - y2, x3 - x2) - math.atan2(y1 - y2, x1 - x2))\n",
    "    \n",
    "    # find opposite angle\n",
    "    if angle < 0.0:\n",
    "        angle += 360\n",
    "    if angle >180.0:\n",
    "        angle = 360.0 - angle\n",
    "  \n",
    "    # iterate\n",
    "    return angle"
   ]
  },
  {
   "cell_type": "code",
   "execution_count": 9,
   "id": "47011c2e",
   "metadata": {},
   "outputs": [],
   "source": [
    "# 두 측정점과 지면과의 각도 구하는 함수\n",
    "\n",
    "def calculateAngle2(landmark1, landmark2):\n",
    "\n",
    "    # get landmarks\n",
    "    x1, y1= landmark1\n",
    "    x2, y2= landmark2\n",
    "    x3 = x2\n",
    "    y3 = y2 + 1\n",
    "    \n",
    "    # calculate with math\n",
    "    angle = math.degrees(math.atan2(y3 - y2, x3 - x2) - math.atan2(y1 - y2, x1 - x2))\n",
    "    \n",
    "    # find opposite angle\n",
    "    if angle < 0.0:\n",
    "        angle += 360\n",
    "    if angle >180.0:\n",
    "        angle = 360.0 - angle\n",
    "  \n",
    "    # iterate\n",
    "    return angle"
   ]
  },
  {
   "cell_type": "code",
   "execution_count": 10,
   "id": "c3ffa6b6",
   "metadata": {},
   "outputs": [],
   "source": [
    "# calculateAngle 함수와 기능은 같지만 다르게 짠 코드\n",
    "\n",
    "def calculateAngle3(landmark1, landmark2, landmark3):\n",
    "    x1, y1= landmark1\n",
    "    x2, y2= landmark2\n",
    "    x3, y3= landmark3\n",
    "    \n",
    "    # calculate angle\n",
    "    radians = np.arctan2(y3-y2, x3-x2) - np.arctan2(y1-y2, x1-x2)\n",
    "    angle = np.abs(radians*180.0/np.pi)\n",
    "    \n",
    "    if angle < 0.0:\n",
    "        angle +=360\n",
    "    \n",
    "    if angle >180.0:\n",
    "        angle = 360-angle\n",
    "        \n",
    "    return angle"
   ]
  },
  {
   "cell_type": "code",
   "execution_count": 11,
   "id": "cf6aa3d9",
   "metadata": {},
   "outputs": [
    {
     "ename": "FileNotFoundError",
     "evalue": "[Errno 2] No such file or directory: 'RF_model.pkl'",
     "output_type": "error",
     "traceback": [
      "\u001b[1;31m---------------------------------------------------------------------------\u001b[0m",
      "\u001b[1;31mFileNotFoundError\u001b[0m                         Traceback (most recent call last)",
      "Input \u001b[1;32mIn [11]\u001b[0m, in \u001b[0;36m<cell line: 2>\u001b[1;34m()\u001b[0m\n\u001b[0;32m      1\u001b[0m \u001b[38;5;66;03m# 미리 학습한 로지스틱 모델 불러오기\u001b[39;00m\n\u001b[1;32m----> 2\u001b[0m load_model \u001b[38;5;241m=\u001b[39m \u001b[43mjoblib\u001b[49m\u001b[38;5;241;43m.\u001b[39;49m\u001b[43mload\u001b[49m\u001b[43m(\u001b[49m\u001b[38;5;124;43m'\u001b[39;49m\u001b[38;5;124;43mRF_model.pkl\u001b[39;49m\u001b[38;5;124;43m'\u001b[39;49m\u001b[43m)\u001b[49m\n",
      "File \u001b[1;32m~\\anaconda3\\envs\\cap\\lib\\site-packages\\joblib\\numpy_pickle.py:579\u001b[0m, in \u001b[0;36mload\u001b[1;34m(filename, mmap_mode)\u001b[0m\n\u001b[0;32m    577\u001b[0m         obj \u001b[38;5;241m=\u001b[39m _unpickle(fobj)\n\u001b[0;32m    578\u001b[0m \u001b[38;5;28;01melse\u001b[39;00m:\n\u001b[1;32m--> 579\u001b[0m     \u001b[38;5;28;01mwith\u001b[39;00m \u001b[38;5;28;43mopen\u001b[39;49m\u001b[43m(\u001b[49m\u001b[43mfilename\u001b[49m\u001b[43m,\u001b[49m\u001b[43m \u001b[49m\u001b[38;5;124;43m'\u001b[39;49m\u001b[38;5;124;43mrb\u001b[39;49m\u001b[38;5;124;43m'\u001b[39;49m\u001b[43m)\u001b[49m \u001b[38;5;28;01mas\u001b[39;00m f:\n\u001b[0;32m    580\u001b[0m         \u001b[38;5;28;01mwith\u001b[39;00m _read_fileobject(f, filename, mmap_mode) \u001b[38;5;28;01mas\u001b[39;00m fobj:\n\u001b[0;32m    581\u001b[0m             \u001b[38;5;28;01mif\u001b[39;00m \u001b[38;5;28misinstance\u001b[39m(fobj, \u001b[38;5;28mstr\u001b[39m):\n\u001b[0;32m    582\u001b[0m                 \u001b[38;5;66;03m# if the returned file object is a string, this means we\u001b[39;00m\n\u001b[0;32m    583\u001b[0m                 \u001b[38;5;66;03m# try to load a pickle file generated with an version of\u001b[39;00m\n\u001b[0;32m    584\u001b[0m                 \u001b[38;5;66;03m# Joblib so we load it with joblib compatibility function.\u001b[39;00m\n",
      "\u001b[1;31mFileNotFoundError\u001b[0m: [Errno 2] No such file or directory: 'RF_model.pkl'"
     ]
    }
   ],
   "source": [
    "# 미리 학습한 로지스틱 모델 불러오기\n",
    "load_model = joblib.load('RF_model.pkl')"
   ]
  },
  {
   "cell_type": "code",
   "execution_count": null,
   "id": "2fdf7e59",
   "metadata": {},
   "outputs": [],
   "source": [
    "# \"detecPose\", detection model setting\n",
    "    # Args :\n",
    "        ## image : input orginal image, to detect landmarks\n",
    "            ## pose : pose setup function, to detect pose\n",
    "                ## display : pose landmarks in 3D mat, return nothing\n",
    "    # Returns :\n",
    "        ## output_image : image with landmarks & pose\n",
    "        ## landmarks : list of detected landmarks (original)\n",
    "        \n",
    "def detectPose(image, pose, display = True):\n",
    "\n",
    "    # copy input image.\n",
    "    output_image = image.copy()\n",
    "\n",
    "    # Retrieve height & width\n",
    "    #height, width, _ = image.shape\n",
    "    #image = cv2.resize(image, (int(width * (1920 / height)), 1080))\n",
    "    \n",
    "    # pose detect\n",
    "    results = pose.process(cv2.cvtColor(image, cv2.COLOR_BGR2RGB))\n",
    "    # storing list for landmarks\n",
    "    #landmarks = []\n",
    "    \n",
    "    # landmarks detectection\n",
    "    #if results.pose_landmarks:\n",
    "    \n",
    "        \n",
    "        # iterate over the detected landmarks\n",
    "       # for landmark in results.pose_landmarks.landmark:\n",
    "            \n",
    "            # store landmarks into the list\n",
    "            #landmarks.append(landmark.x, landmark.y)\n",
    "        \n",
    "    angle_list = []\n",
    "\n",
    "    if results.pose_landmarks:\n",
    "        \n",
    "        # 추정한 스켈레톤 구조의 측정값(관절 x,y값)들 landmarks 변수의 저장\n",
    "        landmarks = results.pose_landmarks.landmark\n",
    "        #squat 모델학습에 사용할 관절좌표 x,y 값만 리스트로 따로 구분하여 저장\n",
    "        right_hip = [landmarks[mp_pose.PoseLandmark.RIGHT_HIP.value].x, landmarks[mp_pose.PoseLandmark.RIGHT_HIP.value].y]\n",
    "        right_knee = [landmarks[mp_pose.PoseLandmark.RIGHT_KNEE.value].x, landmarks[mp_pose.PoseLandmark.RIGHT_KNEE.value].y]\n",
    "        right_ankle = [landmarks[mp_pose.PoseLandmark.RIGHT_ANKLE.value].x, landmarks[mp_pose.PoseLandmark.RIGHT_ANKLE.value].y]\n",
    "        right_shoulder = [landmarks[mp_pose.PoseLandmark.RIGHT_SHOULDER.value].x, landmarks[mp_pose.PoseLandmark.RIGHT_SHOULDER.value].y]\n",
    "        right_foot_index = [landmarks[mp_pose.PoseLandmark.RIGHT_FOOT_INDEX.value].x, landmarks[mp_pose.PoseLandmark.RIGHT_FOOT_INDEX.value].y]\n",
    "        right_heel = [landmarks[mp_pose.PoseLandmark.RIGHT_HEEL.value].x, landmarks[mp_pose.PoseLandmark.RIGHT_HEEL.value].y]\n",
    "        right_ear = [landmarks[mp_pose.PoseLandmark.RIGHT_EAR.value].x, landmarks[mp_pose.PoseLandmark.RIGHT_EAR.value].y]\n",
    "        \n",
    "        \n",
    "        #left_hip = [landmarks[mp_pose.PoseLandmark.LEFT_HIP.value].x, landmarks[mp_pose.PoseLandmark.LEFT_HIP.value].y]\n",
    "        #left_knee = [landmarks[mp_pose.PoseLandmark.LEFT_KNEE.value].x, landmarks[mp_pose.PoseLandmark.LEFT_KNEE.value].y]\n",
    "        #left_ankle = [landmarks[mp_pose.PoseLandmark.LEFT_ANKLE.value].x, landmarks[mp_pose.PoseLandmark.LEFT_ANKLE.value].y]\n",
    "        #left_shoulder = [landmarks[mp_pose.PoseLandmark.LEFT_SHOULDER.value].x, landmarks[mp_pose.PoseLandmark.LEFT_SHOULDER.value].y]\n",
    "        #left_foot_index = [landmarks[mp_pose.PoseLandmark.LEFT_FOOT_INDEX.value].x, landmarks[mp_pose.PoseLandmark.LEFT_FOOT_INDEX.value].y]\n",
    "\n",
    "        # squat 모델학습에 사용할 각도변수 생성 (총 6개 변수, 관절 x,y 좌표값을 이용하여 각도 계산한 것)\n",
    "        angle_right_knee = calculateAngle(right_hip, right_knee, right_ankle)\n",
    "        angle_right_hip = calculateAngle(right_shoulder, right_hip, right_knee)\n",
    "        angle_right_ankle = calculateAngle(right_knee, right_ankle, right_foot_index)\n",
    "        angle_right_hip2 = calculateAngle2(right_shoulder, right_hip)\n",
    "        angle_right_neck = calculateAngle2(right_ear, right_shoulder)\n",
    "        angle_right_ankle2 = calculateAngle2(right_heel, right_foot_index)\n",
    "        \n",
    "        #angle_left_knee = calculateAngle(left_hip, left_knee, left_ankle)\n",
    "        #angle_left_hip = calculateAngle(left_shoulder, left_hip, left_knee)\n",
    "        \n",
    "        #angle_right_ankle = calculateAngle(right_knee, right_ankle, right_foot_index)\n",
    "        #angle_left_ankle = calculateAngle(left_knee, left_ankle, left_foot_index)\n",
    "    \n",
    "        # 생성한 변수들 하나의 리스트로 묶어서 저장\n",
    "        angle_list.append(angle_right_knee)\n",
    "        angle_list.append(angle_right_hip)\n",
    "        angle_list.append(angle_right_ankle)\n",
    "        angle_list.append(angle_right_hip2)\n",
    "        angle_list.append(angle_right_neck)\n",
    "        angle_list.append(angle_right_ankle2)\n",
    "\n",
    "        \n",
    "        #angle_list.append(angle_left_knee)\n",
    "        #angle_list.append(angle_left_hip)\n",
    "        #ngle_list.append(angle_right_ankle)\n",
    "        #angle_list.append(angle_left_ankle)\n",
    "        \n",
    "        # display\n",
    "        mp_drawing.draw_landmarks(image=output_image, landmark_list=results.pose_landmarks,\n",
    "                                  connections=mp_pose.POSE_CONNECTIONS)\n",
    "     # display\n",
    "    if display:\n",
    "    \n",
    "        #display input image (original) and the output image.\n",
    "        plt.figure(figsize=[22,22])\n",
    "        plt.subplot(121);plt.imshow(image[:,:,::-1]);plt.title(\"Original Image\");plt.axis('off');\n",
    "        plt.subplot(122);plt.imshow(output_image[:,:,::-1]);plt.title(\"Output Image\");plt.axis('off');\n",
    "    \n",
    "    \n",
    "        #display input image (original) and the output image.\n",
    "        plt.figure(figsize=[22,22])\n",
    "        plt.subplot(121);plt.imshow(image[:,:,::-1]);plt.title(\"Original Image\");plt.axis('off');\n",
    "        plt.subplot(122);plt.imshow(output_image[:,:,::-1]);plt.title(\"Output Image\");plt.axis('off');\n",
    "        \n",
    "    # Otherwise\n",
    "    else:\n",
    "        \n",
    "        # return the output image ('display' - 'image')\n",
    "        return output_image, angle_list"
   ]
  },
  {
   "cell_type": "code",
   "execution_count": null,
   "id": "ae642a8f",
   "metadata": {},
   "outputs": [],
   "source": [
    "# setup pose_video\n",
    "pose_video = mp_pose.Pose(static_image_mode=False, min_detection_confidence=0.5, model_complexity=1)\n",
    "\n",
    "# setting videocapture with webcam\n",
    "video = cv2.VideoCapture('Squat sample7.mp4')\n",
    "cv2.namedWindow('Pose Detection', cv2.WINDOW_NORMAL)\n",
    "video.set(3,1280)\n",
    "video.set(4,960)\n",
    "time1 = 0\n",
    "count = 0\n",
    "previous_knee_angle = 300\n",
    "previous_hip_angle = 300\n",
    "previous_ankle_angle = 300\n",
    "x_input = []\n",
    "check_point = 0\n",
    "cla = 'CLASS : None'\n",
    "state = 'stand'\n",
    "cc=0\n",
    "comment = []\n",
    "result = []\n",
    "dd = 0\n",
    "user_input = int(input(\"운동 횟수\"))\n",
    "\n",
    "# iterate video\n",
    "while video.isOpened():\n",
    "    \n",
    "    # read frame\n",
    "    ok, frame = video.read()\n",
    "    \n",
    "    # read frame x\n",
    "    if not ok:\n",
    "        \n",
    "        continue\n",
    "    \n",
    "    # horizontal flip (selfie) # 좌우반전 1이 좌우반전. 0은 상하반전\n",
    "    #frame = cv2.flip(frame, 0)\n",
    "    \n",
    "    # get height & width\n",
    "    frame_height, frame_width, _ =  frame.shape\n",
    "    \n",
    "    # resize frame (keep aspect ratio)\n",
    "    frame = cv2.resize(frame, (int(frame_width * (1920 / frame_height)), 1080))\n",
    "    \n",
    "    # \"detectPose\" model landmark detection\n",
    "    frame, angle = detectPose(frame, pose_video, display = False)\n",
    "    \n",
    "    \n",
    "    if len(angle) != 0:\n",
    "        \n",
    "        r_knee_angle = angle[0]\n",
    "        r_hip_angle = angle[1] \n",
    "        r_ankle_angle = angle[2]\n",
    "        \n",
    "        if r_knee_angle < 140:\n",
    "            if check_point == 0:\n",
    "                if (r_knee_angle > previous_knee_angle) & (r_hip_angle > previous_hip_angle) & (r_ankle_angle > previous_ankle_angle):\n",
    "                    state = 'squat'\n",
    "                    pred = load_model.predict([x_input])\n",
    "                    result.append(x_input)\n",
    "                    dd += 1\n",
    "                    if pred == 0:\n",
    "                        cla = 'CLASS : BAD'\n",
    "                        if x_input[4] < 132: #132\n",
    "                            comment.append('Raise your neck more')\n",
    "                            cc += 1\n",
    "                        if x_input[0] > 65: #79\n",
    "                            comment.append('Sit down more')\n",
    "                            cc += 1\n",
    "                        if x_input[3] < 125: #125\n",
    "                            comment.append('Lift your upper body')\n",
    "                            cc += 1\n",
    "                        if x_input[5] > 100: #100\n",
    "                            comment.append('Pull your knee back')\n",
    "                            cc+= 1\n",
    "                    else:\n",
    "                        cla = 'CLASS : GOOD' \n",
    "            \n",
    "                    check_point = 1\n",
    "                            \n",
    "    previous_knee_angle = r_knee_angle\n",
    "    previous_hip_angle = r_hip_angle\n",
    "    previous_ankle_angle = r_ankle_angle\n",
    "    x_input = angle\n",
    "    \n",
    "    if (state == 'squat') & (r_knee_angle > 155):\n",
    "        if cla == 'CLASS : GOOD':\n",
    "            count += 1\n",
    "        check_point = 0\n",
    "        state = 'stand'\n",
    "        cla = 'CLASS : None'\n",
    "        comment = []\n",
    "        cc = 0\n",
    "        \n",
    "        if dd == user_input:\n",
    "            video.release()\n",
    "            cv2.destroyAllWindows()\n",
    "        \n",
    "    # time set (frame)\n",
    "    time2 = time()\n",
    "\n",
    "    if (time2 - time1) > 0:\n",
    "        frames_per_second = 1.0 / (time2 - time1)\n",
    "        cv2.putText(frame, 'FPS: {}'.format(int(frames_per_second)), (10, 30),cv2.FONT_HERSHEY_PLAIN, 2, (0, 255, 0), 3)\n",
    "        \n",
    "    time1 = time2\n",
    " \n",
    "    cv2.putText(frame, 'COUNT: {}'.format(count), (10, 110) ,cv2.FONT_HERSHEY_PLAIN, 2, (0, 255, 0), 3)\n",
    "    if cla== 'CLASS : BAD':\n",
    "        cv2.putText(frame, cla, (10, 70) ,cv2.FONT_HERSHEY_PLAIN, 2, (0, 0, 255), 3)\n",
    "        \n",
    "        if cc == 1:\n",
    "            cv2.putText(frame, comment[0], (10, 150) ,cv2.FONT_HERSHEY_PLAIN, 2, (0, 0, 255), 3)\n",
    "        if cc == 2:\n",
    "            cv2.putText(frame, comment[0], (10, 150) ,cv2.FONT_HERSHEY_PLAIN, 2, (0, 0, 255), 3)\n",
    "            cv2.putText(frame, comment[1], (10, 190) ,cv2.FONT_HERSHEY_PLAIN, 2, (0, 0, 255), 3)\n",
    "        if cc == 3:\n",
    "            cv2.putText(frame, comment[0], (10, 150) ,cv2.FONT_HERSHEY_PLAIN, 2, (0, 0, 255), 3)\n",
    "            cv2.putText(frame, comment[1], (10, 190) ,cv2.FONT_HERSHEY_PLAIN, 2, (0, 0, 255), 3)\n",
    "            cv2.putText(frame, comment[2], (10, 230) ,cv2.FONT_HERSHEY_PLAIN, 2, (0, 0, 255), 3)\n",
    "        if cc == 4:\n",
    "            cv2.putText(frame, comment[0], (10, 150) ,cv2.FONT_HERSHEY_PLAIN, 2, (0, 0, 255), 3)\n",
    "            cv2.putText(frame, comment[1], (10, 190) ,cv2.FONT_HERSHEY_PLAIN, 2, (0, 0, 255), 3)\n",
    "            cv2.putText(frame, comment[2], (10, 230) ,cv2.FONT_HERSHEY_PLAIN, 2, (0, 0, 255), 3)\n",
    "            cv2.putText(frame, comment[3], (10, 270) ,cv2.FONT_HERSHEY_PLAIN, 2, (0, 0, 255), 3)\n",
    "        \n",
    "    elif cla == 'CLASS : GOOD':\n",
    "        cv2.putText(frame, cla, (10, 70) ,cv2.FONT_HERSHEY_PLAIN, 2, (255, 0, 0), 3)\n",
    "    else:\n",
    "        cv2.putText(frame, cla, (10, 70) ,cv2.FONT_HERSHEY_PLAIN, 2, (0, 255, 0), 3)\n",
    "    \n",
    "    # display frame.\n",
    "    cv2.imshow('Pose Detection', frame)\n",
    "    \n",
    "    k = cv2.waitKey(1) & 0xFF\n",
    "    \n",
    "    # close with ESC\n",
    "    if(k == 27):\n",
    "        \n",
    "        break\n",
    "        \n",
    "video.release()\n",
    "cv2.destroyAllWindows()\n",
    "    "
   ]
  },
  {
   "cell_type": "code",
   "execution_count": 164,
   "id": "15b9273f",
   "metadata": {},
   "outputs": [
    {
     "data": {
      "text/plain": [
       "[[53.1089250603801,\n",
       "  30.929879954368086,\n",
       "  73.2703754580228,\n",
       "  129.35157387636207,\n",
       "  165.7319629974911,\n",
       "  85.98985934668326],\n",
       " [56.82454137849214,\n",
       "  43.448973654952624,\n",
       "  74.46709921216872,\n",
       "  134.61568801637046,\n",
       "  171.5292435131502,\n",
       "  84.9086280317639],\n",
       " [64.93364931581453,\n",
       "  94.77340427888744,\n",
       "  64.36193725458848,\n",
       "  162.574562641992,\n",
       "  175.16149668928762,\n",
       "  86.65155529097365],\n",
       " [58.85113082754896,\n",
       "  86.2421663123204,\n",
       "  70.07830419355591,\n",
       "  152.24467067682963,\n",
       "  173.1828092544617,\n",
       "  106.39528231730793],\n",
       " [63.98109866093341,\n",
       "  47.91857560597705,\n",
       "  73.97426573425939,\n",
       "  128.32457030800572,\n",
       "  93.45976131104095,\n",
       "  92.34844215447458]]"
      ]
     },
     "execution_count": 164,
     "metadata": {},
     "output_type": "execute_result"
    }
   ],
   "source": [
    "result"
   ]
  },
  {
   "cell_type": "code",
   "execution_count": 168,
   "id": "eaeb69d0",
   "metadata": {},
   "outputs": [],
   "source": [
    "data = pd.DataFrame(m, columns=['right_knee', 'right_hip', 'right_ankle','right_hip2','right_neck','right_ankle2'])"
   ]
  },
  {
   "cell_type": "code",
   "execution_count": 10,
   "id": "8c4f5bf8",
   "metadata": {},
   "outputs": [],
   "source": [
    "data = pd.read_csv('mahalano.csv')"
   ]
  },
  {
   "cell_type": "code",
   "execution_count": 169,
   "id": "2011a149",
   "metadata": {},
   "outputs": [
    {
     "name": "stderr",
     "output_type": "stream",
     "text": [
      "C:\\Users\\user\\anaconda3\\envs\\health\\lib\\site-packages\\numpy\\core\\fromnumeric.py:3370: FutureWarning: In a future version, DataFrame.mean(axis=None) will return a scalar mean over the entire DataFrame. To retain the old behavior, use 'frame.mean(axis=0)' or just 'frame.mean()'\n",
      "  return mean(axis=axis, dtype=dtype, out=out, **kwargs)\n"
     ]
    }
   ],
   "source": [
    "#create new column in dataframe that contains Mahalanobis distance for each row\n",
    "data['mahalanobis'] = mahalanobis(x=data,data=data[['right_knee', 'right_hip', 'right_ankle','right_hip2','right_neck','right_ankle2']])"
   ]
  },
  {
   "cell_type": "code",
   "execution_count": 11,
   "id": "8e878c8f",
   "metadata": {},
   "outputs": [],
   "source": [
    "def mahalanobis(x=None, data=None, cov=None):\n",
    "\n",
    "    x_mu = x - np.mean(data)\n",
    "    if not cov:\n",
    "        cov = np.cov(data.values.T)\n",
    "    inv_covmat = np.linalg.inv(cov)\n",
    "    left = np.dot(x_mu, inv_covmat)\n",
    "    mahal = np.dot(left, x_mu.T)\n",
    "    return mahal.diagonal()"
   ]
  },
  {
   "cell_type": "code",
   "execution_count": 171,
   "id": "a28a0826",
   "metadata": {},
   "outputs": [
    {
     "data": {
      "text/plain": [
       "[<matplotlib.lines.Line2D at 0x24c57c241f0>]"
      ]
     },
     "execution_count": 171,
     "metadata": {},
     "output_type": "execute_result"
    },
    {
     "data": {
      "image/png": "[encoded data removed]",
      "text/plain": [
       "<Figure size 432x288 with 1 Axes>"
      ]
     },
     "metadata": {
      "needs_background": "light"
     },
     "output_type": "display_data"
    }
   ],
   "source": [
    "plt.plot(data.iloc[:,-1], 'k.')"
   ]
  },
  {
   "cell_type": "code",
   "execution_count": null,
   "id": "d8cdd1e5",
   "metadata": {},
   "outputs": [],
   "source": []
  },
  {
   "cell_type": "code",
   "execution_count": 102,
   "id": "9f454321",
   "metadata": {},
   "outputs": [],
   "source": [
    "data = pd.read_csv('pro.csv')"
   ]
  },
  {
   "cell_type": "code",
   "execution_count": 103,
   "id": "dda486c8",
   "metadata": {},
   "outputs": [],
   "source": [
    "data = data.iloc[:,-1]"
   ]
  },
  {
   "cell_type": "code",
   "execution_count": 353,
   "id": "d65fa9e7",
   "metadata": {},
   "outputs": [
    {
     "name": "stdout",
     "output_type": "stream",
     "text": [
      "8.50331153544528\n"
     ]
    }
   ],
   "source": [
    "tot_mean = 0\n",
    "a = 200\n",
    "for i in range(a):\n",
    "    bt_data = data.sample(n=200, replace=True)\n",
    "    bt_data.mean()\n",
    "    bt_sort_data = bt_data.sort_values()\n",
    "    bt_mean = bt_sort_data.tail(100).mean()\n",
    "    tot_mean+=bt_mean\n",
    "    \n",
    "tot_mean = tot_mean/a\n",
    "print(tot_mean)"
   ]
  },
  {
   "cell_type": "code",
   "execution_count": 144,
   "id": "a97973a3",
   "metadata": {},
   "outputs": [
    {
     "name": "stdout",
     "output_type": "stream",
     "text": [
      "11.07556763756416\n"
     ]
    }
   ],
   "source": [
    "tot_mean = 0\n",
    "for i in range(100):\n",
    "    bt_data = data.sample(n=100, replace=True)\n",
    "    bt_data.mean()\n",
    "    bt_sort_data = bt_data.sort_values()\n",
    "    bt_mean = bt_sort_data.tail(20).mean()\n",
    "    tot_mean+=bt_mean\n",
    "    \n",
    "tot_mean = tot_mean/100\n",
    "print(tot_mean)"
   ]
  },
  {
   "cell_type": "code",
   "execution_count": null,
   "id": "60baad6c",
   "metadata": {},
   "outputs": [],
   "source": [
    "tot_mean = 0\n",
    "for i in range(100):\n",
    "    bt_data = data.sample(n=100, replace=True)\n",
    "    bt_data.mean()\n",
    "    bt_sort_data = bt_data.sort_values()\n",
    "    bt_mean = bt_sort_data.tail(20).mean()\n",
    "    tot_mean+=bt_mean\n",
    "    \n",
    "tot_mean = tot_mean/100\n",
    "print(tot_mean)"
   ]
  },
  {
   "cell_type": "code",
   "execution_count": null,
   "id": "b946ab8d",
   "metadata": {},
   "outputs": [],
   "source": []
  },
  {
   "cell_type": "code",
   "execution_count": null,
   "id": "d0928fde",
   "metadata": {},
   "outputs": [],
   "source": []
  },
  {
   "cell_type": "code",
   "execution_count": null,
   "id": "862ac8ea",
   "metadata": {},
   "outputs": [],
   "source": []
  },
  {
   "cell_type": "code",
   "execution_count": null,
   "id": "723c8ed8",
   "metadata": {},
   "outputs": [],
   "source": []
  },
  {
   "cell_type": "code",
   "execution_count": null,
   "id": "17d5dbea",
   "metadata": {},
   "outputs": [],
   "source": []
  },
  {
   "cell_type": "code",
   "execution_count": null,
   "id": "7c5cba1a",
   "metadata": {},
   "outputs": [],
   "source": []
  },
  {
   "cell_type": "code",
   "execution_count": null,
   "id": "e7fd5f41",
   "metadata": {},
   "outputs": [],
   "source": []
  },
  {
   "cell_type": "code",
   "execution_count": null,
   "id": "4c999cf0",
   "metadata": {},
   "outputs": [],
   "source": []
  },
  {
   "cell_type": "code",
   "execution_count": 15,
   "id": "a96a5ebf",
   "metadata": {},
   "outputs": [
    {
     "data": {
      "text/plain": [
       "[[53.1089250603801,\n",
       "  30.929879954368086,\n",
       "  73.2703754580228,\n",
       "  129.35157387636207,\n",
       "  165.7319629974911,\n",
       "  85.98985934668326],\n",
       " [56.82454137849214,\n",
       "  43.448973654952624,\n",
       "  74.46709921216872,\n",
       "  134.61568801637046,\n",
       "  171.5292435131502,\n",
       "  84.9086280317639],\n",
       " [64.93364931581453,\n",
       "  94.77340427888744,\n",
       "  64.36193725458848,\n",
       "  162.574562641992,\n",
       "  175.16149668928762,\n",
       "  86.65155529097365]]"
      ]
     },
     "execution_count": 15,
     "metadata": {},
     "output_type": "execute_result"
    }
   ],
   "source": [
    "result"
   ]
  },
  {
   "cell_type": "code",
   "execution_count": 544,
   "id": "659bcdf0",
   "metadata": {},
   "outputs": [],
   "source": [
    "data = pd.read_csv('Squat Land Mark seyong2.csv')"
   ]
  },
  {
   "cell_type": "code",
   "execution_count": 545,
   "id": "b2a0ea45",
   "metadata": {},
   "outputs": [
    {
     "name": "stderr",
     "output_type": "stream",
     "text": [
      "C:\\Users\\user\\anaconda3\\envs\\health\\lib\\site-packages\\numpy\\core\\fromnumeric.py:3370: FutureWarning: In a future version, DataFrame.mean(axis=None) will return a scalar mean over the entire DataFrame. To retain the old behavior, use 'frame.mean(axis=0)' or just 'frame.mean()'\n",
      "  return mean(axis=axis, dtype=dtype, out=out, **kwargs)\n"
     ]
    }
   ],
   "source": [
    "#create new column in dataframe that contains Mahalanobis distance for each row\n",
    "data['mahalanobis'] = mahalanobis(x=data,data=data[['right_knee', 'right_hip', 'right_ankle','right_hip2','right_neck','right_ankle2']])"
   ]
  },
  {
   "cell_type": "code",
   "execution_count": 31,
   "id": "1d231ed0",
   "metadata": {},
   "outputs": [],
   "source": [
    "data2 = data.iloc[:,-1]"
   ]
  },
  {
   "cell_type": "code",
   "execution_count": 32,
   "id": "044d9634",
   "metadata": {},
   "outputs": [
    {
     "data": {
      "text/plain": [
       "pandas.core.series.Series"
      ]
     },
     "execution_count": 32,
     "metadata": {},
     "output_type": "execute_result"
    }
   ],
   "source": [
    "type(data2)"
   ]
  },
  {
   "cell_type": "code",
   "execution_count": 6,
   "id": "2393377e",
   "metadata": {},
   "outputs": [],
   "source": [
    "data2 = data2.to_numpy()"
   ]
  },
  {
   "cell_type": "code",
   "execution_count": null,
   "id": "80b877d9",
   "metadata": {},
   "outputs": [],
   "source": []
  },
  {
   "cell_type": "code",
   "execution_count": 15,
   "id": "a8134f0a",
   "metadata": {},
   "outputs": [],
   "source": [
    "import scipy.stats as st"
   ]
  },
  {
   "cell_type": "code",
   "execution_count": 8,
   "id": "93b196be",
   "metadata": {},
   "outputs": [
    {
     "ename": "NameError",
     "evalue": "name 'x' is not defined",
     "output_type": "error",
     "traceback": [
      "\u001b[1;31m---------------------------------------------------------------------------\u001b[0m",
      "\u001b[1;31mNameError\u001b[0m                                 Traceback (most recent call last)",
      "\u001b[1;32mC:\\Users\\Public\\Documents\\ESTsoft\\CreatorTemp/ipykernel_15232/3709981223.py\u001b[0m in \u001b[0;36m<module>\u001b[1;34m\u001b[0m\n\u001b[0;32m      2\u001b[0m \u001b[1;33m\u001b[0m\u001b[0m\n\u001b[0;32m      3\u001b[0m \u001b[1;31m# 확률분포\u001b[0m\u001b[1;33m\u001b[0m\u001b[1;33m\u001b[0m\u001b[1;33m\u001b[0m\u001b[0m\n\u001b[1;32m----> 4\u001b[1;33m \u001b[0mst\u001b[0m\u001b[1;33m.\u001b[0m\u001b[0mchi2\u001b[0m\u001b[1;33m.\u001b[0m\u001b[0mpdf\u001b[0m\u001b[1;33m(\u001b[0m\u001b[0mx\u001b[0m\u001b[1;33m,\u001b[0m \u001b[0mk\u001b[0m\u001b[1;33m)\u001b[0m\u001b[1;33m\u001b[0m\u001b[1;33m\u001b[0m\u001b[0m\n\u001b[0m\u001b[0;32m      5\u001b[0m \u001b[1;33m\u001b[0m\u001b[0m\n\u001b[0;32m      6\u001b[0m \u001b[1;31m# 누적확률\u001b[0m\u001b[1;33m\u001b[0m\u001b[1;33m\u001b[0m\u001b[1;33m\u001b[0m\u001b[0m\n",
      "\u001b[1;31mNameError\u001b[0m: name 'x' is not defined"
     ]
    }
   ],
   "source": [
    "# k = 자유도 \n",
    "\n",
    "# 확률분포\n",
    "st.chi2.pdf(x, k)\n",
    "\n",
    "# 누적확률\n",
    "st.chi2.cdf(x, k)"
   ]
  },
  {
   "cell_type": "code",
   "execution_count": 18,
   "id": "6c48420b",
   "metadata": {},
   "outputs": [
    {
     "data": {
      "text/plain": [
       "6"
      ]
     },
     "execution_count": 18,
     "metadata": {},
     "output_type": "execute_result"
    }
   ],
   "source": [
    "data.shape[1]"
   ]
  },
  {
   "cell_type": "code",
   "execution_count": 41,
   "id": "488d9e74",
   "metadata": {},
   "outputs": [],
   "source": [
    "# 분위수\n",
    "cutoff = st.chi2.ppf(0.9, data.shape[1])"
   ]
  },
  {
   "cell_type": "code",
   "execution_count": 42,
   "id": "85b93975",
   "metadata": {},
   "outputs": [
    {
     "data": {
      "text/plain": [
       "12.017036623780532"
      ]
     },
     "execution_count": 42,
     "metadata": {},
     "output_type": "execute_result"
    }
   ],
   "source": [
    "cutoff"
   ]
  },
  {
   "cell_type": "code",
   "execution_count": 34,
   "id": "4c24530c",
   "metadata": {},
   "outputs": [
    {
     "data": {
      "text/plain": [
       "0      True\n",
       "1     False\n",
       "2     False\n",
       "3     False\n",
       "4     False\n",
       "5     False\n",
       "6      True\n",
       "7     False\n",
       "8      True\n",
       "9     False\n",
       "10    False\n",
       "11     True\n",
       "12    False\n",
       "13    False\n",
       "14     True\n",
       "15    False\n",
       "16    False\n",
       "17    False\n",
       "18    False\n",
       "19    False\n",
       "Name: mahalanobis, dtype: bool"
      ]
     },
     "execution_count": 34,
     "metadata": {},
     "output_type": "execute_result"
    }
   ],
   "source": [
    "data2 > cutoff"
   ]
  },
  {
   "cell_type": "code",
   "execution_count": 25,
   "id": "4d93c99f",
   "metadata": {},
   "outputs": [],
   "source": [
    "from itertools import chain\n",
    "outlierIndexes = np.where(data2 > cutoff)\n",
    "outlierIndexes = list(outlierIndexes)\n",
    "outlierIndexes = list(chain(*outlierIndexes))"
   ]
  },
  {
   "cell_type": "code",
   "execution_count": 26,
   "id": "69269add",
   "metadata": {},
   "outputs": [
    {
     "data": {
      "text/plain": [
       "[0, 1, 2, 3, 4, 5, 6, 7, 8, 9, 10, 11, 12, 13, 14, 15, 16, 17, 18, 19]"
      ]
     },
     "execution_count": 26,
     "metadata": {},
     "output_type": "execute_result"
    }
   ],
   "source": [
    "outlierIndexes"
   ]
  },
  {
   "cell_type": "code",
   "execution_count": 22,
   "id": "06762153",
   "metadata": {},
   "outputs": [],
   "source": [
    "score = (len(data2) - len(outlierIndexes))/len(data2)*100"
   ]
  },
  {
   "cell_type": "code",
   "execution_count": null,
   "id": "c97f5671",
   "metadata": {},
   "outputs": [],
   "source": [
    "0 3.8"
   ]
  },
  {
   "cell_type": "code",
   "execution_count": 23,
   "id": "e5e118d6",
   "metadata": {},
   "outputs": [
    {
     "name": "stdout",
     "output_type": "stream",
     "text": [
      "0.0점\n"
     ]
    }
   ],
   "source": [
    "print('%.1f점'%score)"
   ]
  },
  {
   "cell_type": "code",
   "execution_count": 53,
   "id": "4ccae2d6",
   "metadata": {},
   "outputs": [
    {
     "name": "stdout",
     "output_type": "stream",
     "text": [
      "Test statistic: 15.82660099191812\n",
      "Degrees of freedom: 2 and 97\n",
      "p-value: 1.1259783253558808e-06\n"
     ]
    },
    {
     "data": {
      "text/plain": [
       "(15.82660099191812, 1.1259783253558808e-06)"
      ]
     },
     "execution_count": 53,
     "metadata": {},
     "output_type": "execute_result"
    }
   ],
   "source": [
    "import numpy as np\n",
    "from sklearn import datasets\n",
    "from scipy.stats import f\n",
    "def TwoSampleT2Test(X, Y):\n",
    "    nx, p = X.shape\n",
    "    ny, _ = Y.shape\n",
    "    delta = np.mean(X, axis=0) - np.mean(Y, axis=0)\n",
    "    Sx = np.cov(X, rowvar=False)\n",
    "    Sy = np.cov(Y, rowvar=False)\n",
    "    S_pooled = ((nx-1)*Sx + (ny-1)*Sy)/(nx+ny-2)\n",
    "    t_squared = (nx*ny)/(nx+ny) * np.matmul(np.matmul(delta.transpose(), np.linalg.inv(S_pooled)), delta)\n",
    "    statistic = t_squared * (nx+ny-p-1)/(p*(nx+ny-2))\n",
    "    F = f(p, nx+ny-p-1)\n",
    "    p_value = 1 - F.cdf(statistic)\n",
    "    print(f\"Test statistic: {statistic}\\nDegrees of freedom: {p} and {nx+ny-p-1}\\np-value: {p_value}\")\n",
    "    return statistic, p_value\n",
    "iris = datasets.load_iris()\n",
    "versicolor = iris.data[iris.target==1, :2]\n",
    "virginica = iris.data[iris.target==2, :2]\n",
    "TwoSampleT2Test(versicolor, virginica)"
   ]
  },
  {
   "cell_type": "code",
   "execution_count": 54,
   "id": "625838de",
   "metadata": {},
   "outputs": [
    {
     "ename": "NameError",
     "evalue": "name 'Iris' is not defined",
     "output_type": "error",
     "traceback": [
      "\u001b[1;31m---------------------------------------------------------------------------\u001b[0m",
      "\u001b[1;31mNameError\u001b[0m                                 Traceback (most recent call last)",
      "\u001b[1;32mC:\\Users\\Public\\Documents\\ESTsoft\\CreatorTemp/ipykernel_15232/1051518186.py\u001b[0m in \u001b[0;36m<module>\u001b[1;34m\u001b[0m\n\u001b[1;32m----> 1\u001b[1;33m \u001b[0miris_data\u001b[0m \u001b[1;33m=\u001b[0m \u001b[0mpd\u001b[0m\u001b[1;33m.\u001b[0m\u001b[0mDataFrame\u001b[0m\u001b[1;33m(\u001b[0m\u001b[0mdata\u001b[0m \u001b[1;33m=\u001b[0m \u001b[0mnp\u001b[0m\u001b[1;33m.\u001b[0m\u001b[0mc_\u001b[0m\u001b[1;33m[\u001b[0m\u001b[0mIris\u001b[0m\u001b[1;33m[\u001b[0m\u001b[1;34m'data'\u001b[0m\u001b[1;33m]\u001b[0m\u001b[1;33m,\u001b[0m \u001b[0mIris\u001b[0m\u001b[1;33m[\u001b[0m\u001b[1;34m'target'\u001b[0m\u001b[1;33m]\u001b[0m\u001b[1;33m]\u001b[0m\u001b[1;33m,\u001b[0m \u001b[0mcolumns\u001b[0m \u001b[1;33m=\u001b[0m \u001b[0mIris\u001b[0m\u001b[1;33m[\u001b[0m\u001b[1;34m'featurer_names'\u001b[0m\u001b[1;33m]\u001b[0m\u001b[1;33m+\u001b[0m\u001b[1;33m[\u001b[0m\u001b[1;34m'target'\u001b[0m\u001b[1;33m]\u001b[0m\u001b[1;33m)\u001b[0m\u001b[1;33m\u001b[0m\u001b[1;33m\u001b[0m\u001b[0m\n\u001b[0m",
      "\u001b[1;31mNameError\u001b[0m: name 'Iris' is not defined"
     ]
    }
   ],
   "source": [
    "iris_data = pd.DataFrame(data = np.c_[Iris['data'], Iris['target']], columns = Iris['featurer_names']+['target'])"
   ]
  },
  {
   "cell_type": "code",
   "execution_count": 45,
   "id": "1e69a94a",
   "metadata": {},
   "outputs": [
    {
     "name": "stdout",
     "output_type": "stream",
     "text": [
      "Test statistic: 15.82660099191812\n",
      "Degrees of freedom: 2 and 97\n",
      "p-value: 1.1259783253558808e-06\n"
     ]
    },
    {
     "data": {
      "text/plain": [
       "(15.82660099191812, 1.1259783253558808e-06)"
      ]
     },
     "execution_count": 45,
     "metadata": {},
     "output_type": "execute_result"
    }
   ],
   "source": [
    "TwoSampleT2Test(versicolor, virginica)"
   ]
  },
  {
   "cell_type": "code",
   "execution_count": 46,
   "id": "a643827a",
   "metadata": {},
   "outputs": [
    {
     "data": {
      "text/plain": [
       "sklearn.utils.Bunch"
      ]
     },
     "execution_count": 46,
     "metadata": {},
     "output_type": "execute_result"
    }
   ],
   "source": [
    "type(iris)"
   ]
  },
  {
   "cell_type": "code",
   "execution_count": 50,
   "id": "10ea3596",
   "metadata": {},
   "outputs": [
    {
     "data": {
      "text/plain": [
       "{'data': array([[5.1, 3.5, 1.4, 0.2],\n",
       "        [4.9, 3. , 1.4, 0.2],\n",
       "        [4.7, 3.2, 1.3, 0.2],\n",
       "        [4.6, 3.1, 1.5, 0.2],\n",
       "        [5. , 3.6, 1.4, 0.2],\n",
       "        [5.4, 3.9, 1.7, 0.4],\n",
       "        [4.6, 3.4, 1.4, 0.3],\n",
       "        [5. , 3.4, 1.5, 0.2],\n",
       "        [4.4, 2.9, 1.4, 0.2],\n",
       "        [4.9, 3.1, 1.5, 0.1],\n",
       "        [5.4, 3.7, 1.5, 0.2],\n",
       "        [4.8, 3.4, 1.6, 0.2],\n",
       "        [4.8, 3. , 1.4, 0.1],\n",
       "        [4.3, 3. , 1.1, 0.1],\n",
       "        [5.8, 4. , 1.2, 0.2],\n",
       "        [5.7, 4.4, 1.5, 0.4],\n",
       "        [5.4, 3.9, 1.3, 0.4],\n",
       "        [5.1, 3.5, 1.4, 0.3],\n",
       "        [5.7, 3.8, 1.7, 0.3],\n",
       "        [5.1, 3.8, 1.5, 0.3],\n",
       "        [5.4, 3.4, 1.7, 0.2],\n",
       "        [5.1, 3.7, 1.5, 0.4],\n",
       "        [4.6, 3.6, 1. , 0.2],\n",
       "        [5.1, 3.3, 1.7, 0.5],\n",
       "        [4.8, 3.4, 1.9, 0.2],\n",
       "        [5. , 3. , 1.6, 0.2],\n",
       "        [5. , 3.4, 1.6, 0.4],\n",
       "        [5.2, 3.5, 1.5, 0.2],\n",
       "        [5.2, 3.4, 1.4, 0.2],\n",
       "        [4.7, 3.2, 1.6, 0.2],\n",
       "        [4.8, 3.1, 1.6, 0.2],\n",
       "        [5.4, 3.4, 1.5, 0.4],\n",
       "        [5.2, 4.1, 1.5, 0.1],\n",
       "        [5.5, 4.2, 1.4, 0.2],\n",
       "        [4.9, 3.1, 1.5, 0.2],\n",
       "        [5. , 3.2, 1.2, 0.2],\n",
       "        [5.5, 3.5, 1.3, 0.2],\n",
       "        [4.9, 3.6, 1.4, 0.1],\n",
       "        [4.4, 3. , 1.3, 0.2],\n",
       "        [5.1, 3.4, 1.5, 0.2],\n",
       "        [5. , 3.5, 1.3, 0.3],\n",
       "        [4.5, 2.3, 1.3, 0.3],\n",
       "        [4.4, 3.2, 1.3, 0.2],\n",
       "        [5. , 3.5, 1.6, 0.6],\n",
       "        [5.1, 3.8, 1.9, 0.4],\n",
       "        [4.8, 3. , 1.4, 0.3],\n",
       "        [5.1, 3.8, 1.6, 0.2],\n",
       "        [4.6, 3.2, 1.4, 0.2],\n",
       "        [5.3, 3.7, 1.5, 0.2],\n",
       "        [5. , 3.3, 1.4, 0.2],\n",
       "        [7. , 3.2, 4.7, 1.4],\n",
       "        [6.4, 3.2, 4.5, 1.5],\n",
       "        [6.9, 3.1, 4.9, 1.5],\n",
       "        [5.5, 2.3, 4. , 1.3],\n",
       "        [6.5, 2.8, 4.6, 1.5],\n",
       "        [5.7, 2.8, 4.5, 1.3],\n",
       "        [6.3, 3.3, 4.7, 1.6],\n",
       "        [4.9, 2.4, 3.3, 1. ],\n",
       "        [6.6, 2.9, 4.6, 1.3],\n",
       "        [5.2, 2.7, 3.9, 1.4],\n",
       "        [5. , 2. , 3.5, 1. ],\n",
       "        [5.9, 3. , 4.2, 1.5],\n",
       "        [6. , 2.2, 4. , 1. ],\n",
       "        [6.1, 2.9, 4.7, 1.4],\n",
       "        [5.6, 2.9, 3.6, 1.3],\n",
       "        [6.7, 3.1, 4.4, 1.4],\n",
       "        [5.6, 3. , 4.5, 1.5],\n",
       "        [5.8, 2.7, 4.1, 1. ],\n",
       "        [6.2, 2.2, 4.5, 1.5],\n",
       "        [5.6, 2.5, 3.9, 1.1],\n",
       "        [5.9, 3.2, 4.8, 1.8],\n",
       "        [6.1, 2.8, 4. , 1.3],\n",
       "        [6.3, 2.5, 4.9, 1.5],\n",
       "        [6.1, 2.8, 4.7, 1.2],\n",
       "        [6.4, 2.9, 4.3, 1.3],\n",
       "        [6.6, 3. , 4.4, 1.4],\n",
       "        [6.8, 2.8, 4.8, 1.4],\n",
       "        [6.7, 3. , 5. , 1.7],\n",
       "        [6. , 2.9, 4.5, 1.5],\n",
       "        [5.7, 2.6, 3.5, 1. ],\n",
       "        [5.5, 2.4, 3.8, 1.1],\n",
       "        [5.5, 2.4, 3.7, 1. ],\n",
       "        [5.8, 2.7, 3.9, 1.2],\n",
       "        [6. , 2.7, 5.1, 1.6],\n",
       "        [5.4, 3. , 4.5, 1.5],\n",
       "        [6. , 3.4, 4.5, 1.6],\n",
       "        [6.7, 3.1, 4.7, 1.5],\n",
       "        [6.3, 2.3, 4.4, 1.3],\n",
       "        [5.6, 3. , 4.1, 1.3],\n",
       "        [5.5, 2.5, 4. , 1.3],\n",
       "        [5.5, 2.6, 4.4, 1.2],\n",
       "        [6.1, 3. , 4.6, 1.4],\n",
       "        [5.8, 2.6, 4. , 1.2],\n",
       "        [5. , 2.3, 3.3, 1. ],\n",
       "        [5.6, 2.7, 4.2, 1.3],\n",
       "        [5.7, 3. , 4.2, 1.2],\n",
       "        [5.7, 2.9, 4.2, 1.3],\n",
       "        [6.2, 2.9, 4.3, 1.3],\n",
       "        [5.1, 2.5, 3. , 1.1],\n",
       "        [5.7, 2.8, 4.1, 1.3],\n",
       "        [6.3, 3.3, 6. , 2.5],\n",
       "        [5.8, 2.7, 5.1, 1.9],\n",
       "        [7.1, 3. , 5.9, 2.1],\n",
       "        [6.3, 2.9, 5.6, 1.8],\n",
       "        [6.5, 3. , 5.8, 2.2],\n",
       "        [7.6, 3. , 6.6, 2.1],\n",
       "        [4.9, 2.5, 4.5, 1.7],\n",
       "        [7.3, 2.9, 6.3, 1.8],\n",
       "        [6.7, 2.5, 5.8, 1.8],\n",
       "        [7.2, 3.6, 6.1, 2.5],\n",
       "        [6.5, 3.2, 5.1, 2. ],\n",
       "        [6.4, 2.7, 5.3, 1.9],\n",
       "        [6.8, 3. , 5.5, 2.1],\n",
       "        [5.7, 2.5, 5. , 2. ],\n",
       "        [5.8, 2.8, 5.1, 2.4],\n",
       "        [6.4, 3.2, 5.3, 2.3],\n",
       "        [6.5, 3. , 5.5, 1.8],\n",
       "        [7.7, 3.8, 6.7, 2.2],\n",
       "        [7.7, 2.6, 6.9, 2.3],\n",
       "        [6. , 2.2, 5. , 1.5],\n",
       "        [6.9, 3.2, 5.7, 2.3],\n",
       "        [5.6, 2.8, 4.9, 2. ],\n",
       "        [7.7, 2.8, 6.7, 2. ],\n",
       "        [6.3, 2.7, 4.9, 1.8],\n",
       "        [6.7, 3.3, 5.7, 2.1],\n",
       "        [7.2, 3.2, 6. , 1.8],\n",
       "        [6.2, 2.8, 4.8, 1.8],\n",
       "        [6.1, 3. , 4.9, 1.8],\n",
       "        [6.4, 2.8, 5.6, 2.1],\n",
       "        [7.2, 3. , 5.8, 1.6],\n",
       "        [7.4, 2.8, 6.1, 1.9],\n",
       "        [7.9, 3.8, 6.4, 2. ],\n",
       "        [6.4, 2.8, 5.6, 2.2],\n",
       "        [6.3, 2.8, 5.1, 1.5],\n",
       "        [6.1, 2.6, 5.6, 1.4],\n",
       "        [7.7, 3. , 6.1, 2.3],\n",
       "        [6.3, 3.4, 5.6, 2.4],\n",
       "        [6.4, 3.1, 5.5, 1.8],\n",
       "        [6. , 3. , 4.8, 1.8],\n",
       "        [6.9, 3.1, 5.4, 2.1],\n",
       "        [6.7, 3.1, 5.6, 2.4],\n",
       "        [6.9, 3.1, 5.1, 2.3],\n",
       "        [5.8, 2.7, 5.1, 1.9],\n",
       "        [6.8, 3.2, 5.9, 2.3],\n",
       "        [6.7, 3.3, 5.7, 2.5],\n",
       "        [6.7, 3. , 5.2, 2.3],\n",
       "        [6.3, 2.5, 5. , 1.9],\n",
       "        [6.5, 3. , 5.2, 2. ],\n",
       "        [6.2, 3.4, 5.4, 2.3],\n",
       "        [5.9, 3. , 5.1, 1.8]]),\n",
       " 'target': array([0, 0, 0, 0, 0, 0, 0, 0, 0, 0, 0, 0, 0, 0, 0, 0, 0, 0, 0, 0, 0, 0,\n",
       "        0, 0, 0, 0, 0, 0, 0, 0, 0, 0, 0, 0, 0, 0, 0, 0, 0, 0, 0, 0, 0, 0,\n",
       "        0, 0, 0, 0, 0, 0, 1, 1, 1, 1, 1, 1, 1, 1, 1, 1, 1, 1, 1, 1, 1, 1,\n",
       "        1, 1, 1, 1, 1, 1, 1, 1, 1, 1, 1, 1, 1, 1, 1, 1, 1, 1, 1, 1, 1, 1,\n",
       "        1, 1, 1, 1, 1, 1, 1, 1, 1, 1, 1, 1, 2, 2, 2, 2, 2, 2, 2, 2, 2, 2,\n",
       "        2, 2, 2, 2, 2, 2, 2, 2, 2, 2, 2, 2, 2, 2, 2, 2, 2, 2, 2, 2, 2, 2,\n",
       "        2, 2, 2, 2, 2, 2, 2, 2, 2, 2, 2, 2, 2, 2, 2, 2, 2, 2]),\n",
       " 'frame': None,\n",
       " 'target_names': array(['setosa', 'versicolor', 'virginica'], dtype='<U10'),\n",
       " 'DESCR': '.. _iris_dataset:\\n\\nIris plants dataset\\n--------------------\\n\\n**Data Set Characteristics:**\\n\\n    :Number of Instances: 150 (50 in each of three classes)\\n    :Number of Attributes: 4 numeric, predictive attributes and the class\\n    :Attribute Information:\\n        - sepal length in cm\\n        - sepal width in cm\\n        - petal length in cm\\n        - petal width in cm\\n        - class:\\n                - Iris-Setosa\\n                - Iris-Versicolour\\n                - Iris-Virginica\\n                \\n    :Summary Statistics:\\n\\n    ============== ==== ==== ======= ===== ====================\\n                    Min  Max   Mean    SD   Class Correlation\\n    ============== ==== ==== ======= ===== ====================\\n    sepal length:   4.3  7.9   5.84   0.83    0.7826\\n    sepal width:    2.0  4.4   3.05   0.43   -0.4194\\n    petal length:   1.0  6.9   3.76   1.76    0.9490  (high!)\\n    petal width:    0.1  2.5   1.20   0.76    0.9565  (high!)\\n    ============== ==== ==== ======= ===== ====================\\n\\n    :Missing Attribute Values: None\\n    :Class Distribution: 33.3% for each of 3 classes.\\n    :Creator: R.A. Fisher\\n    :Donor: Michael Marshall (MARSHALL%PLU@io.arc.nasa.gov)\\n    :Date: July, 1988\\n\\nThe famous Iris database, first used by Sir R.A. Fisher. The dataset is taken\\nfrom Fisher\\'s paper. Note that it\\'s the same as in R, but not as in the UCI\\nMachine Learning Repository, which has two wrong data points.\\n\\nThis is perhaps the best known database to be found in the\\npattern recognition literature.  Fisher\\'s paper is a classic in the field and\\nis referenced frequently to this day.  (See Duda & Hart, for example.)  The\\ndata set contains 3 classes of 50 instances each, where each class refers to a\\ntype of iris plant.  One class is linearly separable from the other 2; the\\nlatter are NOT linearly separable from each other.\\n\\n.. topic:: References\\n\\n   - Fisher, R.A. \"The use of multiple measurements in taxonomic problems\"\\n     Annual Eugenics, 7, Part II, 179-188 (1936); also in \"Contributions to\\n     Mathematical Statistics\" (John Wiley, NY, 1950).\\n   - Duda, R.O., & Hart, P.E. (1973) Pattern Classification and Scene Analysis.\\n     (Q327.D83) John Wiley & Sons.  ISBN 0-471-22361-1.  See page 218.\\n   - Dasarathy, B.V. (1980) \"Nosing Around the Neighborhood: A New System\\n     Structure and Classification Rule for Recognition in Partially Exposed\\n     Environments\".  IEEE Transactions on Pattern Analysis and Machine\\n     Intelligence, Vol. PAMI-2, No. 1, 67-71.\\n   - Gates, G.W. (1972) \"The Reduced Nearest Neighbor Rule\".  IEEE Transactions\\n     on Information Theory, May 1972, 431-433.\\n   - See also: 1988 MLC Proceedings, 54-64.  Cheeseman et al\"s AUTOCLASS II\\n     conceptual clustering system finds 3 classes in the data.\\n   - Many, many more ...',\n",
       " 'feature_names': ['sepal length (cm)',\n",
       "  'sepal width (cm)',\n",
       "  'petal length (cm)',\n",
       "  'petal width (cm)'],\n",
       " 'filename': 'iris.csv',\n",
       " 'data_module': 'sklearn.datasets.data'}"
      ]
     },
     "execution_count": 50,
     "metadata": {},
     "output_type": "execute_result"
    }
   ],
   "source": [
    "iris"
   ]
  },
  {
   "cell_type": "code",
   "execution_count": 49,
   "id": "c891c1fa",
   "metadata": {},
   "outputs": [
    {
     "ename": "ValueError",
     "evalue": "Per-column arrays must each be 1-dimensional",
     "output_type": "error",
     "traceback": [
      "\u001b[1;31m---------------------------------------------------------------------------\u001b[0m",
      "\u001b[1;31mValueError\u001b[0m                                Traceback (most recent call last)",
      "\u001b[1;32mC:\\Users\\Public\\Documents\\ESTsoft\\CreatorTemp/ipykernel_15232/3568094815.py\u001b[0m in \u001b[0;36m<module>\u001b[1;34m\u001b[0m\n\u001b[1;32m----> 1\u001b[1;33m \u001b[0miris\u001b[0m \u001b[1;33m=\u001b[0m \u001b[0mpd\u001b[0m\u001b[1;33m.\u001b[0m\u001b[0mDataFrame\u001b[0m\u001b[1;33m(\u001b[0m\u001b[0miris\u001b[0m\u001b[1;33m)\u001b[0m\u001b[1;33m\u001b[0m\u001b[1;33m\u001b[0m\u001b[0m\n\u001b[0m",
      "\u001b[1;32m~\\anaconda3\\envs\\health\\lib\\site-packages\\pandas\\core\\frame.py\u001b[0m in \u001b[0;36m__init__\u001b[1;34m(self, data, index, columns, dtype, copy)\u001b[0m\n\u001b[0;32m    634\u001b[0m         \u001b[1;32melif\u001b[0m \u001b[0misinstance\u001b[0m\u001b[1;33m(\u001b[0m\u001b[0mdata\u001b[0m\u001b[1;33m,\u001b[0m \u001b[0mdict\u001b[0m\u001b[1;33m)\u001b[0m\u001b[1;33m:\u001b[0m\u001b[1;33m\u001b[0m\u001b[1;33m\u001b[0m\u001b[0m\n\u001b[0;32m    635\u001b[0m             \u001b[1;31m# GH#38939 de facto copy defaults to False only in non-dict cases\u001b[0m\u001b[1;33m\u001b[0m\u001b[1;33m\u001b[0m\u001b[1;33m\u001b[0m\u001b[0m\n\u001b[1;32m--> 636\u001b[1;33m             \u001b[0mmgr\u001b[0m \u001b[1;33m=\u001b[0m \u001b[0mdict_to_mgr\u001b[0m\u001b[1;33m(\u001b[0m\u001b[0mdata\u001b[0m\u001b[1;33m,\u001b[0m \u001b[0mindex\u001b[0m\u001b[1;33m,\u001b[0m \u001b[0mcolumns\u001b[0m\u001b[1;33m,\u001b[0m \u001b[0mdtype\u001b[0m\u001b[1;33m=\u001b[0m\u001b[0mdtype\u001b[0m\u001b[1;33m,\u001b[0m \u001b[0mcopy\u001b[0m\u001b[1;33m=\u001b[0m\u001b[0mcopy\u001b[0m\u001b[1;33m,\u001b[0m \u001b[0mtyp\u001b[0m\u001b[1;33m=\u001b[0m\u001b[0mmanager\u001b[0m\u001b[1;33m)\u001b[0m\u001b[1;33m\u001b[0m\u001b[1;33m\u001b[0m\u001b[0m\n\u001b[0m\u001b[0;32m    637\u001b[0m         \u001b[1;32melif\u001b[0m \u001b[0misinstance\u001b[0m\u001b[1;33m(\u001b[0m\u001b[0mdata\u001b[0m\u001b[1;33m,\u001b[0m \u001b[0mma\u001b[0m\u001b[1;33m.\u001b[0m\u001b[0mMaskedArray\u001b[0m\u001b[1;33m)\u001b[0m\u001b[1;33m:\u001b[0m\u001b[1;33m\u001b[0m\u001b[1;33m\u001b[0m\u001b[0m\n\u001b[0;32m    638\u001b[0m             \u001b[1;32mimport\u001b[0m \u001b[0mnumpy\u001b[0m\u001b[1;33m.\u001b[0m\u001b[0mma\u001b[0m\u001b[1;33m.\u001b[0m\u001b[0mmrecords\u001b[0m \u001b[1;32mas\u001b[0m \u001b[0mmrecords\u001b[0m\u001b[1;33m\u001b[0m\u001b[1;33m\u001b[0m\u001b[0m\n",
      "\u001b[1;32m~\\anaconda3\\envs\\health\\lib\\site-packages\\pandas\\core\\internals\\construction.py\u001b[0m in \u001b[0;36mdict_to_mgr\u001b[1;34m(data, index, columns, dtype, typ, copy)\u001b[0m\n\u001b[0;32m    500\u001b[0m         \u001b[1;31m# TODO: can we get rid of the dt64tz special case above?\u001b[0m\u001b[1;33m\u001b[0m\u001b[1;33m\u001b[0m\u001b[1;33m\u001b[0m\u001b[0m\n\u001b[0;32m    501\u001b[0m \u001b[1;33m\u001b[0m\u001b[0m\n\u001b[1;32m--> 502\u001b[1;33m     \u001b[1;32mreturn\u001b[0m \u001b[0marrays_to_mgr\u001b[0m\u001b[1;33m(\u001b[0m\u001b[0marrays\u001b[0m\u001b[1;33m,\u001b[0m \u001b[0mcolumns\u001b[0m\u001b[1;33m,\u001b[0m \u001b[0mindex\u001b[0m\u001b[1;33m,\u001b[0m \u001b[0mdtype\u001b[0m\u001b[1;33m=\u001b[0m\u001b[0mdtype\u001b[0m\u001b[1;33m,\u001b[0m \u001b[0mtyp\u001b[0m\u001b[1;33m=\u001b[0m\u001b[0mtyp\u001b[0m\u001b[1;33m,\u001b[0m \u001b[0mconsolidate\u001b[0m\u001b[1;33m=\u001b[0m\u001b[0mcopy\u001b[0m\u001b[1;33m)\u001b[0m\u001b[1;33m\u001b[0m\u001b[1;33m\u001b[0m\u001b[0m\n\u001b[0m\u001b[0;32m    503\u001b[0m \u001b[1;33m\u001b[0m\u001b[0m\n\u001b[0;32m    504\u001b[0m \u001b[1;33m\u001b[0m\u001b[0m\n",
      "\u001b[1;32m~\\anaconda3\\envs\\health\\lib\\site-packages\\pandas\\core\\internals\\construction.py\u001b[0m in \u001b[0;36marrays_to_mgr\u001b[1;34m(arrays, columns, index, dtype, verify_integrity, typ, consolidate)\u001b[0m\n\u001b[0;32m    118\u001b[0m         \u001b[1;31m# figure out the index, if necessary\u001b[0m\u001b[1;33m\u001b[0m\u001b[1;33m\u001b[0m\u001b[1;33m\u001b[0m\u001b[0m\n\u001b[0;32m    119\u001b[0m         \u001b[1;32mif\u001b[0m \u001b[0mindex\u001b[0m \u001b[1;32mis\u001b[0m \u001b[1;32mNone\u001b[0m\u001b[1;33m:\u001b[0m\u001b[1;33m\u001b[0m\u001b[1;33m\u001b[0m\u001b[0m\n\u001b[1;32m--> 120\u001b[1;33m             \u001b[0mindex\u001b[0m \u001b[1;33m=\u001b[0m \u001b[0m_extract_index\u001b[0m\u001b[1;33m(\u001b[0m\u001b[0marrays\u001b[0m\u001b[1;33m)\u001b[0m\u001b[1;33m\u001b[0m\u001b[1;33m\u001b[0m\u001b[0m\n\u001b[0m\u001b[0;32m    121\u001b[0m         \u001b[1;32melse\u001b[0m\u001b[1;33m:\u001b[0m\u001b[1;33m\u001b[0m\u001b[1;33m\u001b[0m\u001b[0m\n\u001b[0;32m    122\u001b[0m             \u001b[0mindex\u001b[0m \u001b[1;33m=\u001b[0m \u001b[0mensure_index\u001b[0m\u001b[1;33m(\u001b[0m\u001b[0mindex\u001b[0m\u001b[1;33m)\u001b[0m\u001b[1;33m\u001b[0m\u001b[1;33m\u001b[0m\u001b[0m\n",
      "\u001b[1;32m~\\anaconda3\\envs\\health\\lib\\site-packages\\pandas\\core\\internals\\construction.py\u001b[0m in \u001b[0;36m_extract_index\u001b[1;34m(data)\u001b[0m\n\u001b[0;32m    659\u001b[0m                 \u001b[0mraw_lengths\u001b[0m\u001b[1;33m.\u001b[0m\u001b[0mappend\u001b[0m\u001b[1;33m(\u001b[0m\u001b[0mlen\u001b[0m\u001b[1;33m(\u001b[0m\u001b[0mval\u001b[0m\u001b[1;33m)\u001b[0m\u001b[1;33m)\u001b[0m\u001b[1;33m\u001b[0m\u001b[1;33m\u001b[0m\u001b[0m\n\u001b[0;32m    660\u001b[0m             \u001b[1;32melif\u001b[0m \u001b[0misinstance\u001b[0m\u001b[1;33m(\u001b[0m\u001b[0mval\u001b[0m\u001b[1;33m,\u001b[0m \u001b[0mnp\u001b[0m\u001b[1;33m.\u001b[0m\u001b[0mndarray\u001b[0m\u001b[1;33m)\u001b[0m \u001b[1;32mand\u001b[0m \u001b[0mval\u001b[0m\u001b[1;33m.\u001b[0m\u001b[0mndim\u001b[0m \u001b[1;33m>\u001b[0m \u001b[1;36m1\u001b[0m\u001b[1;33m:\u001b[0m\u001b[1;33m\u001b[0m\u001b[1;33m\u001b[0m\u001b[0m\n\u001b[1;32m--> 661\u001b[1;33m                 \u001b[1;32mraise\u001b[0m \u001b[0mValueError\u001b[0m\u001b[1;33m(\u001b[0m\u001b[1;34m\"Per-column arrays must each be 1-dimensional\"\u001b[0m\u001b[1;33m)\u001b[0m\u001b[1;33m\u001b[0m\u001b[1;33m\u001b[0m\u001b[0m\n\u001b[0m\u001b[0;32m    662\u001b[0m \u001b[1;33m\u001b[0m\u001b[0m\n\u001b[0;32m    663\u001b[0m         \u001b[1;32mif\u001b[0m \u001b[1;32mnot\u001b[0m \u001b[0mindexes\u001b[0m \u001b[1;32mand\u001b[0m \u001b[1;32mnot\u001b[0m \u001b[0mraw_lengths\u001b[0m\u001b[1;33m:\u001b[0m\u001b[1;33m\u001b[0m\u001b[1;33m\u001b[0m\u001b[0m\n",
      "\u001b[1;31mValueError\u001b[0m: Per-column arrays must each be 1-dimensional"
     ]
    }
   ],
   "source": [
    "iris = pd.DataFrame(iris)"
   ]
  },
  {
   "cell_type": "code",
   "execution_count": null,
   "id": "ff9d56c8",
   "metadata": {},
   "outputs": [],
   "source": []
  },
  {
   "cell_type": "code",
   "execution_count": null,
   "id": "0804db26",
   "metadata": {},
   "outputs": [],
   "source": []
  },
  {
   "cell_type": "code",
   "execution_count": null,
   "id": "1f9b94a9",
   "metadata": {},
   "outputs": [],
   "source": []
  },
  {
   "cell_type": "code",
   "execution_count": null,
   "id": "c43b046b",
   "metadata": {},
   "outputs": [],
   "source": []
  },
  {
   "cell_type": "code",
   "execution_count": 77,
   "id": "deddd2f6",
   "metadata": {},
   "outputs": [
    {
     "data": {
      "text/plain": [
       "array([4.68236910e-05, 1.89486796e-07, 6.53935347e-10, 2.43404307e-06,\n",
       "       3.04939842e-06, 1.81754654e-11, 5.51388286e-08, 1.32736967e-05,\n",
       "       3.72037429e-07, 1.54483564e-10, 1.21869945e-05, 3.18704875e-11,\n",
       "       5.81887695e-09, 2.73314182e-05, 3.06796616e-07, 1.87400750e-06,\n",
       "       2.26329833e-16, 4.59079237e-08, 2.63631282e-11, 1.84783072e-06])"
      ]
     },
     "execution_count": 77,
     "metadata": {},
     "output_type": "execute_result"
    }
   ],
   "source": [
    "st.chi2.pdf(data2, k)"
   ]
  },
  {
   "cell_type": "code",
   "execution_count": null,
   "id": "2297fa0e",
   "metadata": {},
   "outputs": [],
   "source": [
    "# 1 평균의 위치\n",
    "k = 9\n",
    "avg = k    # 카이제곱분포의 평균은 자유도(k)\n",
    "\n",
    "# 2. ﻿왼쪽, 오른쪽 면적이 각 0.05인 위치(ppf)\n",
    "st.chi2.ppf(0.05, nu)  >>  3.325112843066815\n",
    "st.chi2.ppf(0.95, nu)  >> 16.918977604620448"
   ]
  },
  {
   "cell_type": "code",
   "execution_count": null,
   "id": "75eb36bf",
   "metadata": {},
   "outputs": [],
   "source": []
  },
  {
   "cell_type": "code",
   "execution_count": 543,
   "id": "87c07651",
   "metadata": {},
   "outputs": [],
   "source": [
    "data = pd.read_csv('Squat Land Mark seyong2.csv')"
   ]
  },
  {
   "cell_type": "code",
   "execution_count": 85,
   "id": "a5830cbd",
   "metadata": {},
   "outputs": [],
   "source": [
    "data.to_csv('pro.csv', index=False)"
   ]
  },
  {
   "cell_type": "code",
   "execution_count": 81,
   "id": "101222da",
   "metadata": {},
   "outputs": [],
   "source": [
    "data = pd.read_csv('Squat S_2.csv')"
   ]
  },
  {
   "cell_type": "code",
   "execution_count": 82,
   "id": "be0c6ff2",
   "metadata": {},
   "outputs": [
    {
     "data": {
      "text/html": [
       "<div>\n",
       "<style scoped>\n",
       "    .dataframe tbody tr th:only-of-type {\n",
       "        vertical-align: middle;\n",
       "    }\n",
       "\n",
       "    .dataframe tbody tr th {\n",
       "        vertical-align: top;\n",
       "    }\n",
       "\n",
       "    .dataframe thead th {\n",
       "        text-align: right;\n",
       "    }\n",
       "</style>\n",
       "<table border=\"1\" class=\"dataframe\">\n",
       "  <thead>\n",
       "    <tr style=\"text-align: right;\">\n",
       "      <th></th>\n",
       "      <th>right_knee</th>\n",
       "      <th>right_hip</th>\n",
       "      <th>right_ankle</th>\n",
       "      <th>right_hip2</th>\n",
       "      <th>right_neck</th>\n",
       "      <th>right_ankle2</th>\n",
       "    </tr>\n",
       "  </thead>\n",
       "  <tbody>\n",
       "    <tr>\n",
       "      <th>0</th>\n",
       "      <td>61.292008</td>\n",
       "      <td>47.349013</td>\n",
       "      <td>77.639119</td>\n",
       "      <td>138.251355</td>\n",
       "      <td>161.911797</td>\n",
       "      <td>89.600152</td>\n",
       "    </tr>\n",
       "    <tr>\n",
       "      <th>1</th>\n",
       "      <td>60.562364</td>\n",
       "      <td>44.432202</td>\n",
       "      <td>77.888675</td>\n",
       "      <td>138.360620</td>\n",
       "      <td>170.441477</td>\n",
       "      <td>87.156454</td>\n",
       "    </tr>\n",
       "    <tr>\n",
       "      <th>2</th>\n",
       "      <td>59.913258</td>\n",
       "      <td>45.931485</td>\n",
       "      <td>77.831984</td>\n",
       "      <td>139.320627</td>\n",
       "      <td>165.668813</td>\n",
       "      <td>88.639595</td>\n",
       "    </tr>\n",
       "    <tr>\n",
       "      <th>3</th>\n",
       "      <td>62.162349</td>\n",
       "      <td>46.145253</td>\n",
       "      <td>74.681760</td>\n",
       "      <td>137.849232</td>\n",
       "      <td>169.519620</td>\n",
       "      <td>86.848812</td>\n",
       "    </tr>\n",
       "    <tr>\n",
       "      <th>4</th>\n",
       "      <td>60.427882</td>\n",
       "      <td>49.214262</td>\n",
       "      <td>75.276158</td>\n",
       "      <td>139.352687</td>\n",
       "      <td>163.867192</td>\n",
       "      <td>89.691265</td>\n",
       "    </tr>\n",
       "    <tr>\n",
       "      <th>...</th>\n",
       "      <td>...</td>\n",
       "      <td>...</td>\n",
       "      <td>...</td>\n",
       "      <td>...</td>\n",
       "      <td>...</td>\n",
       "      <td>...</td>\n",
       "    </tr>\n",
       "    <tr>\n",
       "      <th>1019</th>\n",
       "      <td>76.728801</td>\n",
       "      <td>72.114990</td>\n",
       "      <td>77.025030</td>\n",
       "      <td>145.034192</td>\n",
       "      <td>159.086081</td>\n",
       "      <td>90.930313</td>\n",
       "    </tr>\n",
       "    <tr>\n",
       "      <th>1020</th>\n",
       "      <td>64.012106</td>\n",
       "      <td>63.289380</td>\n",
       "      <td>71.487448</td>\n",
       "      <td>143.517090</td>\n",
       "      <td>164.041502</td>\n",
       "      <td>92.548520</td>\n",
       "    </tr>\n",
       "    <tr>\n",
       "      <th>1021</th>\n",
       "      <td>61.052776</td>\n",
       "      <td>61.385024</td>\n",
       "      <td>70.324267</td>\n",
       "      <td>144.950887</td>\n",
       "      <td>163.991730</td>\n",
       "      <td>91.488102</td>\n",
       "    </tr>\n",
       "    <tr>\n",
       "      <th>1022</th>\n",
       "      <td>60.042316</td>\n",
       "      <td>62.549976</td>\n",
       "      <td>72.977518</td>\n",
       "      <td>147.876421</td>\n",
       "      <td>152.006933</td>\n",
       "      <td>93.324086</td>\n",
       "    </tr>\n",
       "    <tr>\n",
       "      <th>1023</th>\n",
       "      <td>56.892272</td>\n",
       "      <td>58.641156</td>\n",
       "      <td>73.262434</td>\n",
       "      <td>145.796688</td>\n",
       "      <td>161.920288</td>\n",
       "      <td>93.974275</td>\n",
       "    </tr>\n",
       "  </tbody>\n",
       "</table>\n",
       "<p>1024 rows × 6 columns</p>\n",
       "</div>"
      ],
      "text/plain": [
       "      right_knee  right_hip  right_ankle  right_hip2  right_neck  right_ankle2\n",
       "0      61.292008  47.349013    77.639119  138.251355  161.911797     89.600152\n",
       "1      60.562364  44.432202    77.888675  138.360620  170.441477     87.156454\n",
       "2      59.913258  45.931485    77.831984  139.320627  165.668813     88.639595\n",
       "3      62.162349  46.145253    74.681760  137.849232  169.519620     86.848812\n",
       "4      60.427882  49.214262    75.276158  139.352687  163.867192     89.691265\n",
       "...          ...        ...          ...         ...         ...           ...\n",
       "1019   76.728801  72.114990    77.025030  145.034192  159.086081     90.930313\n",
       "1020   64.012106  63.289380    71.487448  143.517090  164.041502     92.548520\n",
       "1021   61.052776  61.385024    70.324267  144.950887  163.991730     91.488102\n",
       "1022   60.042316  62.549976    72.977518  147.876421  152.006933     93.324086\n",
       "1023   56.892272  58.641156    73.262434  145.796688  161.920288     93.974275\n",
       "\n",
       "[1024 rows x 6 columns]"
      ]
     },
     "execution_count": 82,
     "metadata": {},
     "output_type": "execute_result"
    }
   ],
   "source": [
    "data"
   ]
  },
  {
   "cell_type": "code",
   "execution_count": 57,
   "id": "93943dd3",
   "metadata": {
    "scrolled": true
   },
   "outputs": [],
   "source": [
    "list_df = data.values.tolist()"
   ]
  },
  {
   "cell_type": "code",
   "execution_count": 52,
   "id": "38504d92",
   "metadata": {},
   "outputs": [
    {
     "data": {
      "text/plain": [
       "[[60.23615348583439,\n",
       "  53.17362762217362,\n",
       "  68.93894347211733,\n",
       "  135.18426560469382,\n",
       "  157.63390725772524,\n",
       "  91.50074410826738],\n",
       " [53.482114885518,\n",
       "  49.45093051710087,\n",
       "  71.89961061122098,\n",
       "  136.21030994265016,\n",
       "  153.40966674326808,\n",
       "  94.89328728730963],\n",
       " [54.46299556143339,\n",
       "  50.28375337566977,\n",
       "  69.57164321435734,\n",
       "  136.23427445842665,\n",
       "  153.5894392076683,\n",
       "  94.11501139324224],\n",
       " [56.90517735965472,\n",
       "  48.40985867376326,\n",
       "  72.53679080749293,\n",
       "  135.99040457406028,\n",
       "  148.1136849080308,\n",
       "  92.675350821596],\n",
       " [57.03092751722062,\n",
       "  49.25716283496399,\n",
       "  73.9581732160849,\n",
       "  136.75942358295202,\n",
       "  147.9629207628111,\n",
       "  93.2592577475428],\n",
       " [55.046169929964265,\n",
       "  47.242889413821885,\n",
       "  76.22161097374097,\n",
       "  135.91029463542029,\n",
       "  152.89782508700426,\n",
       "  94.96792372329242],\n",
       " [55.41360991037499,\n",
       "  51.777279669005296,\n",
       "  70.45951995737929,\n",
       "  137.100039405344,\n",
       "  150.3676016868882,\n",
       "  93.33713695818444],\n",
       " [56.215472619385935,\n",
       "  51.85124934499677,\n",
       "  70.95841821108378,\n",
       "  136.85158329605375,\n",
       "  152.00724940308646,\n",
       "  94.41756840475016],\n",
       " [56.31533187347805,\n",
       "  49.43928401857631,\n",
       "  73.91054799462508,\n",
       "  136.93226533947546,\n",
       "  155.24790156119562,\n",
       "  93.8764523652514],\n",
       " [55.29911434339397,\n",
       "  50.88953259332003,\n",
       "  68.86461185770817,\n",
       "  137.04334434328138,\n",
       "  152.44859060393105,\n",
       "  92.73625291759038],\n",
       " [56.5298606839072,\n",
       "  49.06504081857669,\n",
       "  73.1149899768553,\n",
       "  136.4643300998742,\n",
       "  152.81944558148757,\n",
       "  92.9986045324428],\n",
       " [57.08048013244792,\n",
       "  49.27140229219545,\n",
       "  74.510623079637,\n",
       "  137.32708713072205,\n",
       "  153.5825028923966,\n",
       "  93.7192030264601],\n",
       " [57.4154508002938,\n",
       "  51.88011200102068,\n",
       "  72.09824228595171,\n",
       "  138.40628356364311,\n",
       "  148.3162391669613,\n",
       "  92.88802069364556],\n",
       " [59.45666604544243,\n",
       "  51.51614098560324,\n",
       "  73.25145027378134,\n",
       "  136.18477910872625,\n",
       "  160.587181835141,\n",
       "  93.07314077338242],\n",
       " [56.85590117288808,\n",
       "  50.91808345435613,\n",
       "  71.25492140372364,\n",
       "  135.7299435924038,\n",
       "  155.4689746832849,\n",
       "  93.73538751227863],\n",
       " [54.58042286126249,\n",
       "  52.48427887220399,\n",
       "  71.88384573132079,\n",
       "  137.96575256123413,\n",
       "  152.56326628400274,\n",
       "  96.68098680690936],\n",
       " [57.39452658992269,\n",
       "  49.90322550130201,\n",
       "  71.2817853391939,\n",
       "  137.05201151553,\n",
       "  154.88723248114297,\n",
       "  91.51088691687812],\n",
       " [56.80439253438766,\n",
       "  50.6135453226984,\n",
       "  71.80869234109883,\n",
       "  136.00896991127573,\n",
       "  151.47568564800687,\n",
       "  93.20665759774424],\n",
       " [55.94145712408658,\n",
       "  54.48403790650512,\n",
       "  69.3778064959922,\n",
       "  137.94168904693566,\n",
       "  151.52506341393283,\n",
       "  95.04852273780745],\n",
       " [57.09614899789096,\n",
       "  51.53071909782294,\n",
       "  68.17483288715543,\n",
       "  135.67613823921715,\n",
       "  155.03121239437002,\n",
       "  92.55859926308472],\n",
       " [56.02630702662833,\n",
       "  50.25488250954887,\n",
       "  70.05356648635261,\n",
       "  135.6597735734061,\n",
       "  155.76363791980287,\n",
       "  93.87910476593538],\n",
       " [57.06780799410944,\n",
       "  50.7416934759358,\n",
       "  71.209928466033,\n",
       "  136.15187102978513,\n",
       "  159.15909899926257,\n",
       "  93.3246580048185],\n",
       " [56.79978410036017,\n",
       "  50.6381299103482,\n",
       "  74.22604252353453,\n",
       "  137.2624519486222,\n",
       "  154.28420403048676,\n",
       "  94.66951534637604],\n",
       " [56.77646484177285,\n",
       "  52.9456966291458,\n",
       "  71.50793242380232,\n",
       "  137.12380014236186,\n",
       "  151.6734218576672,\n",
       "  94.9157862552475],\n",
       " [58.39151098235641,\n",
       "  51.36946462436288,\n",
       "  69.92253887279243,\n",
       "  135.8853555992978,\n",
       "  153.4200694892599,\n",
       "  91.51463279538352],\n",
       " [57.554242149293486,\n",
       "  52.835170546660976,\n",
       "  69.27952492207085,\n",
       "  136.19283483212956,\n",
       "  154.01448721864764,\n",
       "  93.60003693953212],\n",
       " [57.64102386115769,\n",
       "  51.51584392708138,\n",
       "  69.40918022516091,\n",
       "  135.74427584428238,\n",
       "  154.74869801630945,\n",
       "  92.23525281887191],\n",
       " [56.795729507945055,\n",
       "  54.386996611475546,\n",
       "  68.98082382062388,\n",
       "  137.32085663886488,\n",
       "  150.2461177443208,\n",
       "  93.99276584296518],\n",
       " [59.58682566761741,\n",
       "  54.72923871673119,\n",
       "  72.3835879289273,\n",
       "  136.60839873898496,\n",
       "  149.82185311782007,\n",
       "  95.2636745569701],\n",
       " [57.65743140157736,\n",
       "  56.2632146906566,\n",
       "  67.56817297617148,\n",
       "  137.92598038158843,\n",
       "  147.13604979349978,\n",
       "  94.31636520846882]]"
      ]
     },
     "execution_count": 52,
     "metadata": {},
     "output_type": "execute_result"
    }
   ],
   "source": [
    "list_df"
   ]
  },
  {
   "cell_type": "code",
   "execution_count": 29,
   "id": "bf0b2561",
   "metadata": {},
   "outputs": [],
   "source": [
    "def mahalanobis(x=None, data=None, cov=None):\n",
    "\n",
    "    x_mu = x - np.mean(data)\n",
    "    if not cov:\n",
    "        cov = np.cov(data.values.T)\n",
    "    inv_covmat = np.linalg.inv(cov)\n",
    "    left = np.dot(x_mu, inv_covmat)\n",
    "    mahal = np.dot(left, x_mu.T)\n",
    "    return mahal.diagonal()"
   ]
  },
  {
   "cell_type": "code",
   "execution_count": 389,
   "id": "a870d90c",
   "metadata": {},
   "outputs": [
    {
     "name": "stderr",
     "output_type": "stream",
     "text": [
      "C:\\Users\\user\\anaconda3\\envs\\health\\lib\\site-packages\\numpy\\core\\fromnumeric.py:3370: FutureWarning: In a future version, DataFrame.mean(axis=None) will return a scalar mean over the entire DataFrame. To retain the old behavior, use 'frame.mean(axis=0)' or just 'frame.mean()'\n",
      "  return mean(axis=axis, dtype=dtype, out=out, **kwargs)\n"
     ]
    }
   ],
   "source": [
    "#create new column in dataframe that contains Mahalanobis distance for each row\n",
    "data['mahalanobis'] = mahalanobis(x=data,data=data[['right_knee', 'right_hip', 'right_ankle','right_hip2','right_neck','right_ankle2']])"
   ]
  },
  {
   "cell_type": "code",
   "execution_count": 34,
   "id": "eb8e409b",
   "metadata": {},
   "outputs": [
    {
     "data": {
      "text/html": [
       "<div>\n",
       "<style scoped>\n",
       "    .dataframe tbody tr th:only-of-type {\n",
       "        vertical-align: middle;\n",
       "    }\n",
       "\n",
       "    .dataframe tbody tr th {\n",
       "        vertical-align: top;\n",
       "    }\n",
       "\n",
       "    .dataframe thead th {\n",
       "        text-align: right;\n",
       "    }\n",
       "</style>\n",
       "<table border=\"1\" class=\"dataframe\">\n",
       "  <thead>\n",
       "    <tr style=\"text-align: right;\">\n",
       "      <th></th>\n",
       "      <th>right_knee</th>\n",
       "      <th>right_hip</th>\n",
       "      <th>right_ankle</th>\n",
       "      <th>right_hip2</th>\n",
       "      <th>right_neck</th>\n",
       "      <th>right_ankle2</th>\n",
       "      <th>mahalanobis</th>\n",
       "    </tr>\n",
       "  </thead>\n",
       "  <tbody>\n",
       "    <tr>\n",
       "      <th>0</th>\n",
       "      <td>60.236153</td>\n",
       "      <td>53.173628</td>\n",
       "      <td>68.938943</td>\n",
       "      <td>135.184266</td>\n",
       "      <td>157.633907</td>\n",
       "      <td>91.500744</td>\n",
       "      <td>8.726160</td>\n",
       "    </tr>\n",
       "    <tr>\n",
       "      <th>1</th>\n",
       "      <td>53.482115</td>\n",
       "      <td>49.450931</td>\n",
       "      <td>71.899611</td>\n",
       "      <td>136.210310</td>\n",
       "      <td>153.409667</td>\n",
       "      <td>94.893287</td>\n",
       "      <td>8.780045</td>\n",
       "    </tr>\n",
       "    <tr>\n",
       "      <th>2</th>\n",
       "      <td>54.462996</td>\n",
       "      <td>50.283753</td>\n",
       "      <td>69.571643</td>\n",
       "      <td>136.234274</td>\n",
       "      <td>153.589439</td>\n",
       "      <td>94.115011</td>\n",
       "      <td>4.907170</td>\n",
       "    </tr>\n",
       "    <tr>\n",
       "      <th>3</th>\n",
       "      <td>56.905177</td>\n",
       "      <td>48.409859</td>\n",
       "      <td>72.536791</td>\n",
       "      <td>135.990405</td>\n",
       "      <td>148.113685</td>\n",
       "      <td>92.675351</td>\n",
       "      <td>11.094592</td>\n",
       "    </tr>\n",
       "    <tr>\n",
       "      <th>4</th>\n",
       "      <td>57.030928</td>\n",
       "      <td>49.257163</td>\n",
       "      <td>73.958173</td>\n",
       "      <td>136.759424</td>\n",
       "      <td>147.962921</td>\n",
       "      <td>93.259258</td>\n",
       "      <td>5.994221</td>\n",
       "    </tr>\n",
       "    <tr>\n",
       "      <th>5</th>\n",
       "      <td>55.046170</td>\n",
       "      <td>47.242889</td>\n",
       "      <td>76.221611</td>\n",
       "      <td>135.910295</td>\n",
       "      <td>152.897825</td>\n",
       "      <td>94.967924</td>\n",
       "      <td>9.192387</td>\n",
       "    </tr>\n",
       "    <tr>\n",
       "      <th>6</th>\n",
       "      <td>55.413610</td>\n",
       "      <td>51.777280</td>\n",
       "      <td>70.459520</td>\n",
       "      <td>137.100039</td>\n",
       "      <td>150.367602</td>\n",
       "      <td>93.337137</td>\n",
       "      <td>9.011125</td>\n",
       "    </tr>\n",
       "    <tr>\n",
       "      <th>7</th>\n",
       "      <td>56.215473</td>\n",
       "      <td>51.851249</td>\n",
       "      <td>70.958418</td>\n",
       "      <td>136.851583</td>\n",
       "      <td>152.007249</td>\n",
       "      <td>94.417568</td>\n",
       "      <td>0.666375</td>\n",
       "    </tr>\n",
       "    <tr>\n",
       "      <th>8</th>\n",
       "      <td>56.315332</td>\n",
       "      <td>49.439284</td>\n",
       "      <td>73.910548</td>\n",
       "      <td>136.932265</td>\n",
       "      <td>155.247902</td>\n",
       "      <td>93.876452</td>\n",
       "      <td>2.847150</td>\n",
       "    </tr>\n",
       "    <tr>\n",
       "      <th>9</th>\n",
       "      <td>55.299114</td>\n",
       "      <td>50.889533</td>\n",
       "      <td>68.864612</td>\n",
       "      <td>137.043344</td>\n",
       "      <td>152.448591</td>\n",
       "      <td>92.736253</td>\n",
       "      <td>5.152355</td>\n",
       "    </tr>\n",
       "    <tr>\n",
       "      <th>10</th>\n",
       "      <td>56.529861</td>\n",
       "      <td>49.065041</td>\n",
       "      <td>73.114990</td>\n",
       "      <td>136.464330</td>\n",
       "      <td>152.819446</td>\n",
       "      <td>92.998605</td>\n",
       "      <td>1.715214</td>\n",
       "    </tr>\n",
       "    <tr>\n",
       "      <th>11</th>\n",
       "      <td>57.080480</td>\n",
       "      <td>49.271402</td>\n",
       "      <td>74.510623</td>\n",
       "      <td>137.327087</td>\n",
       "      <td>153.582503</td>\n",
       "      <td>93.719203</td>\n",
       "      <td>5.940659</td>\n",
       "    </tr>\n",
       "    <tr>\n",
       "      <th>12</th>\n",
       "      <td>57.415451</td>\n",
       "      <td>51.880112</td>\n",
       "      <td>72.098242</td>\n",
       "      <td>138.406284</td>\n",
       "      <td>148.316239</td>\n",
       "      <td>92.888021</td>\n",
       "      <td>8.610208</td>\n",
       "    </tr>\n",
       "    <tr>\n",
       "      <th>13</th>\n",
       "      <td>59.456666</td>\n",
       "      <td>51.516141</td>\n",
       "      <td>73.251450</td>\n",
       "      <td>136.184779</td>\n",
       "      <td>160.587182</td>\n",
       "      <td>93.073141</td>\n",
       "      <td>10.110394</td>\n",
       "    </tr>\n",
       "    <tr>\n",
       "      <th>14</th>\n",
       "      <td>56.855901</td>\n",
       "      <td>50.918083</td>\n",
       "      <td>71.254921</td>\n",
       "      <td>135.729944</td>\n",
       "      <td>155.468975</td>\n",
       "      <td>93.735388</td>\n",
       "      <td>1.800138</td>\n",
       "    </tr>\n",
       "    <tr>\n",
       "      <th>15</th>\n",
       "      <td>54.580423</td>\n",
       "      <td>52.484279</td>\n",
       "      <td>71.883846</td>\n",
       "      <td>137.965753</td>\n",
       "      <td>152.563266</td>\n",
       "      <td>96.680987</td>\n",
       "      <td>8.803259</td>\n",
       "    </tr>\n",
       "    <tr>\n",
       "      <th>16</th>\n",
       "      <td>57.394527</td>\n",
       "      <td>49.903226</td>\n",
       "      <td>71.281785</td>\n",
       "      <td>137.052012</td>\n",
       "      <td>154.887232</td>\n",
       "      <td>91.510887</td>\n",
       "      <td>6.865372</td>\n",
       "    </tr>\n",
       "    <tr>\n",
       "      <th>17</th>\n",
       "      <td>56.804393</td>\n",
       "      <td>50.613545</td>\n",
       "      <td>71.808692</td>\n",
       "      <td>136.008970</td>\n",
       "      <td>151.475686</td>\n",
       "      <td>93.206658</td>\n",
       "      <td>3.498247</td>\n",
       "    </tr>\n",
       "    <tr>\n",
       "      <th>18</th>\n",
       "      <td>55.941457</td>\n",
       "      <td>54.484038</td>\n",
       "      <td>69.377806</td>\n",
       "      <td>137.941689</td>\n",
       "      <td>151.525063</td>\n",
       "      <td>95.048523</td>\n",
       "      <td>4.900305</td>\n",
       "    </tr>\n",
       "    <tr>\n",
       "      <th>19</th>\n",
       "      <td>57.096149</td>\n",
       "      <td>51.530719</td>\n",
       "      <td>68.174833</td>\n",
       "      <td>135.676138</td>\n",
       "      <td>155.031212</td>\n",
       "      <td>92.558599</td>\n",
       "      <td>5.036986</td>\n",
       "    </tr>\n",
       "    <tr>\n",
       "      <th>20</th>\n",
       "      <td>56.026307</td>\n",
       "      <td>50.254883</td>\n",
       "      <td>70.053566</td>\n",
       "      <td>135.659774</td>\n",
       "      <td>155.763638</td>\n",
       "      <td>93.879105</td>\n",
       "      <td>6.473764</td>\n",
       "    </tr>\n",
       "    <tr>\n",
       "      <th>21</th>\n",
       "      <td>57.067808</td>\n",
       "      <td>50.741693</td>\n",
       "      <td>71.209928</td>\n",
       "      <td>136.151871</td>\n",
       "      <td>159.159099</td>\n",
       "      <td>93.324658</td>\n",
       "      <td>4.189812</td>\n",
       "    </tr>\n",
       "    <tr>\n",
       "      <th>22</th>\n",
       "      <td>56.799784</td>\n",
       "      <td>50.638130</td>\n",
       "      <td>74.226043</td>\n",
       "      <td>137.262452</td>\n",
       "      <td>154.284204</td>\n",
       "      <td>94.669515</td>\n",
       "      <td>3.439216</td>\n",
       "    </tr>\n",
       "    <tr>\n",
       "      <th>23</th>\n",
       "      <td>56.776465</td>\n",
       "      <td>52.945697</td>\n",
       "      <td>71.507932</td>\n",
       "      <td>137.123800</td>\n",
       "      <td>151.673422</td>\n",
       "      <td>94.915786</td>\n",
       "      <td>1.770955</td>\n",
       "    </tr>\n",
       "    <tr>\n",
       "      <th>24</th>\n",
       "      <td>58.391511</td>\n",
       "      <td>51.369465</td>\n",
       "      <td>69.922539</td>\n",
       "      <td>135.885356</td>\n",
       "      <td>153.420069</td>\n",
       "      <td>91.514633</td>\n",
       "      <td>3.928368</td>\n",
       "    </tr>\n",
       "    <tr>\n",
       "      <th>25</th>\n",
       "      <td>57.554242</td>\n",
       "      <td>52.835171</td>\n",
       "      <td>69.279525</td>\n",
       "      <td>136.192835</td>\n",
       "      <td>154.014487</td>\n",
       "      <td>93.600037</td>\n",
       "      <td>2.064100</td>\n",
       "    </tr>\n",
       "    <tr>\n",
       "      <th>26</th>\n",
       "      <td>57.641024</td>\n",
       "      <td>51.515844</td>\n",
       "      <td>69.409180</td>\n",
       "      <td>135.744276</td>\n",
       "      <td>154.748698</td>\n",
       "      <td>92.235253</td>\n",
       "      <td>2.342617</td>\n",
       "    </tr>\n",
       "    <tr>\n",
       "      <th>27</th>\n",
       "      <td>56.795730</td>\n",
       "      <td>54.386997</td>\n",
       "      <td>68.980824</td>\n",
       "      <td>137.320857</td>\n",
       "      <td>150.246118</td>\n",
       "      <td>93.992766</td>\n",
       "      <td>4.113029</td>\n",
       "    </tr>\n",
       "    <tr>\n",
       "      <th>28</th>\n",
       "      <td>59.586826</td>\n",
       "      <td>54.729239</td>\n",
       "      <td>72.383588</td>\n",
       "      <td>136.608399</td>\n",
       "      <td>149.821853</td>\n",
       "      <td>95.263675</td>\n",
       "      <td>13.093312</td>\n",
       "    </tr>\n",
       "    <tr>\n",
       "      <th>29</th>\n",
       "      <td>57.657431</td>\n",
       "      <td>56.263215</td>\n",
       "      <td>67.568173</td>\n",
       "      <td>137.925980</td>\n",
       "      <td>147.136050</td>\n",
       "      <td>94.316365</td>\n",
       "      <td>8.932467</td>\n",
       "    </tr>\n",
       "  </tbody>\n",
       "</table>\n",
       "</div>"
      ],
      "text/plain": [
       "    right_knee  right_hip  right_ankle  right_hip2  right_neck  right_ankle2  \\\n",
       "0    60.236153  53.173628    68.938943  135.184266  157.633907     91.500744   \n",
       "1    53.482115  49.450931    71.899611  136.210310  153.409667     94.893287   \n",
       "2    54.462996  50.283753    69.571643  136.234274  153.589439     94.115011   \n",
       "3    56.905177  48.409859    72.536791  135.990405  148.113685     92.675351   \n",
       "4    57.030928  49.257163    73.958173  136.759424  147.962921     93.259258   \n",
       "5    55.046170  47.242889    76.221611  135.910295  152.897825     94.967924   \n",
       "6    55.413610  51.777280    70.459520  137.100039  150.367602     93.337137   \n",
       "7    56.215473  51.851249    70.958418  136.851583  152.007249     94.417568   \n",
       "8    56.315332  49.439284    73.910548  136.932265  155.247902     93.876452   \n",
       "9    55.299114  50.889533    68.864612  137.043344  152.448591     92.736253   \n",
       "10   56.529861  49.065041    73.114990  136.464330  152.819446     92.998605   \n",
       "11   57.080480  49.271402    74.510623  137.327087  153.582503     93.719203   \n",
       "12   57.415451  51.880112    72.098242  138.406284  148.316239     92.888021   \n",
       "13   59.456666  51.516141    73.251450  136.184779  160.587182     93.073141   \n",
       "14   56.855901  50.918083    71.254921  135.729944  155.468975     93.735388   \n",
       "15   54.580423  52.484279    71.883846  137.965753  152.563266     96.680987   \n",
       "16   57.394527  49.903226    71.281785  137.052012  154.887232     91.510887   \n",
       "17   56.804393  50.613545    71.808692  136.008970  151.475686     93.206658   \n",
       "18   55.941457  54.484038    69.377806  137.941689  151.525063     95.048523   \n",
       "19   57.096149  51.530719    68.174833  135.676138  155.031212     92.558599   \n",
       "20   56.026307  50.254883    70.053566  135.659774  155.763638     93.879105   \n",
       "21   57.067808  50.741693    71.209928  136.151871  159.159099     93.324658   \n",
       "22   56.799784  50.638130    74.226043  137.262452  154.284204     94.669515   \n",
       "23   56.776465  52.945697    71.507932  137.123800  151.673422     94.915786   \n",
       "24   58.391511  51.369465    69.922539  135.885356  153.420069     91.514633   \n",
       "25   57.554242  52.835171    69.279525  136.192835  154.014487     93.600037   \n",
       "26   57.641024  51.515844    69.409180  135.744276  154.748698     92.235253   \n",
       "27   56.795730  54.386997    68.980824  137.320857  150.246118     93.992766   \n",
       "28   59.586826  54.729239    72.383588  136.608399  149.821853     95.263675   \n",
       "29   57.657431  56.263215    67.568173  137.925980  147.136050     94.316365   \n",
       "\n",
       "    mahalanobis  \n",
       "0      8.726160  \n",
       "1      8.780045  \n",
       "2      4.907170  \n",
       "3     11.094592  \n",
       "4      5.994221  \n",
       "5      9.192387  \n",
       "6      9.011125  \n",
       "7      0.666375  \n",
       "8      2.847150  \n",
       "9      5.152355  \n",
       "10     1.715214  \n",
       "11     5.940659  \n",
       "12     8.610208  \n",
       "13    10.110394  \n",
       "14     1.800138  \n",
       "15     8.803259  \n",
       "16     6.865372  \n",
       "17     3.498247  \n",
       "18     4.900305  \n",
       "19     5.036986  \n",
       "20     6.473764  \n",
       "21     4.189812  \n",
       "22     3.439216  \n",
       "23     1.770955  \n",
       "24     3.928368  \n",
       "25     2.064100  \n",
       "26     2.342617  \n",
       "27     4.113029  \n",
       "28    13.093312  \n",
       "29     8.932467  "
      ]
     },
     "execution_count": 34,
     "metadata": {},
     "output_type": "execute_result"
    }
   ],
   "source": [
    "data"
   ]
  },
  {
   "cell_type": "code",
   "execution_count": 50,
   "id": "03337c0f",
   "metadata": {},
   "outputs": [],
   "source": [
    "mahala_mean = data.iloc[:,-1].mean()"
   ]
  },
  {
   "cell_type": "code",
   "execution_count": null,
   "id": "b213dad0",
   "metadata": {},
   "outputs": [],
   "source": [
    "{}"
   ]
  },
  {
   "cell_type": "code",
   "execution_count": 51,
   "id": "80861d08",
   "metadata": {},
   "outputs": [
    {
     "ename": "TypeError",
     "evalue": "'numpy.float64' object is not iterable",
     "output_type": "error",
     "traceback": [
      "\u001b[1;31m---------------------------------------------------------------------------\u001b[0m",
      "\u001b[1;31mTypeError\u001b[0m                                 Traceback (most recent call last)",
      "\u001b[1;32mC:\\Users\\Public\\Documents\\ESTsoft\\CreatorTemp/ipykernel_1564/2032077716.py\u001b[0m in \u001b[0;36m<module>\u001b[1;34m\u001b[0m\n\u001b[1;32m----> 1\u001b[1;33m \u001b[0mmahala_mean\u001b[0m \u001b[1;33m=\u001b[0m \u001b[0mlist\u001b[0m\u001b[1;33m(\u001b[0m\u001b[0mmahala_mean\u001b[0m\u001b[1;33m)\u001b[0m\u001b[1;33m\u001b[0m\u001b[1;33m\u001b[0m\u001b[0m\n\u001b[0m",
      "\u001b[1;31mTypeError\u001b[0m: 'numpy.float64' object is not iterable"
     ]
    }
   ],
   "source": [
    "mahala_mean = list(mahala_mean)"
   ]
  },
  {
   "cell_type": "code",
   "execution_count": 143,
   "id": "0c2261ef",
   "metadata": {},
   "outputs": [],
   "source": [
    "data.to_csv('C:\\\\Users\\\\user\\\\graduation_work\\\\mahalano.csv', index=False)"
   ]
  },
  {
   "cell_type": "code",
   "execution_count": 535,
   "id": "4176651f",
   "metadata": {},
   "outputs": [],
   "source": [
    "data = pd.read_csv('mahalano.csv')"
   ]
  },
  {
   "cell_type": "code",
   "execution_count": 14,
   "id": "1ef29718",
   "metadata": {},
   "outputs": [],
   "source": [
    "data3 = data2.sample(frac=1).reset_index(drop=True)"
   ]
  },
  {
   "cell_type": "code",
   "execution_count": 511,
   "id": "40e6f8f4",
   "metadata": {},
   "outputs": [
    {
     "name": "stderr",
     "output_type": "stream",
     "text": [
      "C:\\Users\\user\\anaconda3\\envs\\health\\lib\\site-packages\\numpy\\core\\fromnumeric.py:3370: FutureWarning: In a future version, DataFrame.mean(axis=None) will return a scalar mean over the entire DataFrame. To retain the old behavior, use 'frame.mean(axis=0)' or just 'frame.mean()'\n",
      "  return mean(axis=axis, dtype=dtype, out=out, **kwargs)\n"
     ]
    }
   ],
   "source": [
    "data = pd.read_csv('Squat Land Mark seyong2.csv')\n",
    "#create new column in dataframe that contains Mahalanobisdistance for each row\n",
    "data['mahalanobis'] = mahalanobis(x=data,data=data[['right_knee', 'right_hip', 'right_ankle','right_hip2','right_neck','right_ankle2']])"
   ]
  },
  {
   "cell_type": "code",
   "execution_count": 501,
   "id": "69a255bd",
   "metadata": {},
   "outputs": [
    {
     "data": {
      "text/plain": [
       "right_knee       67.682147\n",
       "right_hip        45.677335\n",
       "right_ankle      85.913618\n",
       "right_hip2      132.416412\n",
       "right_neck      138.049261\n",
       "right_ankle2     93.500007\n",
       "mahalanobis       5.700000\n",
       "dtype: float64"
      ]
     },
     "execution_count": 501,
     "metadata": {},
     "output_type": "execute_result"
    }
   ],
   "source": [
    "data.mean()"
   ]
  },
  {
   "cell_type": "code",
   "execution_count": 536,
   "id": "f4f7ce2b",
   "metadata": {},
   "outputs": [
    {
     "data": {
      "text/plain": [
       "<matplotlib.collections.LineCollection at 0x2481b673e80>"
      ]
     },
     "execution_count": 536,
     "metadata": {},
     "output_type": "execute_result"
    },
    {
     "data": {
      "image/png": "[encoded data removed]",
      "text/plain": [
       "<Figure size 432x288 with 1 Axes>"
      ]
     },
     "metadata": {
      "needs_background": "light"
     },
     "output_type": "display_data"
    }
   ],
   "source": [
    "plt.title('squat pattern', fontsize=17)\n",
    "plt.ylim(0,25)\n",
    "plt.plot(data, 'k.')\n",
    "plt.xlabel(\"Count\", fontsize=14)\n",
    "plt.ylabel(\"Mahalanovis\", fontsize=14)\n",
    "plt.hlines(y=12.8, xmin=0, xmax=len(data), linestyle='solid', color = 'blue')\n",
    "plt.hlines(y=10, xmin=0, xmax=len(data), linestyle='solid', color = 'blue')\n",
    "plt.hlines(y=8.5, xmin=0, xmax=len(data), linestyle='solid', color = 'green')"
   ]
  },
  {
   "cell_type": "code",
   "execution_count": 538,
   "id": "a2a35fb0",
   "metadata": {},
   "outputs": [
    {
     "data": {
      "text/plain": [
       "<matplotlib.legend.Legend at 0x2481b7957c0>"
      ]
     },
     "execution_count": 538,
     "metadata": {},
     "output_type": "execute_result"
    },
    {
     "data": {
      "image/png": "[encoded data removed]",
      "text/plain": [
       "<Figure size 432x288 with 1 Axes>"
      ]
     },
     "metadata": {
      "needs_background": "light"
     },
     "output_type": "display_data"
    }
   ],
   "source": [
    "plt.title('squat pattern', fontsize=17)\n",
    "plt.ylim(0,25)\n",
    "plt.plot(data.iloc[:,-1], 'k.')\n",
    "plt.xlabel(\"Count\", fontsize=14)\n",
    "plt.ylabel(\"Mahalanobis\", fontsize=14)\n",
    "plt.hlines(y=12.8, xmin=0, xmax=len(data), linestyle='solid', color = 'red')\n",
    "plt.hlines(y=10, xmin=0, xmax=len(data), linestyle='solid', color = 'blue')\n",
    "plt.hlines(y=8.5, xmin=0, xmax=len(data), linestyle='solid', color = 'green')\n",
    "plt.legend(['squat','alpha=0.1','alpha=0.3','alpha=0.5'], fontsize=12)"
   ]
  },
  {
   "cell_type": "code",
   "execution_count": 546,
   "id": "5bee3cfe",
   "metadata": {},
   "outputs": [
    {
     "data": {
      "text/plain": [
       "<matplotlib.legend.Legend at 0x2481b8fa6a0>"
      ]
     },
     "execution_count": 546,
     "metadata": {},
     "output_type": "execute_result"
    },
    {
     "data": {
      "image/png": "[encoded data removed]",
      "text/plain": [
       "<Figure size 432x288 with 1 Axes>"
      ]
     },
     "metadata": {
      "needs_background": "light"
     },
     "output_type": "display_data"
    }
   ],
   "source": [
    "plt.title('squat pattern', fontsize=17)\n",
    "plt.ylim(0,25)\n",
    "plt.plot(data.iloc[:,-1], 'k.')\n",
    "plt.xlabel(\"Count\", fontsize=14)\n",
    "plt.ylabel(\"Mahalanobis\", fontsize=14)\n",
    "plt.hlines(y=12.8, xmin=0, xmax=len(data), linestyle='solid', color = 'red')\n",
    "plt.hlines(y=10, xmin=0, xmax=len(data), linestyle='solid', color = 'blue')\n",
    "plt.hlines(y=8.5, xmin=0, xmax=len(data), linestyle='solid', color = 'green')\n",
    "plt.legend(['squat','alpha=0.1','alpha=0.3','alpha=0.5'], fontsize=12)"
   ]
  },
  {
   "cell_type": "code",
   "execution_count": 452,
   "id": "e1e260c1",
   "metadata": {},
   "outputs": [],
   "source": [
    "from itertools import chain\n",
    "outlierIndexes = np.where(data.iloc[:,-1] > 8.5)\n",
    "outlierIndexes = list(outlierIndexes)\n",
    "outlierIndexes = list(chain(*outlierIndexes))"
   ]
  },
  {
   "cell_type": "code",
   "execution_count": 503,
   "id": "458b0b91",
   "metadata": {},
   "outputs": [
    {
     "data": {
      "text/plain": [
       "[0, 8, 11]"
      ]
     },
     "execution_count": 503,
     "metadata": {},
     "output_type": "execute_result"
    }
   ],
   "source": [
    "outlierIndexes"
   ]
  },
  {
   "cell_type": "code",
   "execution_count": 513,
   "id": "f0871386",
   "metadata": {},
   "outputs": [
    {
     "data": {
      "text/html": [
       "<div>\n",
       "<style scoped>\n",
       "    .dataframe tbody tr th:only-of-type {\n",
       "        vertical-align: middle;\n",
       "    }\n",
       "\n",
       "    .dataframe tbody tr th {\n",
       "        vertical-align: top;\n",
       "    }\n",
       "\n",
       "    .dataframe thead th {\n",
       "        text-align: right;\n",
       "    }\n",
       "</style>\n",
       "<table border=\"1\" class=\"dataframe\">\n",
       "  <thead>\n",
       "    <tr style=\"text-align: right;\">\n",
       "      <th></th>\n",
       "      <th>right_knee</th>\n",
       "      <th>right_hip</th>\n",
       "      <th>right_ankle</th>\n",
       "      <th>right_hip2</th>\n",
       "      <th>right_neck</th>\n",
       "      <th>right_ankle2</th>\n",
       "      <th>mahalanobis</th>\n",
       "    </tr>\n",
       "  </thead>\n",
       "  <tbody>\n",
       "    <tr>\n",
       "      <th>0</th>\n",
       "      <td>71.106512</td>\n",
       "      <td>45.906974</td>\n",
       "      <td>85.332092</td>\n",
       "      <td>129.434287</td>\n",
       "      <td>149.606467</td>\n",
       "      <td>93.876903</td>\n",
       "      <td>11.410796</td>\n",
       "    </tr>\n",
       "    <tr>\n",
       "      <th>1</th>\n",
       "      <td>69.857743</td>\n",
       "      <td>49.805739</td>\n",
       "      <td>86.409966</td>\n",
       "      <td>133.448620</td>\n",
       "      <td>138.522623</td>\n",
       "      <td>95.908018</td>\n",
       "      <td>3.738191</td>\n",
       "    </tr>\n",
       "    <tr>\n",
       "      <th>2</th>\n",
       "      <td>70.402139</td>\n",
       "      <td>48.706834</td>\n",
       "      <td>86.905437</td>\n",
       "      <td>132.483602</td>\n",
       "      <td>142.336333</td>\n",
       "      <td>95.230885</td>\n",
       "      <td>1.877685</td>\n",
       "    </tr>\n",
       "    <tr>\n",
       "      <th>3</th>\n",
       "      <td>70.293506</td>\n",
       "      <td>49.232010</td>\n",
       "      <td>84.855886</td>\n",
       "      <td>132.801686</td>\n",
       "      <td>139.578060</td>\n",
       "      <td>94.214323</td>\n",
       "      <td>1.892502</td>\n",
       "    </tr>\n",
       "    <tr>\n",
       "      <th>4</th>\n",
       "      <td>70.899600</td>\n",
       "      <td>49.652500</td>\n",
       "      <td>85.653201</td>\n",
       "      <td>132.623366</td>\n",
       "      <td>142.411048</td>\n",
       "      <td>95.000190</td>\n",
       "      <td>1.579595</td>\n",
       "    </tr>\n",
       "    <tr>\n",
       "      <th>5</th>\n",
       "      <td>72.432360</td>\n",
       "      <td>49.513119</td>\n",
       "      <td>86.682570</td>\n",
       "      <td>131.925439</td>\n",
       "      <td>142.264790</td>\n",
       "      <td>94.741655</td>\n",
       "      <td>3.476842</td>\n",
       "    </tr>\n",
       "    <tr>\n",
       "      <th>6</th>\n",
       "      <td>69.178656</td>\n",
       "      <td>49.015521</td>\n",
       "      <td>84.015891</td>\n",
       "      <td>133.492624</td>\n",
       "      <td>139.225965</td>\n",
       "      <td>94.345595</td>\n",
       "      <td>8.123551</td>\n",
       "    </tr>\n",
       "    <tr>\n",
       "      <th>7</th>\n",
       "      <td>70.488021</td>\n",
       "      <td>50.822920</td>\n",
       "      <td>83.471821</td>\n",
       "      <td>133.803748</td>\n",
       "      <td>138.256393</td>\n",
       "      <td>92.177983</td>\n",
       "      <td>6.584858</td>\n",
       "    </tr>\n",
       "    <tr>\n",
       "      <th>8</th>\n",
       "      <td>74.359320</td>\n",
       "      <td>50.156199</td>\n",
       "      <td>86.381050</td>\n",
       "      <td>132.303807</td>\n",
       "      <td>146.404126</td>\n",
       "      <td>92.702115</td>\n",
       "      <td>10.371037</td>\n",
       "    </tr>\n",
       "    <tr>\n",
       "      <th>9</th>\n",
       "      <td>72.641513</td>\n",
       "      <td>50.850474</td>\n",
       "      <td>88.546333</td>\n",
       "      <td>133.330755</td>\n",
       "      <td>143.714947</td>\n",
       "      <td>95.486206</td>\n",
       "      <td>4.874040</td>\n",
       "    </tr>\n",
       "    <tr>\n",
       "      <th>10</th>\n",
       "      <td>71.170062</td>\n",
       "      <td>51.932606</td>\n",
       "      <td>85.980317</td>\n",
       "      <td>133.925708</td>\n",
       "      <td>140.198492</td>\n",
       "      <td>94.816856</td>\n",
       "      <td>5.529046</td>\n",
       "    </tr>\n",
       "    <tr>\n",
       "      <th>11</th>\n",
       "      <td>60.219649</td>\n",
       "      <td>38.222935</td>\n",
       "      <td>81.609648</td>\n",
       "      <td>130.727255</td>\n",
       "      <td>140.875431</td>\n",
       "      <td>90.477176</td>\n",
       "      <td>12.735610</td>\n",
       "    </tr>\n",
       "    <tr>\n",
       "      <th>12</th>\n",
       "      <td>61.978521</td>\n",
       "      <td>40.961590</td>\n",
       "      <td>82.060404</td>\n",
       "      <td>132.340950</td>\n",
       "      <td>132.130544</td>\n",
       "      <td>89.928205</td>\n",
       "      <td>4.900245</td>\n",
       "    </tr>\n",
       "    <tr>\n",
       "      <th>13</th>\n",
       "      <td>62.372406</td>\n",
       "      <td>40.845915</td>\n",
       "      <td>84.686918</td>\n",
       "      <td>132.114428</td>\n",
       "      <td>131.595061</td>\n",
       "      <td>91.424078</td>\n",
       "      <td>4.251271</td>\n",
       "    </tr>\n",
       "    <tr>\n",
       "      <th>14</th>\n",
       "      <td>65.936356</td>\n",
       "      <td>41.295031</td>\n",
       "      <td>92.199049</td>\n",
       "      <td>132.612559</td>\n",
       "      <td>130.664412</td>\n",
       "      <td>95.016728</td>\n",
       "      <td>7.601129</td>\n",
       "    </tr>\n",
       "    <tr>\n",
       "      <th>15</th>\n",
       "      <td>61.553452</td>\n",
       "      <td>40.551637</td>\n",
       "      <td>84.246949</td>\n",
       "      <td>132.434792</td>\n",
       "      <td>132.065535</td>\n",
       "      <td>91.299225</td>\n",
       "      <td>3.219082</td>\n",
       "    </tr>\n",
       "    <tr>\n",
       "      <th>16</th>\n",
       "      <td>63.504324</td>\n",
       "      <td>41.219361</td>\n",
       "      <td>86.995847</td>\n",
       "      <td>132.151390</td>\n",
       "      <td>130.180989</td>\n",
       "      <td>94.481828</td>\n",
       "      <td>6.444084</td>\n",
       "    </tr>\n",
       "    <tr>\n",
       "      <th>17</th>\n",
       "      <td>64.289550</td>\n",
       "      <td>41.223524</td>\n",
       "      <td>89.382870</td>\n",
       "      <td>132.488925</td>\n",
       "      <td>130.831328</td>\n",
       "      <td>93.786783</td>\n",
       "      <td>4.109272</td>\n",
       "    </tr>\n",
       "    <tr>\n",
       "      <th>18</th>\n",
       "      <td>65.234685</td>\n",
       "      <td>41.289316</td>\n",
       "      <td>83.912683</td>\n",
       "      <td>131.022779</td>\n",
       "      <td>136.059293</td>\n",
       "      <td>91.359793</td>\n",
       "      <td>6.065311</td>\n",
       "    </tr>\n",
       "    <tr>\n",
       "      <th>19</th>\n",
       "      <td>65.724568</td>\n",
       "      <td>42.342504</td>\n",
       "      <td>88.943437</td>\n",
       "      <td>132.861520</td>\n",
       "      <td>134.063379</td>\n",
       "      <td>93.725589</td>\n",
       "      <td>5.215854</td>\n",
       "    </tr>\n",
       "  </tbody>\n",
       "</table>\n",
       "</div>"
      ],
      "text/plain": [
       "    right_knee  right_hip  right_ankle  right_hip2  right_neck  right_ankle2  \\\n",
       "0    71.106512  45.906974    85.332092  129.434287  149.606467     93.876903   \n",
       "1    69.857743  49.805739    86.409966  133.448620  138.522623     95.908018   \n",
       "2    70.402139  48.706834    86.905437  132.483602  142.336333     95.230885   \n",
       "3    70.293506  49.232010    84.855886  132.801686  139.578060     94.214323   \n",
       "4    70.899600  49.652500    85.653201  132.623366  142.411048     95.000190   \n",
       "5    72.432360  49.513119    86.682570  131.925439  142.264790     94.741655   \n",
       "6    69.178656  49.015521    84.015891  133.492624  139.225965     94.345595   \n",
       "7    70.488021  50.822920    83.471821  133.803748  138.256393     92.177983   \n",
       "8    74.359320  50.156199    86.381050  132.303807  146.404126     92.702115   \n",
       "9    72.641513  50.850474    88.546333  133.330755  143.714947     95.486206   \n",
       "10   71.170062  51.932606    85.980317  133.925708  140.198492     94.816856   \n",
       "11   60.219649  38.222935    81.609648  130.727255  140.875431     90.477176   \n",
       "12   61.978521  40.961590    82.060404  132.340950  132.130544     89.928205   \n",
       "13   62.372406  40.845915    84.686918  132.114428  131.595061     91.424078   \n",
       "14   65.936356  41.295031    92.199049  132.612559  130.664412     95.016728   \n",
       "15   61.553452  40.551637    84.246949  132.434792  132.065535     91.299225   \n",
       "16   63.504324  41.219361    86.995847  132.151390  130.180989     94.481828   \n",
       "17   64.289550  41.223524    89.382870  132.488925  130.831328     93.786783   \n",
       "18   65.234685  41.289316    83.912683  131.022779  136.059293     91.359793   \n",
       "19   65.724568  42.342504    88.943437  132.861520  134.063379     93.725589   \n",
       "\n",
       "    mahalanobis  \n",
       "0     11.410796  \n",
       "1      3.738191  \n",
       "2      1.877685  \n",
       "3      1.892502  \n",
       "4      1.579595  \n",
       "5      3.476842  \n",
       "6      8.123551  \n",
       "7      6.584858  \n",
       "8     10.371037  \n",
       "9      4.874040  \n",
       "10     5.529046  \n",
       "11    12.735610  \n",
       "12     4.900245  \n",
       "13     4.251271  \n",
       "14     7.601129  \n",
       "15     3.219082  \n",
       "16     6.444084  \n",
       "17     4.109272  \n",
       "18     6.065311  \n",
       "19     5.215854  "
      ]
     },
     "execution_count": 513,
     "metadata": {},
     "output_type": "execute_result"
    }
   ],
   "source": [
    "data"
   ]
  },
  {
   "cell_type": "code",
   "execution_count": null,
   "id": "1e876818",
   "metadata": {},
   "outputs": [],
   "source": [
    "def mahalanobis(x=None, data=None, cov=None):\n",
    "\n",
    "    x_mu = x - np.mean(data)\n",
    "    if not cov:\n",
    "        cov = np.cov(data.values.T)\n",
    "    inv_covmat = np.linalg.inv(cov)\n",
    "    left = np.dot(x_mu, inv_covmat)\n",
    "    mahal = np.dot(left, x_mu.T)\n",
    "    return mahal.diagonal()"
   ]
  },
  {
   "cell_type": "code",
   "execution_count": 505,
   "id": "e565a86f",
   "metadata": {},
   "outputs": [
    {
     "name": "stderr",
     "output_type": "stream",
     "text": [
      "C:\\Users\\user\\anaconda3\\envs\\health\\lib\\site-packages\\numpy\\core\\fromnumeric.py:3370: FutureWarning: In a future version, DataFrame.mean(axis=None) will return a scalar mean over the entire DataFrame. To retain the old behavior, use 'frame.mean(axis=0)' or just 'frame.mean()'\n",
      "  return mean(axis=axis, dtype=dtype, out=out, **kwargs)\n"
     ]
    }
   ],
   "source": [
    "data['mahalanobis_knee'] = mahalanobis(x=data.iloc[:,1:-1], data=data[['right_hip', 'right_ankle','right_hip2','right_neck','right_ankle2']])"
   ]
  },
  {
   "cell_type": "code",
   "execution_count": 517,
   "id": "adcb6ba6",
   "metadata": {},
   "outputs": [],
   "source": [
    "data_knee = data.drop(['right_knee','mahalanobis'], axis=1)\n",
    "data_hip = data.drop(['right_hip','mahalanobis'], axis=1)\n",
    "data_ankle = data.drop(['right_ankle','mahalanobis'], axis=1)\n",
    "data_hip2 = data.drop(['right_hip2','mahalanobis'], axis=1)\n",
    "data_neck = data.drop(['right_neck','mahalanobis'], axis=1)\n",
    "data_ankle2 = data.drop(['right_ankle2','mahalanobis'], axis=1)"
   ]
  },
  {
   "cell_type": "code",
   "execution_count": 521,
   "id": "ef667822",
   "metadata": {},
   "outputs": [
    {
     "name": "stderr",
     "output_type": "stream",
     "text": [
      "C:\\Users\\user\\anaconda3\\envs\\health\\lib\\site-packages\\numpy\\core\\fromnumeric.py:3370: FutureWarning: In a future version, DataFrame.mean(axis=None) will return a scalar mean over the entire DataFrame. To retain the old behavior, use 'frame.mean(axis=0)' or just 'frame.mean()'\n",
      "  return mean(axis=axis, dtype=dtype, out=out, **kwargs)\n"
     ]
    }
   ],
   "source": [
    "data['mhn_knee'] = mahalanobis(x=data_knee, data=data[['right_hip', 'right_ankle','right_hip2','right_neck','right_ankle2']])"
   ]
  },
  {
   "cell_type": "code",
   "execution_count": null,
   "id": "fb857ee1",
   "metadata": {},
   "outputs": [],
   "source": [
    "data['mhn_hip'] = mahalanobis(x=data_hip, data=data_hip)"
   ]
  },
  {
   "cell_type": "code",
   "execution_count": 526,
   "id": "4f253bc0",
   "metadata": {},
   "outputs": [
    {
     "name": "stderr",
     "output_type": "stream",
     "text": [
      "C:\\Users\\user\\anaconda3\\envs\\health\\lib\\site-packages\\numpy\\core\\fromnumeric.py:3370: FutureWarning: In a future version, DataFrame.mean(axis=None) will return a scalar mean over the entire DataFrame. To retain the old behavior, use 'frame.mean(axis=0)' or just 'frame.mean()'\n",
      "  return mean(axis=axis, dtype=dtype, out=out, **kwargs)\n",
      "C:\\Users\\user\\anaconda3\\envs\\health\\lib\\site-packages\\numpy\\core\\fromnumeric.py:3370: FutureWarning: In a future version, DataFrame.mean(axis=None) will return a scalar mean over the entire DataFrame. To retain the old behavior, use 'frame.mean(axis=0)' or just 'frame.mean()'\n",
      "  return mean(axis=axis, dtype=dtype, out=out, **kwargs)\n",
      "C:\\Users\\user\\anaconda3\\envs\\health\\lib\\site-packages\\numpy\\core\\fromnumeric.py:3370: FutureWarning: In a future version, DataFrame.mean(axis=None) will return a scalar mean over the entire DataFrame. To retain the old behavior, use 'frame.mean(axis=0)' or just 'frame.mean()'\n",
      "  return mean(axis=axis, dtype=dtype, out=out, **kwargs)\n"
     ]
    }
   ],
   "source": [
    "data['mhn_ankle'] = mahalanobis(x=data_ankle, data=data_ankle)\n",
    "data['mhn_hip2'] = mahalanobis(x=data_hip2, data=data_hip2)\n",
    "data['mhn_neck'] = mahalanobis(x=data_neck, data=data_neck)\n",
    "data['mhn_ankle2'] = mahalanobis(x=data_ankle2, data=data_ankle2)"
   ]
  },
  {
   "cell_type": "code",
   "execution_count": 530,
   "id": "02c8b1fa",
   "metadata": {},
   "outputs": [
    {
     "data": {
      "text/plain": [
       "mahalanobis    11.410796\n",
       "mhn_knee       10.873139\n",
       "mhn_hip        10.621884\n",
       "mhn_ankle      10.903809\n",
       "mhn_hip2        8.703279\n",
       "mhn_neck       11.384659\n",
       "mhn_ankle2     11.267892\n",
       "Name: 0, dtype: float64"
      ]
     },
     "execution_count": 530,
     "metadata": {},
     "output_type": "execute_result"
    }
   ],
   "source": [
    "data.iloc[0,6:]"
   ]
  },
  {
   "cell_type": "code",
   "execution_count": 532,
   "id": "0f104c75",
   "metadata": {},
   "outputs": [
    {
     "data": {
      "text/plain": [
       "mahalanobis    10.371037\n",
       "mhn_knee        8.098267\n",
       "mhn_hip         8.781468\n",
       "mhn_ankle      10.164876\n",
       "mhn_hip2        8.713753\n",
       "mhn_neck        9.807267\n",
       "mhn_ankle2     10.053792\n",
       "Name: 8, dtype: float64"
      ]
     },
     "execution_count": 532,
     "metadata": {},
     "output_type": "execute_result"
    }
   ],
   "source": [
    "data.iloc[8,6:]"
   ]
  },
  {
   "cell_type": "code",
   "execution_count": 533,
   "id": "c1fe6906",
   "metadata": {},
   "outputs": [
    {
     "data": {
      "text/plain": [
       "mahalanobis    12.735610\n",
       "mhn_knee       12.471203\n",
       "mhn_hip        12.597412\n",
       "mhn_ankle      12.727494\n",
       "mhn_hip2       12.012733\n",
       "mhn_neck        5.877242\n",
       "mhn_ankle2     12.647090\n",
       "Name: 11, dtype: float64"
      ]
     },
     "execution_count": 533,
     "metadata": {},
     "output_type": "execute_result"
    }
   ],
   "source": [
    "data.iloc[11,6:]"
   ]
  },
  {
   "cell_type": "code",
   "execution_count": 446,
   "id": "af2d88f9",
   "metadata": {},
   "outputs": [
    {
     "name": "stderr",
     "output_type": "stream",
     "text": [
      "C:\\Users\\user\\anaconda3\\envs\\health\\lib\\site-packages\\numpy\\core\\fromnumeric.py:3370: FutureWarning: In a future version, DataFrame.mean(axis=None) will return a scalar mean over the entire DataFrame. To retain the old behavior, use 'frame.mean(axis=0)' or just 'frame.mean()'\n",
      "  return mean(axis=axis, dtype=dtype, out=out, **kwargs)\n"
     ]
    }
   ],
   "source": [
    "data['mahalanobis_knee'] = mahalanobis(x=data.iloc[:,1:-1] ,data=data[['right_hip', 'right_ankle','right_hip2','right_neck','right_ankle2']])"
   ]
  },
  {
   "cell_type": "code",
   "execution_count": 447,
   "id": "767d8d9a",
   "metadata": {},
   "outputs": [
    {
     "data": {
      "text/html": [
       "<div>\n",
       "<style scoped>\n",
       "    .dataframe tbody tr th:only-of-type {\n",
       "        vertical-align: middle;\n",
       "    }\n",
       "\n",
       "    .dataframe tbody tr th {\n",
       "        vertical-align: top;\n",
       "    }\n",
       "\n",
       "    .dataframe thead th {\n",
       "        text-align: right;\n",
       "    }\n",
       "</style>\n",
       "<table border=\"1\" class=\"dataframe\">\n",
       "  <thead>\n",
       "    <tr style=\"text-align: right;\">\n",
       "      <th></th>\n",
       "      <th>right_knee</th>\n",
       "      <th>right_hip</th>\n",
       "      <th>right_ankle</th>\n",
       "      <th>right_hip2</th>\n",
       "      <th>right_neck</th>\n",
       "      <th>right_ankle2</th>\n",
       "      <th>mahalanobis</th>\n",
       "      <th>mahalanobis_knee</th>\n",
       "    </tr>\n",
       "  </thead>\n",
       "  <tbody>\n",
       "    <tr>\n",
       "      <th>0</th>\n",
       "      <td>71.106512</td>\n",
       "      <td>45.906974</td>\n",
       "      <td>85.332092</td>\n",
       "      <td>129.434287</td>\n",
       "      <td>149.606467</td>\n",
       "      <td>93.876903</td>\n",
       "      <td>11.410796</td>\n",
       "      <td>10.873139</td>\n",
       "    </tr>\n",
       "    <tr>\n",
       "      <th>1</th>\n",
       "      <td>69.857743</td>\n",
       "      <td>49.805739</td>\n",
       "      <td>86.409966</td>\n",
       "      <td>133.448620</td>\n",
       "      <td>138.522623</td>\n",
       "      <td>95.908018</td>\n",
       "      <td>3.738191</td>\n",
       "      <td>3.730879</td>\n",
       "    </tr>\n",
       "    <tr>\n",
       "      <th>2</th>\n",
       "      <td>70.402139</td>\n",
       "      <td>48.706834</td>\n",
       "      <td>86.905437</td>\n",
       "      <td>132.483602</td>\n",
       "      <td>142.336333</td>\n",
       "      <td>95.230885</td>\n",
       "      <td>1.877685</td>\n",
       "      <td>1.463196</td>\n",
       "    </tr>\n",
       "    <tr>\n",
       "      <th>3</th>\n",
       "      <td>70.293506</td>\n",
       "      <td>49.232010</td>\n",
       "      <td>84.855886</td>\n",
       "      <td>132.801686</td>\n",
       "      <td>139.578060</td>\n",
       "      <td>94.214323</td>\n",
       "      <td>1.892502</td>\n",
       "      <td>1.620725</td>\n",
       "    </tr>\n",
       "    <tr>\n",
       "      <th>4</th>\n",
       "      <td>70.899600</td>\n",
       "      <td>49.652500</td>\n",
       "      <td>85.653201</td>\n",
       "      <td>132.623366</td>\n",
       "      <td>142.411048</td>\n",
       "      <td>95.000190</td>\n",
       "      <td>1.579595</td>\n",
       "      <td>1.575500</td>\n",
       "    </tr>\n",
       "    <tr>\n",
       "      <th>5</th>\n",
       "      <td>72.432360</td>\n",
       "      <td>49.513119</td>\n",
       "      <td>86.682570</td>\n",
       "      <td>131.925439</td>\n",
       "      <td>142.264790</td>\n",
       "      <td>94.741655</td>\n",
       "      <td>3.476842</td>\n",
       "      <td>3.462689</td>\n",
       "    </tr>\n",
       "    <tr>\n",
       "      <th>6</th>\n",
       "      <td>69.178656</td>\n",
       "      <td>49.015521</td>\n",
       "      <td>84.015891</td>\n",
       "      <td>133.492624</td>\n",
       "      <td>139.225965</td>\n",
       "      <td>94.345595</td>\n",
       "      <td>8.123551</td>\n",
       "      <td>4.047954</td>\n",
       "    </tr>\n",
       "    <tr>\n",
       "      <th>7</th>\n",
       "      <td>70.488021</td>\n",
       "      <td>50.822920</td>\n",
       "      <td>83.471821</td>\n",
       "      <td>133.803748</td>\n",
       "      <td>138.256393</td>\n",
       "      <td>92.177983</td>\n",
       "      <td>6.584858</td>\n",
       "      <td>6.406614</td>\n",
       "    </tr>\n",
       "    <tr>\n",
       "      <th>8</th>\n",
       "      <td>74.359320</td>\n",
       "      <td>50.156199</td>\n",
       "      <td>86.381050</td>\n",
       "      <td>132.303807</td>\n",
       "      <td>146.404126</td>\n",
       "      <td>92.702115</td>\n",
       "      <td>10.371037</td>\n",
       "      <td>8.098267</td>\n",
       "    </tr>\n",
       "    <tr>\n",
       "      <th>9</th>\n",
       "      <td>72.641513</td>\n",
       "      <td>50.850474</td>\n",
       "      <td>88.546333</td>\n",
       "      <td>133.330755</td>\n",
       "      <td>143.714947</td>\n",
       "      <td>95.486206</td>\n",
       "      <td>4.874040</td>\n",
       "      <td>4.538047</td>\n",
       "    </tr>\n",
       "    <tr>\n",
       "      <th>10</th>\n",
       "      <td>71.170062</td>\n",
       "      <td>51.932606</td>\n",
       "      <td>85.980317</td>\n",
       "      <td>133.925708</td>\n",
       "      <td>140.198492</td>\n",
       "      <td>94.816856</td>\n",
       "      <td>5.529046</td>\n",
       "      <td>2.605860</td>\n",
       "    </tr>\n",
       "    <tr>\n",
       "      <th>11</th>\n",
       "      <td>60.219649</td>\n",
       "      <td>38.222935</td>\n",
       "      <td>81.609648</td>\n",
       "      <td>130.727255</td>\n",
       "      <td>140.875431</td>\n",
       "      <td>90.477176</td>\n",
       "      <td>12.735610</td>\n",
       "      <td>12.471203</td>\n",
       "    </tr>\n",
       "    <tr>\n",
       "      <th>12</th>\n",
       "      <td>61.978521</td>\n",
       "      <td>40.961590</td>\n",
       "      <td>82.060404</td>\n",
       "      <td>132.340950</td>\n",
       "      <td>132.130544</td>\n",
       "      <td>89.928205</td>\n",
       "      <td>4.900245</td>\n",
       "      <td>4.872182</td>\n",
       "    </tr>\n",
       "    <tr>\n",
       "      <th>13</th>\n",
       "      <td>62.372406</td>\n",
       "      <td>40.845915</td>\n",
       "      <td>84.686918</td>\n",
       "      <td>132.114428</td>\n",
       "      <td>131.595061</td>\n",
       "      <td>91.424078</td>\n",
       "      <td>4.251271</td>\n",
       "      <td>2.523028</td>\n",
       "    </tr>\n",
       "    <tr>\n",
       "      <th>14</th>\n",
       "      <td>65.936356</td>\n",
       "      <td>41.295031</td>\n",
       "      <td>92.199049</td>\n",
       "      <td>132.612559</td>\n",
       "      <td>130.664412</td>\n",
       "      <td>95.016728</td>\n",
       "      <td>7.601129</td>\n",
       "      <td>7.509631</td>\n",
       "    </tr>\n",
       "    <tr>\n",
       "      <th>15</th>\n",
       "      <td>61.553452</td>\n",
       "      <td>40.551637</td>\n",
       "      <td>84.246949</td>\n",
       "      <td>132.434792</td>\n",
       "      <td>132.065535</td>\n",
       "      <td>91.299225</td>\n",
       "      <td>3.219082</td>\n",
       "      <td>2.298304</td>\n",
       "    </tr>\n",
       "    <tr>\n",
       "      <th>16</th>\n",
       "      <td>63.504324</td>\n",
       "      <td>41.219361</td>\n",
       "      <td>86.995847</td>\n",
       "      <td>132.151390</td>\n",
       "      <td>130.180989</td>\n",
       "      <td>94.481828</td>\n",
       "      <td>6.444084</td>\n",
       "      <td>5.940929</td>\n",
       "    </tr>\n",
       "    <tr>\n",
       "      <th>17</th>\n",
       "      <td>64.289550</td>\n",
       "      <td>41.223524</td>\n",
       "      <td>89.382870</td>\n",
       "      <td>132.488925</td>\n",
       "      <td>130.831328</td>\n",
       "      <td>93.786783</td>\n",
       "      <td>4.109272</td>\n",
       "      <td>3.339641</td>\n",
       "    </tr>\n",
       "    <tr>\n",
       "      <th>18</th>\n",
       "      <td>65.234685</td>\n",
       "      <td>41.289316</td>\n",
       "      <td>83.912683</td>\n",
       "      <td>131.022779</td>\n",
       "      <td>136.059293</td>\n",
       "      <td>91.359793</td>\n",
       "      <td>6.065311</td>\n",
       "      <td>3.637896</td>\n",
       "    </tr>\n",
       "    <tr>\n",
       "      <th>19</th>\n",
       "      <td>65.724568</td>\n",
       "      <td>42.342504</td>\n",
       "      <td>88.943437</td>\n",
       "      <td>132.861520</td>\n",
       "      <td>134.063379</td>\n",
       "      <td>93.725589</td>\n",
       "      <td>5.215854</td>\n",
       "      <td>3.984316</td>\n",
       "    </tr>\n",
       "  </tbody>\n",
       "</table>\n",
       "</div>"
      ],
      "text/plain": [
       "    right_knee  right_hip  right_ankle  right_hip2  right_neck  right_ankle2  \\\n",
       "0    71.106512  45.906974    85.332092  129.434287  149.606467     93.876903   \n",
       "1    69.857743  49.805739    86.409966  133.448620  138.522623     95.908018   \n",
       "2    70.402139  48.706834    86.905437  132.483602  142.336333     95.230885   \n",
       "3    70.293506  49.232010    84.855886  132.801686  139.578060     94.214323   \n",
       "4    70.899600  49.652500    85.653201  132.623366  142.411048     95.000190   \n",
       "5    72.432360  49.513119    86.682570  131.925439  142.264790     94.741655   \n",
       "6    69.178656  49.015521    84.015891  133.492624  139.225965     94.345595   \n",
       "7    70.488021  50.822920    83.471821  133.803748  138.256393     92.177983   \n",
       "8    74.359320  50.156199    86.381050  132.303807  146.404126     92.702115   \n",
       "9    72.641513  50.850474    88.546333  133.330755  143.714947     95.486206   \n",
       "10   71.170062  51.932606    85.980317  133.925708  140.198492     94.816856   \n",
       "11   60.219649  38.222935    81.609648  130.727255  140.875431     90.477176   \n",
       "12   61.978521  40.961590    82.060404  132.340950  132.130544     89.928205   \n",
       "13   62.372406  40.845915    84.686918  132.114428  131.595061     91.424078   \n",
       "14   65.936356  41.295031    92.199049  132.612559  130.664412     95.016728   \n",
       "15   61.553452  40.551637    84.246949  132.434792  132.065535     91.299225   \n",
       "16   63.504324  41.219361    86.995847  132.151390  130.180989     94.481828   \n",
       "17   64.289550  41.223524    89.382870  132.488925  130.831328     93.786783   \n",
       "18   65.234685  41.289316    83.912683  131.022779  136.059293     91.359793   \n",
       "19   65.724568  42.342504    88.943437  132.861520  134.063379     93.725589   \n",
       "\n",
       "    mahalanobis  mahalanobis_knee  \n",
       "0     11.410796         10.873139  \n",
       "1      3.738191          3.730879  \n",
       "2      1.877685          1.463196  \n",
       "3      1.892502          1.620725  \n",
       "4      1.579595          1.575500  \n",
       "5      3.476842          3.462689  \n",
       "6      8.123551          4.047954  \n",
       "7      6.584858          6.406614  \n",
       "8     10.371037          8.098267  \n",
       "9      4.874040          4.538047  \n",
       "10     5.529046          2.605860  \n",
       "11    12.735610         12.471203  \n",
       "12     4.900245          4.872182  \n",
       "13     4.251271          2.523028  \n",
       "14     7.601129          7.509631  \n",
       "15     3.219082          2.298304  \n",
       "16     6.444084          5.940929  \n",
       "17     4.109272          3.339641  \n",
       "18     6.065311          3.637896  \n",
       "19     5.215854          3.984316  "
      ]
     },
     "execution_count": 447,
     "metadata": {},
     "output_type": "execute_result"
    }
   ],
   "source": [
    "data"
   ]
  },
  {
   "cell_type": "code",
   "execution_count": 437,
   "id": "10194bc2",
   "metadata": {},
   "outputs": [
    {
     "data": {
      "text/plain": [
       "right_knee      71.106512\n",
       "right_hip       45.906974\n",
       "right_ankle     85.332092\n",
       "right_hip2     129.434287\n",
       "right_neck     149.606467\n",
       "Name: 0, dtype: float64"
      ]
     },
     "execution_count": 437,
     "metadata": {},
     "output_type": "execute_result"
    }
   ],
   "source": [
    "data.iloc[0,:-2]"
   ]
  },
  {
   "cell_type": "code",
   "execution_count": null,
   "id": "ae091293",
   "metadata": {},
   "outputs": [],
   "source": [
    "data.iloc[0,:-2]"
   ]
  },
  {
   "cell_type": "code",
   "execution_count": 406,
   "id": "47b5dd70",
   "metadata": {},
   "outputs": [
    {
     "data": {
      "text/plain": [
       "<matplotlib.collections.LineCollection at 0x24819d59d90>"
      ]
     },
     "execution_count": 406,
     "metadata": {},
     "output_type": "execute_result"
    },
    {
     "data": {
      "image/png": "[encoded data removed]",
      "text/plain": [
       "<Figure size 432x288 with 1 Axes>"
      ]
     },
     "metadata": {
      "needs_background": "light"
     },
     "output_type": "display_data"
    }
   ],
   "source": [
    "plt.title('squat pattern', fontsize=17)\n",
    "plt.ylim(0,25)\n",
    "plt.plot(data, 'k.')\n",
    "plt.xlabel(\"Count\", fontsize=14)\n",
    "plt.ylabel(\"Mahalanovis\", fontsize=14)\n",
    "plt.hlines(y=12.8, xmin=0, xmax=len(data), linestyle='solid', color = 'red')\n",
    "plt.hlines(y=10, xmin=0, xmax=len(data), linestyle='solid', color = 'orange')\n",
    "plt.hlines(y=8.5, xmin=0, xmax=len(data), linestyle='solid', color = 'green')"
   ]
  },
  {
   "cell_type": "code",
   "execution_count": 24,
   "id": "02357a0f",
   "metadata": {},
   "outputs": [
    {
     "data": {
      "text/plain": [
       "[<matplotlib.lines.Line2D at 0x28500d21f10>]"
      ]
     },
     "execution_count": 24,
     "metadata": {},
     "output_type": "execute_result"
    },
    {
     "data": {
      "image/png": "[encoded data removed]",
      "text/plain": [
       "<Figure size 432x288 with 1 Axes>"
      ]
     },
     "metadata": {
      "needs_background": "light"
     },
     "output_type": "display_data"
    }
   ],
   "source": [
    "plt.ylim(0,20)\n",
    "plt.plot(data.iloc[:,-1], 'k.')"
   ]
  },
  {
   "cell_type": "code",
   "execution_count": 26,
   "id": "5020775d",
   "metadata": {
    "scrolled": true
   },
   "outputs": [
    {
     "data": {
      "text/plain": [
       "[<matplotlib.lines.Line2D at 0x28500dfc550>]"
      ]
     },
     "execution_count": 26,
     "metadata": {},
     "output_type": "execute_result"
    },
    {
     "data": {
      "image/png": "[encoded data removed]",
      "text/plain": [
       "<Figure size 432x288 with 1 Axes>"
      ]
     },
     "metadata": {
      "needs_background": "light"
     },
     "output_type": "display_data"
    }
   ],
   "source": [
    "plt.ylim(0,20)\n",
    "plt.plot(data3.iloc[:,-1], 'k.')"
   ]
  },
  {
   "cell_type": "code",
   "execution_count": 76,
   "id": "011ed30e",
   "metadata": {},
   "outputs": [
    {
     "data": {
      "text/plain": [
       "[<matplotlib.lines.Line2D at 0x24c426cbd30>]"
      ]
     },
     "execution_count": 76,
     "metadata": {},
     "output_type": "execute_result"
    },
    {
     "data": {
      "image/png": "[encoded data removed]",
      "text/plain": [
       "<Figure size 432x288 with 1 Axes>"
      ]
     },
     "metadata": {
      "needs_background": "light"
     },
     "output_type": "display_data"
    }
   ],
   "source": [
    "plt.plot(data.iloc[:,-1], 'k.')"
   ]
  },
  {
   "cell_type": "code",
   "execution_count": 106,
   "id": "f36914f6",
   "metadata": {},
   "outputs": [],
   "source": [
    "maha_sum = sum(data.iloc[:,-1])"
   ]
  },
  {
   "cell_type": "code",
   "execution_count": 107,
   "id": "ddd00edd",
   "metadata": {},
   "outputs": [],
   "source": [
    "maha_avg = maha_sum / len(data)"
   ]
  },
  {
   "cell_type": "code",
   "execution_count": 108,
   "id": "24dbc86b",
   "metadata": {},
   "outputs": [
    {
     "data": {
      "text/plain": [
       "5.800000000000003"
      ]
     },
     "execution_count": 108,
     "metadata": {},
     "output_type": "execute_result"
    }
   ],
   "source": [
    "maha_avg"
   ]
  },
  {
   "cell_type": "code",
   "execution_count": 77,
   "id": "d7a4fbd6",
   "metadata": {},
   "outputs": [
    {
     "data": {
      "text/plain": [
       "0      8.726160\n",
       "1      8.780045\n",
       "2      4.907170\n",
       "3     11.094592\n",
       "4      5.994221\n",
       "5      9.192387\n",
       "6      9.011125\n",
       "7      0.666375\n",
       "8      2.847150\n",
       "9      5.152355\n",
       "10     1.715214\n",
       "11     5.940659\n",
       "12     8.610208\n",
       "13    10.110394\n",
       "14     1.800138\n",
       "15     8.803259\n",
       "16     6.865372\n",
       "17     3.498247\n",
       "18     4.900305\n",
       "19     5.036986\n",
       "20     6.473764\n",
       "21     4.189812\n",
       "22     3.439216\n",
       "23     1.770955\n",
       "24     3.928368\n",
       "25     2.064100\n",
       "26     2.342617\n",
       "27     4.113029\n",
       "28    13.093312\n",
       "29     8.932467\n",
       "Name: mahalanobis, dtype: float64"
      ]
     },
     "execution_count": 77,
     "metadata": {},
     "output_type": "execute_result"
    }
   ],
   "source": [
    "data.iloc[:,-1]"
   ]
  },
  {
   "cell_type": "code",
   "execution_count": 115,
   "id": "80ccaea1",
   "metadata": {},
   "outputs": [],
   "source": [
    "ee = data.iloc[:,-1].tolist"
   ]
  },
  {
   "cell_type": "code",
   "execution_count": 117,
   "id": "8d2a9e7b",
   "metadata": {},
   "outputs": [
    {
     "data": {
      "text/plain": [
       "method"
      ]
     },
     "execution_count": 117,
     "metadata": {},
     "output_type": "execute_result"
    }
   ],
   "source": [
    "type(e"
   ]
  },
  {
   "cell_type": "code",
   "execution_count": 78,
   "id": "a479375e",
   "metadata": {},
   "outputs": [],
   "source": [
    "#분산평균 -> line\n",
    "mean_var =np.mean(data.iloc[:,-1])"
   ]
  },
  {
   "cell_type": "code",
   "execution_count": 79,
   "id": "4dae4b6c",
   "metadata": {},
   "outputs": [
    {
     "data": {
      "text/plain": [
       "5.800000000000003"
      ]
     },
     "execution_count": 79,
     "metadata": {},
     "output_type": "execute_result"
    }
   ],
   "source": [
    "mean_var"
   ]
  },
  {
   "cell_type": "code",
   "execution_count": 150,
   "id": "73b45025",
   "metadata": {},
   "outputs": [
    {
     "data": {
      "text/plain": [
       "pandas.core.series.Series"
      ]
     },
     "execution_count": 150,
     "metadata": {},
     "output_type": "execute_result"
    }
   ],
   "source": [
    "type(ex)"
   ]
  },
  {
   "cell_type": "code",
   "execution_count": 94,
   "id": "d2d06d14",
   "metadata": {},
   "outputs": [],
   "source": [
    "ex = []"
   ]
  },
  {
   "cell_type": "code",
   "execution_count": 109,
   "id": "060bcbac",
   "metadata": {},
   "outputs": [],
   "source": [
    "for i in range(30):\n",
    "    ex.append(data.iloc[i,-1] - mean_var)"
   ]
  },
  {
   "cell_type": "code",
   "execution_count": 100,
   "id": "ce9a122d",
   "metadata": {},
   "outputs": [],
   "source": [
    "mape = 0\n",
    "for i in range(len(data)):\n",
    "    exe = abs(data.iloc[i,-1] - mean_var)\n",
    "    mape += exe / abs(data.iloc[i,-1]) * 100\n",
    "mape = mape/len(data)\n"
   ]
  },
  {
   "cell_type": "code",
   "execution_count": 102,
   "id": "84d39352",
   "metadata": {},
   "outputs": [],
   "source": [
    "exe = abs(data.iloc[i,-1] - mean_var)"
   ]
  },
  {
   "cell_type": "code",
   "execution_count": 110,
   "id": "72642503",
   "metadata": {},
   "outputs": [
    {
     "data": {
      "text/plain": [
       "3.132466977135718"
      ]
     },
     "execution_count": 110,
     "metadata": {},
     "output_type": "execute_result"
    }
   ],
   "source": [
    "exe"
   ]
  },
  {
   "cell_type": "code",
   "execution_count": 104,
   "id": "b8553f5c",
   "metadata": {},
   "outputs": [
    {
     "data": {
      "text/plain": [
       "0.35677118957901494"
      ]
     },
     "execution_count": 104,
     "metadata": {},
     "output_type": "execute_result"
    }
   ],
   "source": [
    "exe / abs(data.iloc[1,-1])"
   ]
  },
  {
   "cell_type": "code",
   "execution_count": 101,
   "id": "92a2f171",
   "metadata": {},
   "outputs": [
    {
     "data": {
      "text/plain": [
       "87.85863957569588"
      ]
     },
     "execution_count": 101,
     "metadata": {},
     "output_type": "execute_result"
    }
   ],
   "source": [
    "mape"
   ]
  },
  {
   "cell_type": "code",
   "execution_count": 99,
   "id": "cde5dc18",
   "metadata": {},
   "outputs": [
    {
     "data": {
      "text/plain": [
       "30"
      ]
     },
     "execution_count": 99,
     "metadata": {},
     "output_type": "execute_result"
    }
   ],
   "source": [
    "len(data)"
   ]
  },
  {
   "cell_type": "code",
   "execution_count": 97,
   "id": "2bf6dd05",
   "metadata": {},
   "outputs": [],
   "source": [
    "exe = abs(data.iloc[1,-1] - mean_var)\n",
    "mape = exe / abs(data.iloc[1,-1]) * 100"
   ]
  },
  {
   "cell_type": "code",
   "execution_count": 98,
   "id": "81c09e57",
   "metadata": {},
   "outputs": [
    {
     "data": {
      "text/plain": [
       "33.94111048377593"
      ]
     },
     "execution_count": 98,
     "metadata": {},
     "output_type": "execute_result"
    }
   ],
   "source": [
    "mape"
   ]
  },
  {
   "cell_type": "code",
   "execution_count": 90,
   "id": "7d22e48d",
   "metadata": {},
   "outputs": [
    {
     "data": {
      "text/plain": [
       "4.9071696150095985"
      ]
     },
     "execution_count": 90,
     "metadata": {},
     "output_type": "execute_result"
    }
   ],
   "source": [
    "data.iloc[,-1]"
   ]
  },
  {
   "cell_type": "code",
   "execution_count": 111,
   "id": "6d2c95c4",
   "metadata": {},
   "outputs": [
    {
     "data": {
      "text/plain": [
       "[2.9261604063951543,\n",
       " 2.9800446578435453,\n",
       " -0.8928303849904049,\n",
       " 5.29459232104231,\n",
       " 0.1942206445226633,\n",
       " 3.3923872872614327,\n",
       " 3.2111245049283346,\n",
       " -5.13362521390882,\n",
       " -2.9528504205679154,\n",
       " -0.6476446257221387,\n",
       " -4.084786230928658,\n",
       " 0.14065932287051197,\n",
       " 2.8102079743372164,\n",
       " 4.310393622856895,\n",
       " -3.999862032065181,\n",
       " 3.0032586010310363,\n",
       " 1.0653720064518977,\n",
       " -2.301752969141271,\n",
       " -0.8996953397203642,\n",
       " -0.763013680814173,\n",
       " 0.6737641118758395,\n",
       " -1.6101882337891817,\n",
       " -2.360784395611597,\n",
       " -4.029045154199954,\n",
       " -1.8716321128809583,\n",
       " -3.7358998216539816,\n",
       " -3.457382905444213,\n",
       " -1.6869709816670841,\n",
       " 7.293312064553343,\n",
       " 3.132466977135718,\n",
       " 2.9261604063951543,\n",
       " 2.9800446578435453,\n",
       " -0.8928303849904049,\n",
       " 5.29459232104231,\n",
       " 0.1942206445226633,\n",
       " 3.3923872872614327,\n",
       " 3.2111245049283346,\n",
       " -5.13362521390882,\n",
       " -2.9528504205679154,\n",
       " -0.6476446257221387,\n",
       " -4.084786230928658,\n",
       " 0.14065932287051197,\n",
       " 2.8102079743372164,\n",
       " 4.310393622856895,\n",
       " -3.999862032065181,\n",
       " 3.0032586010310363,\n",
       " 1.0653720064518977,\n",
       " -2.301752969141271,\n",
       " -0.8996953397203642,\n",
       " -0.763013680814173,\n",
       " 0.6737641118758395,\n",
       " -1.6101882337891817,\n",
       " -2.360784395611597,\n",
       " -4.029045154199954,\n",
       " -1.8716321128809583,\n",
       " -3.7358998216539816,\n",
       " -3.457382905444213,\n",
       " -1.6869709816670841,\n",
       " 7.293312064553343,\n",
       " 3.132466977135718]"
      ]
     },
     "execution_count": 111,
     "metadata": {},
     "output_type": "execute_result"
    }
   ],
   "source": [
    "ex"
   ]
  },
  {
   "cell_type": "code",
   "execution_count": 112,
   "id": "78f728f0",
   "metadata": {},
   "outputs": [
    {
     "ename": "AttributeError",
     "evalue": "'list' object has no attribute 'tolist'",
     "output_type": "error",
     "traceback": [
      "\u001b[1;31m---------------------------------------------------------------------------\u001b[0m",
      "\u001b[1;31mAttributeError\u001b[0m                            Traceback (most recent call last)",
      "\u001b[1;32mC:\\Users\\Public\\Documents\\ESTsoft\\CreatorTemp/ipykernel_21560/440100386.py\u001b[0m in \u001b[0;36m<module>\u001b[1;34m\u001b[0m\n\u001b[1;32m----> 1\u001b[1;33m \u001b[0mex1\u001b[0m\u001b[1;33m=\u001b[0m \u001b[0mex\u001b[0m\u001b[1;33m.\u001b[0m\u001b[0mtolist\u001b[0m\u001b[1;33m\u001b[0m\u001b[1;33m\u001b[0m\u001b[0m\n\u001b[0m",
      "\u001b[1;31mAttributeError\u001b[0m: 'list' object has no attribute 'tolist'"
     ]
    }
   ],
   "source": [
    "ex1= ex.tolist"
   ]
  },
  {
   "cell_type": "code",
   "execution_count": 155,
   "id": "41c354a9",
   "metadata": {},
   "outputs": [
    {
     "data": {
      "text/plain": [
       "method"
      ]
     },
     "execution_count": 155,
     "metadata": {},
     "output_type": "execute_result"
    }
   ],
   "source": [
    "type(ex1)"
   ]
  },
  {
   "cell_type": "code",
   "execution_count": 160,
   "id": "57177be9",
   "metadata": {},
   "outputs": [
    {
     "ename": "TypeError",
     "evalue": "bad operand type for abs(): 'method'",
     "output_type": "error",
     "traceback": [
      "\u001b[1;31m---------------------------------------------------------------------------\u001b[0m",
      "\u001b[1;31mTypeError\u001b[0m                                 Traceback (most recent call last)",
      "\u001b[1;32mC:\\Users\\Public\\Documents\\ESTsoft\\CreatorTemp/ipykernel_5416/105592186.py\u001b[0m in \u001b[0;36m<module>\u001b[1;34m\u001b[0m\n\u001b[1;32m----> 1\u001b[1;33m \u001b[0mabs\u001b[0m\u001b[1;33m(\u001b[0m\u001b[0mex1\u001b[0m\u001b[1;33m)\u001b[0m\u001b[1;33m\u001b[0m\u001b[1;33m\u001b[0m\u001b[0m\n\u001b[0m",
      "\u001b[1;31mTypeError\u001b[0m: bad operand type for abs(): 'method'"
     ]
    }
   ],
   "source": [
    "abs(ex1)"
   ]
  },
  {
   "cell_type": "code",
   "execution_count": 113,
   "id": "f363134f",
   "metadata": {},
   "outputs": [],
   "source": [
    "ex.sort()"
   ]
  },
  {
   "cell_type": "code",
   "execution_count": 114,
   "id": "42aa4964",
   "metadata": {},
   "outputs": [
    {
     "data": {
      "text/plain": [
       "[-5.13362521390882,\n",
       " -5.13362521390882,\n",
       " -4.084786230928658,\n",
       " -4.084786230928658,\n",
       " -4.029045154199954,\n",
       " -4.029045154199954,\n",
       " -3.999862032065181,\n",
       " -3.999862032065181,\n",
       " -3.7358998216539816,\n",
       " -3.7358998216539816,\n",
       " -3.457382905444213,\n",
       " -3.457382905444213,\n",
       " -2.9528504205679154,\n",
       " -2.9528504205679154,\n",
       " -2.360784395611597,\n",
       " -2.360784395611597,\n",
       " -2.301752969141271,\n",
       " -2.301752969141271,\n",
       " -1.8716321128809583,\n",
       " -1.8716321128809583,\n",
       " -1.6869709816670841,\n",
       " -1.6869709816670841,\n",
       " -1.6101882337891817,\n",
       " -1.6101882337891817,\n",
       " -0.8996953397203642,\n",
       " -0.8996953397203642,\n",
       " -0.8928303849904049,\n",
       " -0.8928303849904049,\n",
       " -0.763013680814173,\n",
       " -0.763013680814173,\n",
       " -0.6476446257221387,\n",
       " -0.6476446257221387,\n",
       " 0.14065932287051197,\n",
       " 0.14065932287051197,\n",
       " 0.1942206445226633,\n",
       " 0.1942206445226633,\n",
       " 0.6737641118758395,\n",
       " 0.6737641118758395,\n",
       " 1.0653720064518977,\n",
       " 1.0653720064518977,\n",
       " 2.8102079743372164,\n",
       " 2.8102079743372164,\n",
       " 2.9261604063951543,\n",
       " 2.9261604063951543,\n",
       " 2.9800446578435453,\n",
       " 2.9800446578435453,\n",
       " 3.0032586010310363,\n",
       " 3.0032586010310363,\n",
       " 3.132466977135718,\n",
       " 3.132466977135718,\n",
       " 3.2111245049283346,\n",
       " 3.2111245049283346,\n",
       " 3.3923872872614327,\n",
       " 3.3923872872614327,\n",
       " 4.310393622856895,\n",
       " 4.310393622856895,\n",
       " 5.29459232104231,\n",
       " 5.29459232104231,\n",
       " 7.293312064553343,\n",
       " 7.293312064553343]"
      ]
     },
     "execution_count": 114,
     "metadata": {},
     "output_type": "execute_result"
    }
   ],
   "source": [
    "ex"
   ]
  },
  {
   "cell_type": "code",
   "execution_count": 15,
   "id": "03d9b817",
   "metadata": {},
   "outputs": [
    {
     "data": {
      "text/plain": [
       "[57.177674663958726,\n",
       " 37.793680208210816,\n",
       " 86.71058616625841,\n",
       " 133.83223558043443,\n",
       " 163.8864995845133,\n",
       " 95.91959169456624]"
      ]
     },
     "execution_count": 15,
     "metadata": {},
     "output_type": "execute_result"
    }
   ],
   "source": [
    "x_input"
   ]
  },
  {
   "cell_type": "code",
   "execution_count": 17,
   "id": "f175d2aa",
   "metadata": {},
   "outputs": [
    {
     "name": "stderr",
     "output_type": "stream",
     "text": [
      "C:\\Users\\user\\anaconda3\\envs\\health\\lib\\site-packages\\sklearn\\base.py:450: UserWarning: X does not have valid feature names, but RandomForestClassifier was fitted with feature names\n",
      "  warnings.warn(\n"
     ]
    },
    {
     "data": {
      "text/plain": [
       "array([0], dtype=int64)"
      ]
     },
     "execution_count": 17,
     "metadata": {},
     "output_type": "execute_result"
    }
   ],
   "source": [
    "load_model.predict([x_input])"
   ]
  },
  {
   "cell_type": "markdown",
   "id": "e46470b3",
   "metadata": {},
   "source": [
    "### 3 프레임 활용"
   ]
  },
  {
   "cell_type": "code",
   "execution_count": null,
   "id": "929512a5",
   "metadata": {},
   "outputs": [],
   "source": [
    "# setup pose_video\n",
    "pose_video = mp_pose.Pose(static_image_mode=False, min_detection_confidence=0.5, model_complexity=1)\n",
    "\n",
    "# setting videocapture with webcam\n",
    "video = cv2.VideoCapture('Squat Sample.mp4')\n",
    "cv2.namedWindow('Pose Detection', cv2.WINDOW_NORMAL)\n",
    "video.set(3,1280)\n",
    "video.set(4,960)\n",
    "time1 = 0\n",
    "count = 0\n",
    "previous_knee_angle = 300\n",
    "previous_hip_angle = 300\n",
    "x_input = []\n",
    "check_point = 0\n",
    "cla = 'CLASS : None'\n",
    "state = 'stand'\n",
    "pred = 0\n",
    "\n",
    "# iterate video\n",
    "while video.isOpened():\n",
    "    \n",
    "    # read frame\n",
    "    ok, frame = video.read()\n",
    "    \n",
    "    # read frame x\n",
    "    if not ok:\n",
    "        \n",
    "        continue\n",
    "    \n",
    "    # horizontal flip (selfie) # 좌우반전 1이 좌우반전. 0은 상하반전\n",
    "    #frame = cv2.flip(frame, 0)\n",
    "    \n",
    "    # get height & width\n",
    "    frame_height, frame_width, _ =  frame.shape\n",
    "    \n",
    "    # resize frame (keep aspect ratio)\n",
    "    frame = cv2.resize(frame, (int(frame_width * (1920 / frame_height)), 1080))\n",
    "    \n",
    "    # \"detectPose\" model landmark detection\n",
    "    frame, angle = detectPose(frame, pose_video, display = False)\n",
    "    \n",
    "    \n",
    "    if len(angle) != 0:\n",
    "        \n",
    "        r_knee_angle = angle[0]\n",
    "        r_hip_angle = angle[1] \n",
    "        \n",
    "        if r_knee_angle < 100:\n",
    "            if check_point == 0:\n",
    "                if (r_knee_angle > previous_knee_angle) & (r_hip_angle > previous_hip_angle):\n",
    "                    state = 'squat'\n",
    "                    pred0 = load_model.predict([x_input])\n",
    "                    pred1 = load_model.predict([angle])\n",
    "                    pred2 = load_model.predict([x_input2])\n",
    "                    \n",
    "                    if pred0 == 1:\n",
    "                        pred += 1\n",
    "                    if pred1 == 1:\n",
    "                        pred += 1\n",
    "                    if pred2 == 1:\n",
    "                        pred += 1\n",
    "                    \n",
    "                    if pred <= 1:\n",
    "                        cla = 'CLASS : BAD' \n",
    "                    else:\n",
    "                        cla = 'CLASS : GOOD' \n",
    "            \n",
    "                    check_point = 1\n",
    "                            \n",
    "    previous_knee_angle = r_knee_angle\n",
    "    previous_hip_angle = r_hip_angle\n",
    "    x_input2 = x_input\n",
    "    x_input = angle\n",
    "        \n",
    "    if (state == 'squat') & (r_knee_angle > 155):\n",
    "        if cla == 'CLASS : GOOD':\n",
    "            count += 1\n",
    "        check_point = 0\n",
    "        state = 'stand'\n",
    "        cla = 'CLASS : None'\n",
    "        pred = 0\n",
    "    \n",
    "    # time set (frame)\n",
    "    time2 = time()\n",
    "\n",
    "    if (time2 - time1) > 0:\n",
    "        frames_per_second = 1.0 / (time2 - time1)\n",
    "        cv2.putText(frame, 'FPS: {}'.format(int(frames_per_second)), (10, 30),cv2.FONT_HERSHEY_PLAIN, 2, (0, 255, 0), 3)\n",
    "        \n",
    "    time1 = time2\n",
    " \n",
    "    cv2.putText(frame, 'COUNT: {}'.format(count), (10, 110) ,cv2.FONT_HERSHEY_PLAIN, 2, (0, 255, 0), 3)\n",
    "    if cla== 'CLASS : BAD':\n",
    "        cv2.putText(frame, cla, (10, 70) ,cv2.FONT_HERSHEY_PLAIN, 2, (0, 0, 255), 3)\n",
    "    elif cla == 'CLASS : GOOD':\n",
    "        cv2.putText(frame, cla, (10, 70) ,cv2.FONT_HERSHEY_PLAIN, 2, (255, 0, 0), 3)\n",
    "    else:\n",
    "        cv2.putText(frame, cla, (10, 70) ,cv2.FONT_HERSHEY_PLAIN, 2, (0, 255, 0), 3)\n",
    "    \n",
    "    # display frame.\n",
    "    cv2.imshow('Pose Detection', frame)\n",
    "    \n",
    "    k = cv2.waitKey(1) & 0xFF\n",
    "    \n",
    "    # close with ESC\n",
    "    if(k == 27):\n",
    "        \n",
    "        break\n",
    "\n",
    "video.release()\n",
    "cv2.destroyAllWindows()"
   ]
  },
  {
   "cell_type": "code",
   "execution_count": 44,
   "id": "2a6eee27",
   "metadata": {},
   "outputs": [
    {
     "name": "stderr",
     "output_type": "stream",
     "text": [
      "C:\\Users\\user\\anaconda3\\envs\\health\\lib\\site-packages\\sklearn\\base.py:450: UserWarning: X does not have valid feature names, but DecisionTreeClassifier was fitted with feature names\n",
      "  warnings.warn(\n",
      "C:\\Users\\user\\anaconda3\\envs\\health\\lib\\site-packages\\sklearn\\base.py:450: UserWarning: X does not have valid feature names, but DecisionTreeClassifier was fitted with feature names\n",
      "  warnings.warn(\n",
      "C:\\Users\\user\\anaconda3\\envs\\health\\lib\\site-packages\\sklearn\\base.py:450: UserWarning: X does not have valid feature names, but DecisionTreeClassifier was fitted with feature names\n",
      "  warnings.warn(\n",
      "C:\\Users\\user\\anaconda3\\envs\\health\\lib\\site-packages\\sklearn\\base.py:450: UserWarning: X does not have valid feature names, but DecisionTreeClassifier was fitted with feature names\n",
      "  warnings.warn(\n",
      "C:\\Users\\user\\anaconda3\\envs\\health\\lib\\site-packages\\sklearn\\base.py:450: UserWarning: X does not have valid feature names, but DecisionTreeClassifier was fitted with feature names\n",
      "  warnings.warn(\n",
      "C:\\Users\\user\\anaconda3\\envs\\health\\lib\\site-packages\\sklearn\\base.py:450: UserWarning: X does not have valid feature names, but DecisionTreeClassifier was fitted with feature names\n",
      "  warnings.warn(\n",
      "C:\\Users\\user\\anaconda3\\envs\\health\\lib\\site-packages\\sklearn\\base.py:450: UserWarning: X does not have valid feature names, but DecisionTreeClassifier was fitted with feature names\n",
      "  warnings.warn(\n",
      "C:\\Users\\user\\anaconda3\\envs\\health\\lib\\site-packages\\sklearn\\base.py:450: UserWarning: X does not have valid feature names, but DecisionTreeClassifier was fitted with feature names\n",
      "  warnings.warn(\n",
      "C:\\Users\\user\\anaconda3\\envs\\health\\lib\\site-packages\\sklearn\\base.py:450: UserWarning: X does not have valid feature names, but DecisionTreeClassifier was fitted with feature names\n",
      "  warnings.warn(\n",
      "C:\\Users\\user\\anaconda3\\envs\\health\\lib\\site-packages\\sklearn\\base.py:450: UserWarning: X does not have valid feature names, but DecisionTreeClassifier was fitted with feature names\n",
      "  warnings.warn(\n"
     ]
    },
    {
     "ename": "IndexError",
     "evalue": "list index out of range",
     "output_type": "error",
     "traceback": [
      "\u001b[1;31m---------------------------------------------------------------------------\u001b[0m",
      "\u001b[1;31mIndexError\u001b[0m                                Traceback (most recent call last)",
      "\u001b[1;32mC:\\Users\\Public\\Documents\\ESTsoft\\CreatorTemp/ipykernel_18116/3328402784.py\u001b[0m in \u001b[0;36m<module>\u001b[1;34m\u001b[0m\n\u001b[0;32m     83\u001b[0m             \u001b[0mpred\u001b[0m\u001b[1;33m.\u001b[0m\u001b[0mextend\u001b[0m\u001b[1;33m(\u001b[0m\u001b[0mload_model\u001b[0m\u001b[1;33m.\u001b[0m\u001b[0mpredict\u001b[0m\u001b[1;33m(\u001b[0m\u001b[1;33m[\u001b[0m\u001b[0mx_input2\u001b[0m\u001b[1;33m[\u001b[0m\u001b[1;36m9\u001b[0m\u001b[1;33m]\u001b[0m\u001b[1;33m]\u001b[0m\u001b[1;33m)\u001b[0m\u001b[1;33m)\u001b[0m\u001b[1;33m\u001b[0m\u001b[1;33m\u001b[0m\u001b[0m\n\u001b[0;32m     84\u001b[0m             \u001b[0mpred\u001b[0m\u001b[1;33m.\u001b[0m\u001b[0mextend\u001b[0m\u001b[1;33m(\u001b[0m\u001b[0mload_model\u001b[0m\u001b[1;33m.\u001b[0m\u001b[0mpredict\u001b[0m\u001b[1;33m(\u001b[0m\u001b[1;33m[\u001b[0m\u001b[0mx_input2\u001b[0m\u001b[1;33m[\u001b[0m\u001b[1;36m10\u001b[0m\u001b[1;33m]\u001b[0m\u001b[1;33m]\u001b[0m\u001b[1;33m)\u001b[0m\u001b[1;33m)\u001b[0m\u001b[1;33m\u001b[0m\u001b[1;33m\u001b[0m\u001b[0m\n\u001b[1;32m---> 85\u001b[1;33m             \u001b[0mpred\u001b[0m\u001b[1;33m.\u001b[0m\u001b[0mextend\u001b[0m\u001b[1;33m(\u001b[0m\u001b[0mload_model\u001b[0m\u001b[1;33m.\u001b[0m\u001b[0mpredict\u001b[0m\u001b[1;33m(\u001b[0m\u001b[1;33m[\u001b[0m\u001b[0mx_input2\u001b[0m\u001b[1;33m[\u001b[0m\u001b[1;36m11\u001b[0m\u001b[1;33m]\u001b[0m\u001b[1;33m]\u001b[0m\u001b[1;33m)\u001b[0m\u001b[1;33m)\u001b[0m\u001b[1;33m\u001b[0m\u001b[1;33m\u001b[0m\u001b[0m\n\u001b[0m\u001b[0;32m     86\u001b[0m \u001b[1;33m\u001b[0m\u001b[0m\n\u001b[0;32m     87\u001b[0m             \u001b[1;32mfor\u001b[0m \u001b[0mi\u001b[0m \u001b[1;32min\u001b[0m \u001b[0mrange\u001b[0m\u001b[1;33m(\u001b[0m\u001b[1;36m12\u001b[0m\u001b[1;33m)\u001b[0m\u001b[1;33m:\u001b[0m\u001b[1;33m\u001b[0m\u001b[1;33m\u001b[0m\u001b[0m\n",
      "\u001b[1;31mIndexError\u001b[0m: list index out of range"
     ]
    }
   ],
   "source": [
    "'''\n",
    "# setup pose_video\n",
    "pose_video = mp_pose.Pose(static_image_mode=False, min_detection_confidence=0.5, model_complexity=1)\n",
    "\n",
    "# setting videocapture with webcam\n",
    "video = cv2.VideoCapture('Squat Sample.mp4')\n",
    "cv2.namedWindow('Pose Detection', cv2.WINDOW_NORMAL)\n",
    "video.set(3,1280)\n",
    "video.set(4,960)\n",
    "time1 = 0\n",
    "count = 0\n",
    "previous_right_knee_angle = 300\n",
    "x_input = []\n",
    "check_point = 0\n",
    "cla = 'CLASS : None'\n",
    "state = 'stand'\n",
    "x_input2 = []\n",
    "pred = []\n",
    "check = 0\n",
    "good = 0\n",
    "bad = 0\n",
    "\n",
    "# iterate video\n",
    "while video.isOpened():\n",
    "    \n",
    "    # read frame\n",
    "    ok, frame = video.read()\n",
    "    \n",
    "    # read frame x\n",
    "    if not ok:\n",
    "        \n",
    "        continue\n",
    "    \n",
    "    # horizontal flip (selfie) # 좌우반전 1이 좌우반전. 0은 상하반전\n",
    "    #frame = cv2.flip(frame, 0)\n",
    "    \n",
    "    # get height & width\n",
    "    frame_height, frame_width, _ =  frame.shape\n",
    "    \n",
    "    # resize frame (keep aspect ratio)\n",
    "    frame = cv2.resize(frame, (int(frame_width * (1920 / frame_height)), 1080))\n",
    "    \n",
    "    # \"detectPose\" model landmark detection\n",
    "    frame, angle = detectPose(frame, pose_video, display = False)\n",
    "    \n",
    "    \n",
    "    if len(angle) != 0:\n",
    "        \n",
    "        right_knee_angle = angle[0]\n",
    "        right_hip_angle = angle[1]\n",
    "            \n",
    "        if right_knee_angle < 100:\n",
    "            if check_point == 0:\n",
    "                if (right_knee_angle > previous_right_knee_angle) & (right_hip_angle > previous_right_hip_angle):\n",
    "                    state = 'squat'\n",
    "                    \n",
    "                    x_input2.append(x_input.pop())\n",
    "                    x_input2.append(x_input.pop())\n",
    "                    x_input2.append(x_input.pop())\n",
    "                    x_input2.append(x_input.pop())\n",
    "                    x_input2.append(x_input.pop())\n",
    "                    x_input2.append(x_input.pop())\n",
    "            \n",
    "                    check_point = 1\n",
    "                    check = 1\n",
    "                    \n",
    "    previous_right_knee_angle = right_knee_angle\n",
    "    previous_right_hip_angle = right_hip_angle\n",
    "    x_input.append(angle)\n",
    "    \n",
    "    if (check_point == 1) & (1 <= check <= 5):\n",
    "        x_input2.append(x_input.pop())\n",
    "        check += 1\n",
    "        \n",
    "        if check == 6:\n",
    "            pred.extend(load_model.predict([x_input2[5]]))\n",
    "            pred.extend(load_model.predict([x_input2[4]]))\n",
    "            pred.extend(load_model.predict([x_input2[3]]))\n",
    "            pred.extend(load_model.predict([x_input2[2]]))\n",
    "            pred.extend(load_model.predict([x_input2[1]]))\n",
    "            pred.extend(load_model.predict([x_input2[0]]))\n",
    "            pred.extend(load_model.predict([x_input2[6]]))\n",
    "            pred.extend(load_model.predict([x_input2[7]]))\n",
    "            pred.extend(load_model.predict([x_input2[9]]))\n",
    "            pred.extend(load_model.predict([x_input2[10]]))\n",
    "            pred.extend(load_model.predict([x_input2[11]]))\n",
    "            \n",
    "            for i in range(12):\n",
    "                if pred[i] == 1:\n",
    "                    good += 1\n",
    "                else:\n",
    "                    bad += 1\n",
    "            \n",
    "            if good > bad:\n",
    "                cla == 'CLASS : GOOD'\n",
    "            else:\n",
    "                cla == 'CLASS ; BAD'\n",
    "            \n",
    "    if (state == 'squat') & (right_knee_angle > 155):\n",
    "        if cla == 'CLASS : GOOD':\n",
    "            count += 1\n",
    "        check_point = 0\n",
    "        x_input = []\n",
    "        check = 0\n",
    "        state = 'stand'\n",
    "        cla = 'CLASS : None'\n",
    "    \n",
    "    # time set (frame)\n",
    "    time2 = time()\n",
    "\n",
    "    if (time2 - time1) > 0:\n",
    "        frames_per_second = 1.0 / (time2 - time1)\n",
    "        cv2.putText(frame, 'FPS: {}'.format(int(frames_per_second)), (10, 30),cv2.FONT_HERSHEY_PLAIN, 2, (0, 255, 0), 3)\n",
    "        \n",
    "    time1 = time2\n",
    " \n",
    "    cv2.putText(frame, 'COUNT: {}'.format(count), (10, 110) ,cv2.FONT_HERSHEY_PLAIN, 2, (0, 255, 0), 3)\n",
    "    if cla== 'CLASS : BAD':\n",
    "        cv2.putText(frame, cla, (10, 70) ,cv2.FONT_HERSHEY_PLAIN, 2, (0, 0, 255), 3)\n",
    "    elif cla == 'CLASS : GOOD':\n",
    "        cv2.putText(frame, cla, (10, 70) ,cv2.FONT_HERSHEY_PLAIN, 2, (255, 0, 0), 3)\n",
    "    else:\n",
    "        cv2.putText(frame, cla, (10, 70) ,cv2.FONT_HERSHEY_PLAIN, 2, (0, 255, 0), 3)\n",
    "    \n",
    "    # display frame.\n",
    "    cv2.imshow('Pose Detection', frame)\n",
    "    \n",
    "    k = cv2.waitKey(1) & 0xFF\n",
    "    \n",
    "    # close with ESC\n",
    "    if(k == 27):\n",
    "        \n",
    "        break\n",
    "\n",
    "video.release()\n",
    "cv2.destroyAllWindows()\n",
    "'''"
   ]
  },
  {
   "cell_type": "code",
   "execution_count": 9,
   "id": "fed40186",
   "metadata": {},
   "outputs": [
    {
     "data": {
      "text/plain": [
       "[143.73757551518372,\n",
       " 147.98660239682326,\n",
       " 107.70512445598116,\n",
       " 162.83232789937483,\n",
       " 142.06677608933236,\n",
       " 104.20717653457274]"
      ]
     },
     "execution_count": 9,
     "metadata": {},
     "output_type": "execute_result"
    }
   ],
   "source": [
    "x"
   ]
  },
  {
   "cell_type": "code",
   "execution_count": 10,
   "id": "6e9bc72e",
   "metadata": {},
   "outputs": [
    {
     "ename": "ValueError",
     "evalue": "Found array with 0 feature(s) (shape=(1, 0)) while a minimum of 1 is required.",
     "output_type": "error",
     "traceback": [
      "\u001b[1;31m---------------------------------------------------------------------------\u001b[0m",
      "\u001b[1;31mValueError\u001b[0m                                Traceback (most recent call last)",
      "\u001b[1;32mC:\\Users\\Public\\Documents\\ESTsoft\\CreatorTemp/ipykernel_13284/1363260497.py\u001b[0m in \u001b[0;36m<module>\u001b[1;34m\u001b[0m\n\u001b[1;32m----> 1\u001b[1;33m \u001b[0mload_model\u001b[0m\u001b[1;33m.\u001b[0m\u001b[0mpredict\u001b[0m\u001b[1;33m(\u001b[0m\u001b[1;33m[\u001b[0m\u001b[1;33m[\u001b[0m\u001b[1;33m]\u001b[0m\u001b[1;33m]\u001b[0m\u001b[1;33m)\u001b[0m\u001b[1;33m\u001b[0m\u001b[1;33m\u001b[0m\u001b[0m\n\u001b[0m",
      "\u001b[1;32m~\\anaconda3\\lib\\site-packages\\sklearn\\tree\\_classes.py\u001b[0m in \u001b[0;36mpredict\u001b[1;34m(self, X, check_input)\u001b[0m\n\u001b[0;32m    440\u001b[0m         \"\"\"\n\u001b[0;32m    441\u001b[0m         \u001b[0mcheck_is_fitted\u001b[0m\u001b[1;33m(\u001b[0m\u001b[0mself\u001b[0m\u001b[1;33m)\u001b[0m\u001b[1;33m\u001b[0m\u001b[1;33m\u001b[0m\u001b[0m\n\u001b[1;32m--> 442\u001b[1;33m         \u001b[0mX\u001b[0m \u001b[1;33m=\u001b[0m \u001b[0mself\u001b[0m\u001b[1;33m.\u001b[0m\u001b[0m_validate_X_predict\u001b[0m\u001b[1;33m(\u001b[0m\u001b[0mX\u001b[0m\u001b[1;33m,\u001b[0m \u001b[0mcheck_input\u001b[0m\u001b[1;33m)\u001b[0m\u001b[1;33m\u001b[0m\u001b[1;33m\u001b[0m\u001b[0m\n\u001b[0m\u001b[0;32m    443\u001b[0m         \u001b[0mproba\u001b[0m \u001b[1;33m=\u001b[0m \u001b[0mself\u001b[0m\u001b[1;33m.\u001b[0m\u001b[0mtree_\u001b[0m\u001b[1;33m.\u001b[0m\u001b[0mpredict\u001b[0m\u001b[1;33m(\u001b[0m\u001b[0mX\u001b[0m\u001b[1;33m)\u001b[0m\u001b[1;33m\u001b[0m\u001b[1;33m\u001b[0m\u001b[0m\n\u001b[0;32m    444\u001b[0m         \u001b[0mn_samples\u001b[0m \u001b[1;33m=\u001b[0m \u001b[0mX\u001b[0m\u001b[1;33m.\u001b[0m\u001b[0mshape\u001b[0m\u001b[1;33m[\u001b[0m\u001b[1;36m0\u001b[0m\u001b[1;33m]\u001b[0m\u001b[1;33m\u001b[0m\u001b[1;33m\u001b[0m\u001b[0m\n",
      "\u001b[1;32m~\\anaconda3\\lib\\site-packages\\sklearn\\tree\\_classes.py\u001b[0m in \u001b[0;36m_validate_X_predict\u001b[1;34m(self, X, check_input)\u001b[0m\n\u001b[0;32m    405\u001b[0m         \u001b[1;34m\"\"\"Validate the training data on predict (probabilities).\"\"\"\u001b[0m\u001b[1;33m\u001b[0m\u001b[1;33m\u001b[0m\u001b[0m\n\u001b[0;32m    406\u001b[0m         \u001b[1;32mif\u001b[0m \u001b[0mcheck_input\u001b[0m\u001b[1;33m:\u001b[0m\u001b[1;33m\u001b[0m\u001b[1;33m\u001b[0m\u001b[0m\n\u001b[1;32m--> 407\u001b[1;33m             X = self._validate_data(X, dtype=DTYPE, accept_sparse=\"csr\",\n\u001b[0m\u001b[0;32m    408\u001b[0m                                     reset=False)\n\u001b[0;32m    409\u001b[0m             if issparse(X) and (X.indices.dtype != np.intc or\n",
      "\u001b[1;32m~\\anaconda3\\lib\\site-packages\\sklearn\\base.py\u001b[0m in \u001b[0;36m_validate_data\u001b[1;34m(self, X, y, reset, validate_separately, **check_params)\u001b[0m\n\u001b[0;32m    419\u001b[0m             \u001b[0mout\u001b[0m \u001b[1;33m=\u001b[0m \u001b[0mX\u001b[0m\u001b[1;33m\u001b[0m\u001b[1;33m\u001b[0m\u001b[0m\n\u001b[0;32m    420\u001b[0m         \u001b[1;32melif\u001b[0m \u001b[0misinstance\u001b[0m\u001b[1;33m(\u001b[0m\u001b[0my\u001b[0m\u001b[1;33m,\u001b[0m \u001b[0mstr\u001b[0m\u001b[1;33m)\u001b[0m \u001b[1;32mand\u001b[0m \u001b[0my\u001b[0m \u001b[1;33m==\u001b[0m \u001b[1;34m'no_validation'\u001b[0m\u001b[1;33m:\u001b[0m\u001b[1;33m\u001b[0m\u001b[1;33m\u001b[0m\u001b[0m\n\u001b[1;32m--> 421\u001b[1;33m             \u001b[0mX\u001b[0m \u001b[1;33m=\u001b[0m \u001b[0mcheck_array\u001b[0m\u001b[1;33m(\u001b[0m\u001b[0mX\u001b[0m\u001b[1;33m,\u001b[0m \u001b[1;33m**\u001b[0m\u001b[0mcheck_params\u001b[0m\u001b[1;33m)\u001b[0m\u001b[1;33m\u001b[0m\u001b[1;33m\u001b[0m\u001b[0m\n\u001b[0m\u001b[0;32m    422\u001b[0m             \u001b[0mout\u001b[0m \u001b[1;33m=\u001b[0m \u001b[0mX\u001b[0m\u001b[1;33m\u001b[0m\u001b[1;33m\u001b[0m\u001b[0m\n\u001b[0;32m    423\u001b[0m         \u001b[1;32melse\u001b[0m\u001b[1;33m:\u001b[0m\u001b[1;33m\u001b[0m\u001b[1;33m\u001b[0m\u001b[0m\n",
      "\u001b[1;32m~\\anaconda3\\lib\\site-packages\\sklearn\\utils\\validation.py\u001b[0m in \u001b[0;36minner_f\u001b[1;34m(*args, **kwargs)\u001b[0m\n\u001b[0;32m     61\u001b[0m             \u001b[0mextra_args\u001b[0m \u001b[1;33m=\u001b[0m \u001b[0mlen\u001b[0m\u001b[1;33m(\u001b[0m\u001b[0margs\u001b[0m\u001b[1;33m)\u001b[0m \u001b[1;33m-\u001b[0m \u001b[0mlen\u001b[0m\u001b[1;33m(\u001b[0m\u001b[0mall_args\u001b[0m\u001b[1;33m)\u001b[0m\u001b[1;33m\u001b[0m\u001b[1;33m\u001b[0m\u001b[0m\n\u001b[0;32m     62\u001b[0m             \u001b[1;32mif\u001b[0m \u001b[0mextra_args\u001b[0m \u001b[1;33m<=\u001b[0m \u001b[1;36m0\u001b[0m\u001b[1;33m:\u001b[0m\u001b[1;33m\u001b[0m\u001b[1;33m\u001b[0m\u001b[0m\n\u001b[1;32m---> 63\u001b[1;33m                 \u001b[1;32mreturn\u001b[0m \u001b[0mf\u001b[0m\u001b[1;33m(\u001b[0m\u001b[1;33m*\u001b[0m\u001b[0margs\u001b[0m\u001b[1;33m,\u001b[0m \u001b[1;33m**\u001b[0m\u001b[0mkwargs\u001b[0m\u001b[1;33m)\u001b[0m\u001b[1;33m\u001b[0m\u001b[1;33m\u001b[0m\u001b[0m\n\u001b[0m\u001b[0;32m     64\u001b[0m \u001b[1;33m\u001b[0m\u001b[0m\n\u001b[0;32m     65\u001b[0m             \u001b[1;31m# extra_args > 0\u001b[0m\u001b[1;33m\u001b[0m\u001b[1;33m\u001b[0m\u001b[0m\n",
      "\u001b[1;32m~\\anaconda3\\lib\\site-packages\\sklearn\\utils\\validation.py\u001b[0m in \u001b[0;36mcheck_array\u001b[1;34m(array, accept_sparse, accept_large_sparse, dtype, order, copy, force_all_finite, ensure_2d, allow_nd, ensure_min_samples, ensure_min_features, estimator)\u001b[0m\n\u001b[0;32m    732\u001b[0m         \u001b[0mn_features\u001b[0m \u001b[1;33m=\u001b[0m \u001b[0marray\u001b[0m\u001b[1;33m.\u001b[0m\u001b[0mshape\u001b[0m\u001b[1;33m[\u001b[0m\u001b[1;36m1\u001b[0m\u001b[1;33m]\u001b[0m\u001b[1;33m\u001b[0m\u001b[1;33m\u001b[0m\u001b[0m\n\u001b[0;32m    733\u001b[0m         \u001b[1;32mif\u001b[0m \u001b[0mn_features\u001b[0m \u001b[1;33m<\u001b[0m \u001b[0mensure_min_features\u001b[0m\u001b[1;33m:\u001b[0m\u001b[1;33m\u001b[0m\u001b[1;33m\u001b[0m\u001b[0m\n\u001b[1;32m--> 734\u001b[1;33m             raise ValueError(\"Found array with %d feature(s) (shape=%s) while\"\n\u001b[0m\u001b[0;32m    735\u001b[0m                              \u001b[1;34m\" a minimum of %d is required%s.\"\u001b[0m\u001b[1;33m\u001b[0m\u001b[1;33m\u001b[0m\u001b[0m\n\u001b[0;32m    736\u001b[0m                              % (n_features, array.shape, ensure_min_features,\n",
      "\u001b[1;31mValueError\u001b[0m: Found array with 0 feature(s) (shape=(1, 0)) while a minimum of 1 is required."
     ]
    }
   ],
   "source": [
    "load_model.predict([[]])"
   ]
  },
  {
   "cell_type": "markdown",
   "id": "6a2c7553",
   "metadata": {},
   "source": [
    "# 이슈\n",
    "### 1 데이터셋 화면비율 / 크기\n",
    "### 2 실시간 화면비율 / 크기\n",
    "### 3 지금 스탠드와 스쿼트 정의를 오른쪽 무릎 각도로 지정하였는데 이외에 다른 방법 찾기\n",
    "### 4 "
   ]
  },
  {
   "cell_type": "code",
   "execution_count": null,
   "id": "9cd093af",
   "metadata": {},
   "outputs": [],
   "source": [
    "x"
   ]
  },
  {
   "cell_type": "code",
   "execution_count": 70,
   "id": "45765e5e",
   "metadata": {},
   "outputs": [
    {
     "name": "stderr",
     "output_type": "stream",
     "text": [
      "C:\\Users\\user\\anaconda3\\envs\\health\\lib\\site-packages\\sklearn\\base.py:450: UserWarning: X does not have valid feature names, but LogisticRegression was fitted with feature names\n",
      "  warnings.warn(\n"
     ]
    }
   ],
   "source": [
    "# setup pose_video\n",
    "pose_video = mp_pose.Pose(static_image_mode=False, min_detection_confidence=0.5, model_complexity=1)\n",
    "\n",
    "# setting videocapture with webcam\n",
    "video = cv2.VideoCapture('KakaoTalk_20220321_160112717.mp4')\n",
    "cv2.namedWindow('Pose Detection', cv2.WINDOW_NORMAL)\n",
    "video.set(3,1280)\n",
    "video.set(4,960)\n",
    "time1 = 0\n",
    "count = 0\n",
    "previous_angle = 300\n",
    "x_input = []\n",
    "check_point =0 \n",
    "cla = 'CLASS : None'\n",
    "state = 'stand'\n",
    "\n",
    "# iterate video\n",
    "while video.isOpened():\n",
    "    \n",
    "    # read frame\n",
    "    ok, frame = video.read()\n",
    "    \n",
    "    # read frame x\n",
    "    if not ok:\n",
    "        \n",
    "        continue\n",
    "    \n",
    "    # horizontal flip (selfie) # 좌우반전 1이 좌우반전. 0은 상하반전\n",
    "    frame = cv2.flip(frame, 1)\n",
    "    \n",
    "    # get height & width\n",
    "    frame_height, frame_width, _ =  frame.shape\n",
    "    \n",
    "    # resize frame (keep aspect ratio)\n",
    "    frame = cv2.resize(frame, (int(frame_width * (1920 / frame_height)), 1080))\n",
    "    \n",
    "    # \"detectPose\" model landmark detection\n",
    "    frame, angle = detectPose(frame, pose_video, display = False)\n",
    "    \n",
    "    \n",
    "    if len(angle) != 0:\n",
    "        \n",
    "        r_angle = angle[0]\n",
    "            \n",
    "        if r_angle < 100:\n",
    "            if check_point == 0:\n",
    "                if r_angle > previous_angle:\n",
    "                    state = 'squat'\n",
    "                    pred = load_model.predict([x_input])\n",
    "                    if pred == 0:\n",
    "                        cla = 'CLASS : 0' \n",
    "                    else:\n",
    "                        cla = 'CLASS : 1' \n",
    "            \n",
    "                    check_point = 1\n",
    "             \n",
    "                    \n",
    "    previous_angle = r_angle\n",
    "    x_input = angle\n",
    "\n",
    "    if (state == 'squat') & (r_angle > 165):\n",
    "        count += 1\n",
    "        check_point = 0\n",
    "        state = 'stand'\n",
    "        cla = 'CLASS : None'\n",
    "    \n",
    "    # time set (frame)\n",
    "    time2 = time()\n",
    "\n",
    "    if (time2 - time1) > 0:\n",
    "        frames_per_second = 1.0 / (time2 - time1)\n",
    "        cv2.putText(frame, 'FPS: {}'.format(int(frames_per_second)), (30, 30),cv2.FONT_HERSHEY_PLAIN, 2, (0, 255, 0), 3)\n",
    "        \n",
    "    time1 = time2\n",
    " \n",
    "    cv2.putText(frame, 'COUNT: {}'.format(count), (100, 300) ,cv2.FONT_HERSHEY_PLAIN, 2, (0, 255, 0), 3)\n",
    "    cv2.putText(frame, cla, (100, 100) ,cv2.FONT_HERSHEY_PLAIN, 2, (0, 255, 0), 3)\n",
    "\n",
    "    \n",
    "    # display frame.\n",
    "    cv2.imshow('Pose Detection', frame)\n",
    "    \n",
    "    k = cv2.waitKey(1) & 0xFF\n",
    "    \n",
    "    # close with ESC\n",
    "    if(k == 27):\n",
    "        \n",
    "        break\n",
    "\n",
    "video.release()\n",
    "cv2.destroyAllWindows()"
   ]
  },
  {
   "cell_type": "code",
   "execution_count": null,
   "id": "49b3d42e",
   "metadata": {},
   "outputs": [],
   "source": []
  },
  {
   "cell_type": "code",
   "execution_count": 11,
   "id": "2c07dd10",
   "metadata": {},
   "outputs": [],
   "source": [
    "# setup pose_video\n",
    "pose_video = mp_pose.Pose(static_image_mode=False, min_detection_confidence=0.5, model_complexity=1)\n",
    "\n",
    "# setting videocapture with webcam\n",
    "video = cv2.VideoCapture('KakaoTalk_20220321_160112717.mp4')\n",
    "cv2.namedWindow('Pose Detection', cv2.WINDOW_NORMAL)\n",
    "video.set(3,1280)\n",
    "video.set(4,960)\n",
    "time1 = 0\n",
    "count = 0\n",
    "previous_angle = 300\n",
    "x_input = []\n",
    "check_point =0 \n",
    "cla = 'CLASS : None'\n",
    "state = 'stand'\n",
    "\n",
    "# iterate video\n",
    "while video.isOpened():\n",
    "    \n",
    "    # read frame\n",
    "    ok, frame = video.read()\n",
    "    \n",
    "    # read frame x\n",
    "    if not ok:\n",
    "        \n",
    "        continue\n",
    "    \n",
    "    # horizontal flip (selfie) # 좌우반전 1이 좌우반전. 0은 상하반전\n",
    "    frame = cv2.flip(frame, 1)\n",
    "    \n",
    "    # get height & width\n",
    "    frame_height, frame_width, _ =  frame.shape\n",
    "    \n",
    "    # resize frame (keep aspect ratio)\n",
    "    frame = cv2.resize(frame, (int(frame_width * (1920 / frame_height)), 1080))\n",
    "    \n",
    "    # \"detectPose\" model landmark detection\n",
    "    frame, angle = detectPose(frame, pose_video, display = False)\n",
    "    \n",
    "    \n",
    "    if len(angle) != 0:\n",
    "        \n",
    "        r_angle = angle[0]\n",
    "            \n",
    "        if r_angle < 100:\n",
    "            if check_point == 0:\n",
    "                if r_angle > previous_angle:\n",
    "                    state = 'squat'\n",
    "                    pred = load_model.predict([x_input])\n",
    "                    if pred == 0:\n",
    "                        cla = 'CLASS : 0' \n",
    "                    else:\n",
    "                        cla = 'CLASS : 1' \n",
    "            \n",
    "                    check_point = 1\n",
    "             \n",
    "                    \n",
    "    previous_angle = r_angle\n",
    "    x_input = angle\n",
    "\n",
    "    if (state == 'squat') & (r_angle > 165):\n",
    "        count += 1\n",
    "        check_point = 0\n",
    "        state = 'stand'\n",
    "        cla = 'CLASS : None'\n",
    "    \n",
    "    # time set (frame)\n",
    "    time2 = time()\n",
    "\n",
    "    if (time2 - time1) > 0:\n",
    "        frames_per_second = 1.0 / (time2 - time1)\n",
    "        cv2.putText(frame, 'FPS: {}'.format(int(frames_per_second)), (30, 30),cv2.FONT_HERSHEY_PLAIN, 2, (0, 255, 0), 3)\n",
    "        \n",
    "    time1 = time2\n",
    " \n",
    "    cv2.putText(frame, 'COUNT: {}'.format(count), (100, 300) ,cv2.FONT_HERSHEY_PLAIN, 2, (0, 255, 0), 3)\n",
    "    cv2.putText(frame, cla, (100, 100) ,cv2.FONT_HERSHEY_PLAIN, 2, (0, 255, 0), 3)\n",
    "\n",
    "    \n",
    "    # display frame.\n",
    "    cv2.imshow('Pose Detection', frame)\n",
    "    \n",
    "    k = cv2.waitKey(1) & 0xFF\n",
    "    \n",
    "    # close with ESC\n",
    "    if(k == 27):\n",
    "        \n",
    "        break\n",
    "\n",
    "video.release()\n",
    "cv2.destroyAllWindows()"
   ]
  },
  {
   "cell_type": "code",
   "execution_count": null,
   "id": "e2be9c07",
   "metadata": {},
   "outputs": [],
   "source": [
    "'''\n",
    "# setup pose_video\n",
    "pose_video = mp_pose.Pose(static_image_mode=False, min_detection_confidence=0.5, model_complexity=1)\n",
    "\n",
    "# setting videocapture with webcam\n",
    "video = cv2.VideoCapture('KakaoTalk_20220321_160112717.mp4')\n",
    "cv2.namedWindow('Pose Detection', cv2.WINDOW_NORMAL)\n",
    "video.set(3,1280)\n",
    "video.set(4,960)\n",
    "time1 = 0\n",
    "count = 0\n",
    "a = 200\n",
    "x = []\n",
    "b =0 \n",
    "\n",
    "# iterate video\n",
    "while video.isOpened():\n",
    "    \n",
    "    # read frame\n",
    "    ok, frame = video.read()\n",
    "    \n",
    "    # read frame x\n",
    "    if not ok:\n",
    "        \n",
    "        continue\n",
    "    \n",
    "    # horizontal flip (selfie) # 좌우반전 1이 좌우반전. 0은 상하반전\n",
    "    frame = cv2.flip(frame, 1)\n",
    "    \n",
    "    # get height & width\n",
    "    frame_height, frame_width, _ =  frame.shape\n",
    "    \n",
    "    # resize frame (keep aspect ratio)\n",
    "    frame = cv2.resize(frame, (int(frame_width * (640 / frame_height)), 640))\n",
    "    \n",
    "        if len(angle) != 0:\n",
    "        \n",
    "            r_angle = angle[0]\n",
    "            if angle_right_knee < 165:\n",
    "\n",
    "            if b == 0:\n",
    "                if r_angle > a:\n",
    "                    pred = load_model.predict([x])\n",
    "                    if pred == 0:\n",
    "                        cv2.putText(frame, 'CLASS: 0', (100, 100) ,cv2.FONT_HERSHEY_PLAIN, 2, (0, 255, 0), 3)\n",
    "                        count += 1\n",
    "                    else:\n",
    "                        cv2.putText(frame, 'CLASS: 1', (100, 100) ,cv2.FONT_HERSHEY_PLAIN, 2, (0, 255, 0), 3)\n",
    "                        count += 1\n",
    "            \n",
    "                    b = 1\n",
    "    \n",
    "        a = r_angle\n",
    "        x = angle\n",
    "        \n",
    "    mp_drawing.draw_landmarks(image=output_image, landmark_list=results.pose_landmarks,\n",
    "                                  connections=mp_pose.POSE_CONNECTIONS)\n",
    "    \n",
    "    # time set (frame)\n",
    "    time2 = time()\n",
    "\n",
    "    if (time2 - time1) > 0:\n",
    "        frames_per_second = 1.0 / (time2 - time1)\n",
    "        cv2.putText(frame, 'FPS: {}'.format(int(frames_per_second)), (30, 30),cv2.FONT_HERSHEY_PLAIN, 2, (0, 255, 0), 3)\n",
    "        \n",
    "    time1 = time2\n",
    " \n",
    "    cv2.putText(frame, 'COUNT: {}'.format(count), (100, 300) ,cv2.FONT_HERSHEY_PLAIN, 2, (0, 255, 0), 3)\n",
    "    \n",
    "    \n",
    "    \n",
    "    # display frame.\n",
    "    cv2.imshow('Pose Detection', frame)\n",
    "    \n",
    "    k = cv2.waitKey(1) & 0xFF\n",
    "    \n",
    "    # close with ESC\n",
    "    if(k == 27):\n",
    "        \n",
    "        break\n",
    "\n",
    "video.release()\n",
    "cv2.destroyAllWindows()"
   ]
  }
 ],
 "metadata": {
  "kernelspec": {
   "display_name": "Python 3 (ipykernel)",
   "language": "python",
   "name": "python3"
  },
  "language_info": {
   "codemirror_mode": {
    "name": "ipython",
    "version": 3
   },
   "file_extension": ".py",
   "mimetype": "text/x-python",
   "name": "python",
   "nbconvert_exporter": "python",
   "pygments_lexer": "ipython3",
   "version": "3.9.7"
  }
 },
 "nbformat": 4,
 "nbformat_minor": 5
}
